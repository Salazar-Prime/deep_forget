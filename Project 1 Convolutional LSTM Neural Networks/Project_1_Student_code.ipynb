{
 "cells": [
  {
   "cell_type": "markdown",
   "metadata": {
    "colab_type": "text",
    "id": "bz_KGiHXU_j9"
   },
   "source": [
    "#Student Name: \n",
    "#ECE 595 Machine Learning II\n",
    "#Project 1: CLDNN - Student Code"
   ]
  },
  {
   "cell_type": "code",
   "execution_count": 1,
   "metadata": {
    "colab": {},
    "colab_type": "code",
    "id": "8GT54CknVKs0"
   },
   "outputs": [
    {
     "ename": "ModuleNotFoundError",
     "evalue": "No module named 'keras'",
     "output_type": "error",
     "traceback": [
      "\u001b[1;31m---------------------------------------------------------------------------\u001b[0m",
      "\u001b[1;31mModuleNotFoundError\u001b[0m                       Traceback (most recent call last)",
      "\u001b[1;32m<ipython-input-1-5abc4e2bafa2>\u001b[0m in \u001b[0;36m<module>\u001b[1;34m\u001b[0m\n\u001b[0;32m      1\u001b[0m \u001b[1;31m#Import necessary packages\u001b[0m\u001b[1;33m\u001b[0m\u001b[1;33m\u001b[0m\u001b[1;33m\u001b[0m\u001b[0m\n\u001b[1;32m----> 2\u001b[1;33m \u001b[1;32mimport\u001b[0m \u001b[0mkeras\u001b[0m\u001b[1;33m\u001b[0m\u001b[1;33m\u001b[0m\u001b[0m\n\u001b[0m\u001b[0;32m      3\u001b[0m \u001b[1;32mimport\u001b[0m \u001b[0mnumpy\u001b[0m \u001b[1;32mas\u001b[0m \u001b[0mnp\u001b[0m\u001b[1;33m\u001b[0m\u001b[1;33m\u001b[0m\u001b[0m\n\u001b[0;32m      4\u001b[0m \u001b[1;32mfrom\u001b[0m \u001b[0mkeras\u001b[0m\u001b[1;33m.\u001b[0m\u001b[0mdatasets\u001b[0m \u001b[1;32mimport\u001b[0m \u001b[0mfashion_mnist\u001b[0m\u001b[1;33m\u001b[0m\u001b[1;33m\u001b[0m\u001b[0m\n\u001b[0;32m      5\u001b[0m \u001b[1;32mfrom\u001b[0m \u001b[0mkeras\u001b[0m\u001b[1;33m.\u001b[0m\u001b[0mmodels\u001b[0m \u001b[1;32mimport\u001b[0m \u001b[0mSequential\u001b[0m\u001b[1;33m\u001b[0m\u001b[1;33m\u001b[0m\u001b[0m\n",
      "\u001b[1;31mModuleNotFoundError\u001b[0m: No module named 'keras'"
     ]
    }
   ],
   "source": [
    "#Import necessary packages\n",
    "import keras\n",
    "import numpy as np\n",
    "from keras.datasets import fashion_mnist\n",
    "from keras.models import Sequential\n",
    "from keras.layers import Dense, Conv2D, Flatten, MaxPooling2D, Dropout, Reshape, LSTM\n",
    "import matplotlib.pyplot as plt\n",
    "import cPickle"
   ]
  },
  {
   "cell_type": "markdown",
   "metadata": {
    "colab_type": "text",
    "id": "xCZj_eY9Vi-R"
   },
   "source": [
    "#Part 0: Importing and normalizing data"
   ]
  },
  {
   "cell_type": "code",
   "execution_count": null,
   "metadata": {
    "colab": {},
    "colab_type": "code",
    "id": "ass5riibVnL9"
   },
   "outputs": [],
   "source": [
    "#Import dataset and normalize to [0,1]\n",
    "#Has shape (num_samples, 28, 28)\n",
    "(data_train, labels_train), (data_test, labels_test) = fashion_mnist.load_data()\n",
    "data_train = data_train/255.0\n",
    "data_test = data_test/255.0\n",
    "data_train = data_train.reshape(60000, 28, 28, 1)\n",
    "data_test = data_test.reshape(10000, 28, 28, 1)\n",
    "\n",
    "#Create labels as one-hot vectors\n",
    "#labels_train and labels_test have shapes (60000, 10) and (10000 10,) respectively\n",
    "labels_train = keras.utils.np_utils.to_categorical(labels_train, num_classes=10)\n",
    "labels_test = keras.utils.np_utils.to_categorical(labels_test, num_classes=10)"
   ]
  },
  {
   "cell_type": "markdown",
   "metadata": {
    "colab_type": "text",
    "id": "372Co-fUV1fD"
   },
   "source": [
    "#Part 1: Plotting cross entropy"
   ]
  },
  {
   "cell_type": "code",
   "execution_count": null,
   "metadata": {
    "colab": {},
    "colab_type": "code",
    "id": "GJJ0b7Z2V5h4"
   },
   "outputs": [],
   "source": [
    "#Show cross-entropy loss function\n",
    "\n",
    "#FILL THIS CODE BLOCK IN AND PRODUCE PLOT"
   ]
  },
  {
   "cell_type": "markdown",
   "metadata": {
    "colab_type": "text",
    "id": "dsGXDCdf4-zc"
   },
   "source": [
    "Answer the following questions:\n",
    "\n",
    "\n",
    "1.   How is the the negative log-likelihood of p affected when p is small? How about when p is large?\n",
    "\n",
    "  ANS: \n",
    "\n",
    "2.   Why does the behavior of the negative log-likelihood function make it a good objective function for a minimization problem specifically when the output can be interpreted as a probability space?\n",
    "\n",
    "  ANS: \n",
    "\n",
    "\n"
   ]
  },
  {
   "cell_type": "markdown",
   "metadata": {
    "colab_type": "text",
    "id": "_uF9StudWHXQ"
   },
   "source": [
    "#Part 2: Overfit CNN"
   ]
  },
  {
   "cell_type": "code",
   "execution_count": null,
   "metadata": {
    "colab": {},
    "colab_type": "code",
    "id": "oMko5jJkWJLp"
   },
   "outputs": [],
   "source": [
    "#Create and train model architecture\n",
    "def CNN_overfit():\n",
    "    #Easiest way to build model in Keras is using Squential. It allows models to \n",
    "    #be built layer by layer as we will do here\n",
    "    model = Sequential()\n",
    "    \n",
    "    #FILL THIS IN WITH MODEL ARCHITECTURE\n",
    "\n",
    "    return model\n",
    "\n",
    "#Create instance of CNN model graph\n",
    "CNN_overfit = CNN_overfit()\n",
    "\n",
    "#Compile model using an appropriate loss and optimizer algorithm\n",
    "#FILL THIS IN\n",
    "\n",
    "#Train the model and assign training meta-data to a variable\n",
    "#FILL THIS IN\n",
    "\n",
    "#Print accuracy of model on testing set after training \n",
    "#FILL THIS IN"
   ]
  },
  {
   "cell_type": "code",
   "execution_count": null,
   "metadata": {
    "colab": {},
    "colab_type": "code",
    "id": "EqT3SVgAWVtT"
   },
   "outputs": [],
   "source": [
    "#Plot accuracy vs epoch\n",
    "#FILL THIS CODE BLOCK IN AND PRODUCE PLOT\n"
   ]
  },
  {
   "cell_type": "code",
   "execution_count": null,
   "metadata": {
    "colab": {},
    "colab_type": "code",
    "id": "tKnbIsWgZDaG"
   },
   "outputs": [],
   "source": [
    "#Plot loss vs epoch\n",
    "#FILL THIS CODE BLOCK IN AND PRODUCE PLOT"
   ]
  },
  {
   "cell_type": "markdown",
   "metadata": {
    "colab_type": "text",
    "id": "PWK1Tv117Gol"
   },
   "source": [
    "Answer the following questions: \n",
    "\n",
    "\n",
    "\n",
    "1.   What does the loss of the training set go to? \n",
    "\n",
    "  ANS: \n",
    "\n",
    "2.   What does the loss of the testing set go to? \n",
    "\n",
    "  ANS: \n",
    "  \n",
    "3.   What is the reason for the discrepancy between the training and testing set loss? \n",
    "\n",
    "  ANS:\n",
    "\n",
    "4.   Explain why the accuracy of the testing set, after training, differs so much from the testing set regardless of achieving high training accuracy. Name two ways to avoid this. \n",
    "\n",
    "  ANS: "
   ]
  },
  {
   "cell_type": "markdown",
   "metadata": {
    "colab_type": "text",
    "id": "5QhQ4ZXGcZJf"
   },
   "source": [
    "#Part 3: Dropout on input layer"
   ]
  },
  {
   "cell_type": "code",
   "execution_count": null,
   "metadata": {
    "colab": {},
    "colab_type": "code",
    "id": "mS3EfyKCcbtB"
   },
   "outputs": [],
   "source": [
    "#Create and train model architecture\n",
    "def CNN_dropout_in():\n",
    "    model = Sequential()\n",
    "\n",
    "    #FILL THIS IN WITH MODEL ARCHITECTURE\n",
    "    \n",
    "    return model\n",
    "\n",
    "#Create instance of CNN model graph\n",
    "CNN_dropout_in = CNN_dropout_in()\n",
    "\n",
    "#Compile model using an appropriate loss and optimizer algorithm\n",
    "#FILL THIS IN\n",
    "\n",
    "#Train the model and assign training meta-data to a variable\n",
    "#FILL THIS IN\n",
    "\n",
    "#Print accuracy of model on testing set after training \n",
    "#FILL THIS IN"
   ]
  },
  {
   "cell_type": "code",
   "execution_count": null,
   "metadata": {
    "colab": {},
    "colab_type": "code",
    "id": "e5aoDt8Eck9e"
   },
   "outputs": [],
   "source": [
    "#Plot accuracy vs epoch\n",
    "#FILL THIS CODE BLOCK IN AND PRODUCE PLOT"
   ]
  },
  {
   "cell_type": "code",
   "execution_count": null,
   "metadata": {
    "colab": {},
    "colab_type": "code",
    "id": "LgEVvXC1cyEY"
   },
   "outputs": [],
   "source": [
    "#Plot loss vs epoch\n",
    "#FILL THIS CODE BLOCK IN AND PRODUCE PLOT"
   ]
  },
  {
   "cell_type": "markdown",
   "metadata": {
    "colab_type": "text",
    "id": "FthASFFA_Mnv"
   },
   "source": [
    "Answer the following questions: \n",
    "\n",
    "\n",
    "\n",
    "1.   What does the loss of the training set go to? \n",
    "\n",
    "  ANS: \n",
    "  \n",
    "2.   What does the loss of the testing set go to? \n",
    "\n",
    "  ANS: \n",
    "\n",
    "3.   Why is the loss of the training set so different from the loss of the testing set regardless of using dropout? \n",
    "\n",
    "  ANS:"
   ]
  },
  {
   "cell_type": "markdown",
   "metadata": {
    "colab_type": "text",
    "id": "2P2qmzu_c91_"
   },
   "source": [
    "#Part 4-I: Dropout on Hidden Layers"
   ]
  },
  {
   "cell_type": "code",
   "execution_count": null,
   "metadata": {
    "colab": {},
    "colab_type": "code",
    "id": "wIhRZhmwdAOk"
   },
   "outputs": [],
   "source": [
    "#Create and train model architecture\n",
    "def CNN_dropout_hidden():\n",
    "    model = Sequential()\n",
    "\n",
    "    #FILL THIS IN WITH MODEL ARCHITECTURE\n",
    "    \n",
    "    return model\n",
    "\n",
    "#Create instance of CNN model graph\n",
    "CNN_dropout_hidden = CNN_dropout_hidden()\n",
    "\n",
    "#Compile model using an appropriate loss and optimizer algorithm\n",
    "#FILL THIS IN\n",
    "\n",
    "#Train the model and assign training meta-data to a variable\n",
    "#FILL THIS IN\n",
    "\n",
    "#Print accuracy of model on testing set after training \n",
    "#FILL THIS IN"
   ]
  },
  {
   "cell_type": "code",
   "execution_count": null,
   "metadata": {
    "colab": {},
    "colab_type": "code",
    "id": "YmAK5EDqdH-Y"
   },
   "outputs": [],
   "source": [
    "#Plot accuracy vs epoch\n",
    "#FILL THIS CODE BLOCK IN AND PRODUCE PLOT"
   ]
  },
  {
   "cell_type": "code",
   "execution_count": null,
   "metadata": {
    "colab": {},
    "colab_type": "code",
    "id": "KsYl9g3tdK5o"
   },
   "outputs": [],
   "source": [
    "#Plot loss vs epoch\n",
    "#FILL THIS CODE BLOCK IN AND PRODUCE PLOT"
   ]
  },
  {
   "cell_type": "markdown",
   "metadata": {
    "colab_type": "text",
    "id": "5mmDCmQvAsuS"
   },
   "source": [
    "Answer the following questions:\n",
    "\n",
    "\n",
    "\n",
    "1.   What does the loss of the training set go to? \n",
    "\n",
    "  ANS: \n",
    "  \n",
    "2.   What does the loss of the testing set go to? \n",
    "\n",
    "  ANS: \n",
    "\n",
    "3.   Why was using dropout more effective here in comparison to the architecture in Part 3? \n",
    "\n",
    "  ANS: \n",
    "  \n",
    "4.   What is the difference in accuracy, after training, between the training and testing set? Is the model a good fit for the data? \n",
    "\n",
    "  ANS: "
   ]
  },
  {
   "cell_type": "markdown",
   "metadata": {
    "colab_type": "text",
    "id": "L1QJu0Y4dUKj"
   },
   "source": [
    "#Part 4-II [Sub-Question 5]: Dropout on Input and Hidden Layers"
   ]
  },
  {
   "cell_type": "code",
   "execution_count": null,
   "metadata": {
    "colab": {},
    "colab_type": "code",
    "id": "we62eVHLde0f"
   },
   "outputs": [],
   "source": [
    "#Create and train model architecture\n",
    "def CNN_dropout_both():\n",
    "\n",
    "    #Easiest way to build model in Keras is using Squential. It allows model to be build layer by layer as we will do here\n",
    "    model = Sequential()\n",
    "\n",
    "    #FILL THIS IN WITH MODEL ARCHITECTURE\n",
    "    \n",
    "    return model\n",
    "\n",
    "\n",
    "#Create instance of CNN model graph\n",
    "CNN_dropout_both = CNN_dropout_both()\n",
    "\n",
    "#Compile model using an appropriate loss and optimizer algorithm\n",
    "#FILL THIS IN\n",
    "\n",
    "#Train the model and assign training meta-data to a variable\n",
    "#FILL THIS IN\n",
    "\n",
    "#Print accuracy of model on testing set after training \n",
    "#FILL THIS IN"
   ]
  },
  {
   "cell_type": "code",
   "execution_count": null,
   "metadata": {
    "colab": {},
    "colab_type": "code",
    "id": "uqpDuw-mdlcJ"
   },
   "outputs": [],
   "source": [
    "#Plot accuracy vs epoch\n",
    "#FILL THIS CODE BLOCK IN AND PRODUCE PLOT"
   ]
  },
  {
   "cell_type": "code",
   "execution_count": null,
   "metadata": {
    "colab": {},
    "colab_type": "code",
    "id": "Nmz-pmardo6J"
   },
   "outputs": [],
   "source": [
    "#Plot loss vs epoch\n",
    "#FILL THIS CODE BLOCK IN AND PRODUCE PLOT"
   ]
  },
  {
   "cell_type": "markdown",
   "metadata": {
    "colab_type": "text",
    "id": "LQ985f21De-W"
   },
   "source": [
    "Answer the following questions: \n",
    "\n",
    "1.   What does the loss of the training set go to? \n",
    "\n",
    "  ANS: \n",
    "  \n",
    "2.   What does the loss of the testing set go to? \n",
    "\n",
    "  ANS:\n",
    "  \n",
    "3.   What is the difference in accuracy, after training, between the training and testing set?  \n",
    "\n",
    "  ANS: \n",
    "\n",
    "4.   Compare results in 4 with results in 5. Comment on robustness and accuracy.\n",
    "\n",
    "  ANS:"
   ]
  },
  {
   "cell_type": "markdown",
   "metadata": {
    "colab_type": "text",
    "id": "C60C05uR7KFF"
   },
   "source": [
    "#Part 5 : Activation Functions"
   ]
  },
  {
   "cell_type": "code",
   "execution_count": null,
   "metadata": {
    "colab": {},
    "colab_type": "code",
    "id": "Wja8Smy27XlL"
   },
   "outputs": [],
   "source": [
    "#Create and train model architecture\n",
    "def CNN_dropout_both_act():\n",
    "\n",
    "    #Easiest way to build model in Keras is using Squential. It allows model to be build layer by layer as we will do here\n",
    "    model = Sequential()\n",
    "\n",
    "    #FILL THIS IN WITH MODEL ARCHITECTURE   # use 'sigmoid' for point 1 and use 'tanh' for point 2\n",
    "    \n",
    "    return model\n",
    "\n",
    "\n",
    "#Create instance of CNN model graph\n",
    "CNN_dropout_both_act = CNN_dropout_both_act()\n",
    "\n",
    "#Compile model using an appropriate loss and optimizer algorithm\n",
    "#FILL THIS IN\n",
    "\n",
    "#Train the model and assign training meta-data to a variable\n",
    "#FILL THIS IN\n",
    "\n",
    "#Print accuracy of model on testing set after training \n",
    "#FILL THIS IN"
   ]
  },
  {
   "cell_type": "code",
   "execution_count": null,
   "metadata": {
    "colab": {},
    "colab_type": "code",
    "id": "zF2KktB47cdN"
   },
   "outputs": [],
   "source": [
    "#Plot accuracy vs epoch\n",
    "#FILL THIS CODE BLOCK IN AND PRODUCE PLOT"
   ]
  },
  {
   "cell_type": "code",
   "execution_count": null,
   "metadata": {
    "colab": {},
    "colab_type": "code",
    "id": "bipO8J6a7gmz"
   },
   "outputs": [],
   "source": [
    "#Plot loss vs epoch\n",
    "#FILL THIS CODE BLOCK IN AND PRODUCE PLOT"
   ]
  },
  {
   "cell_type": "markdown",
   "metadata": {
    "colab_type": "text",
    "id": "ZJ_QzwdN74Kj"
   },
   "source": [
    "Answer the following questions: \n",
    "\n",
    "1-c.   Compare the above results with softmax results (with point 5 results of Part 4-II)\n",
    "\n",
    "  ANS:\n",
    "  \n",
    "2-a.   Does ‘tanh’ as output activation work with Cross-entropy loss?\n",
    "\n",
    "  ANS:\n",
    "\n",
    "2-b.   Give a reason why tanh is not recommended with cross entropy loss?\n",
    "\n",
    "  ANS: \n",
    "\n",
    "2-c.   Give a reason why sigmoid does not cause problem as tanh with Cross entropy loss?\n",
    "\n",
    "  ANS: \n"
   ]
  },
  {
   "cell_type": "markdown",
   "metadata": {
    "colab_type": "text",
    "id": "XL3M_r3Sd2oI"
   },
   "source": [
    "#Part 6: Creating a CLDNN"
   ]
  },
  {
   "cell_type": "markdown",
   "metadata": {
    "colab_type": "text",
    "id": "enhoZBkdnhcz"
   },
   "source": [
    "Run the code in the block below 'as is.' After executing, the high SNR RadioML training and testing data will be stored in the arrays X_train and X_test, respectively. Their respective one-hot labels will be stored in Y_train and Y_test. "
   ]
  },
  {
   "cell_type": "code",
   "execution_count": null,
   "metadata": {
    "colab": {},
    "colab_type": "code",
    "id": "DFbDIRH_Nn2C"
   },
   "outputs": [],
   "source": [
    "#Download RML 2016.10b dataset and untar file\n",
    "!wget http://opendata.deepsig.io/datasets/2016.10/RML2016.10b.tar.bz2\n",
    "!tar -xvjf RML2016.10b.tar.bz2\n",
    "\n",
    "#Extract high SNR data and obtain their corresponding lables \n",
    "Xd = cPickle.load(open(\"RML2016.10b.dat\",'rb'))\n",
    "snrs,mods = map(lambda j: sorted(list(set(map(lambda x: x[j], Xd.keys())))), [1,0])\n",
    "X = []\n",
    "lbl = []\n",
    "for mod in mods:\n",
    "    for snr in snrs:\n",
    "        if snr > 0:\n",
    "            X.append(Xd[(mod,snr)])\n",
    "            for i in range(Xd[(mod,snr)].shape[0]):  lbl.append((mod,snr))\n",
    "X = np.vstack(X)\n",
    "\n",
    "np.random.seed(2016)\n",
    "n_examples = X.shape[0]\n",
    "n_train = n_examples * 0.8\n",
    "n_train = int(n_train)\n",
    "train_idx = np.random.choice(range(0,n_examples), size=n_train, replace=False)\n",
    "test_idx = list(set(range(0,n_examples))-set(train_idx))\n",
    "X_train = X[train_idx]\n",
    "X_test =  X[test_idx]\n",
    "def to_onehot(yy):\n",
    "    yy1 = np.zeros([len(yy), max(yy)+1])\n",
    "    yy1[np.arange(len(yy)),yy] = 1\n",
    "    return yy1\n",
    "Y_train = to_onehot(map(lambda x: mods.index(lbl[x][0]), train_idx))\n",
    "Y_test = to_onehot(map(lambda x: mods.index(lbl[x][0]), test_idx))\n",
    "\n",
    "#Re-shape data to appropriate dimensions \n",
    "X_train = X_train.reshape(432000, 2, 128, 1)\n",
    "X_test = X_test.reshape(108000, 2, 128, 1)"
   ]
  },
  {
   "cell_type": "code",
   "execution_count": null,
   "metadata": {
    "colab": {},
    "colab_type": "code",
    "id": "FWjIxEpGgsrY"
   },
   "outputs": [],
   "source": [
    "#Create and train model architecture\n",
    "def cldnn():\n",
    "    model = Sequential()\n",
    "    \n",
    "    #FILL THIS IN WITH MODEL ARCHITECTURE\n",
    "    \n",
    "    return model\n",
    "\n",
    "#Create instance of CNN model graph\n",
    "CNN_overfit = CNN_overfit()\n",
    "\n",
    "#Compile model using an appropriate loss and optimizer algorithm\n",
    "#FILL THIS IN\n",
    "\n",
    "#Train the model and assign training meta-data to a variable\n",
    "#FILL THIS IN\n",
    "\n",
    "#Print accuracy of model on testing set after training \n",
    "#FILL THIS IN"
   ]
  },
  {
   "cell_type": "code",
   "execution_count": null,
   "metadata": {
    "colab": {},
    "colab_type": "code",
    "id": "HmeOrC3igzR1"
   },
   "outputs": [],
   "source": [
    "#Plot accuracy vs epoch\n",
    "#FILL THIS CODE BLOCK IN AND PRODUCE PLOT"
   ]
  },
  {
   "cell_type": "code",
   "execution_count": null,
   "metadata": {
    "colab": {},
    "colab_type": "code",
    "id": "8wdPg2GJg28R"
   },
   "outputs": [],
   "source": [
    "#Plot loss vs epoch\n",
    "#FILL THIS CODE BLOCK IN AND PRODUCE PLOT"
   ]
  },
  {
   "cell_type": "markdown",
   "metadata": {
    "colab_type": "text",
    "id": "cOeEmHptEwwU"
   },
   "source": [
    "Answer the following questions: \n",
    "\n",
    "\n",
    "\n",
    "1.   Is this model a good fit for the data?  \n",
    "\n",
    "  ANS: \n",
    "\n",
    "2.   Give two ways to improve the robustness of the model.\n",
    "\n",
    "  ANS: "
   ]
  }
 ],
 "metadata": {
  "accelerator": "GPU",
  "colab": {
   "collapsed_sections": [],
   "name": "Project_1_Student_code.ipynb",
   "provenance": [],
   "toc_visible": true
  },
  "kernelspec": {
   "display_name": "for_jupyter",
   "language": "python",
   "name": "for_jupyter"
  },
  "language_info": {
   "codemirror_mode": {
    "name": "ipython",
    "version": 3
   },
   "file_extension": ".py",
   "mimetype": "text/x-python",
   "name": "python",
   "nbconvert_exporter": "python",
   "pygments_lexer": "ipython3",
   "version": "3.7.7"
  }
 },
 "nbformat": 4,
 "nbformat_minor": 1
}
