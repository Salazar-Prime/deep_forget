{
 "cells": [
  {
   "cell_type": "markdown",
   "metadata": {
    "colab_type": "text",
    "id": "NiZYmbLsCx8C"
   },
   "source": [
    "* Student Name: Varun Aggarwal\n",
    "* ECE 595 Machine Learning II\n",
    "* Project 4: Adversarial Machine Learning - Student Code"
   ]
  },
  {
   "cell_type": "code",
   "execution_count": 1,
   "metadata": {
    "colab": {},
    "colab_type": "code",
    "id": "mVKiKyxvrDio"
   },
   "outputs": [
    {
     "name": "stderr",
     "output_type": "stream",
     "text": [
      "Using TensorFlow backend.\n"
     ]
    },
    {
     "name": "stdout",
     "output_type": "stream",
     "text": [
      "tf.estimator package not installed.\n",
      "tf.estimator package not installed.\n"
     ]
    }
   ],
   "source": [
    "#Import necessary packages\n",
    "from keras.datasets import mnist\n",
    "from keras import Sequential\n",
    "from keras.layers import Dense, BatchNormalization\n",
    "from keras import backend\n",
    "import keras\n",
    "import tensorflow as tf\n",
    "import numpy as np\n",
    "import matplotlib.pyplot as plt\n",
    "from sklearn.decomposition import PCA\n",
    "from cleverhans.utils_keras import KerasModelWrapper\n",
    "from cleverhans.attacks import FastGradientMethod, MadryEtAl, DeepFool, CarliniWagnerL2"
   ]
  },
  {
   "cell_type": "markdown",
   "metadata": {
    "colab_type": "text",
    "id": "AR7lUPK3rL3d"
   },
   "source": [
    "# Part 1: Training a target classifier"
   ]
  },
  {
   "cell_type": "code",
   "execution_count": 24,
   "metadata": {
    "colab": {},
    "colab_type": "code",
    "id": "dRvltpU9rMZp",
    "scrolled": true
   },
   "outputs": [
    {
     "name": "stdout",
     "output_type": "stream",
     "text": [
      "Train on 60000 samples, validate on 10000 samples\n",
      "Epoch 1/50\n",
      " - 5s - loss: 0.3437 - acc: 0.9098 - val_loss: 0.1419 - val_acc: 0.9592\n",
      "Epoch 2/50\n",
      " - 4s - loss: 0.1121 - acc: 0.9668 - val_loss: 0.1038 - val_acc: 0.9695\n",
      "Epoch 3/50\n",
      " - 4s - loss: 0.0737 - acc: 0.9780 - val_loss: 0.0981 - val_acc: 0.9705\n",
      "Epoch 4/50\n",
      " - 4s - loss: 0.0535 - acc: 0.9839 - val_loss: 0.0857 - val_acc: 0.9752\n",
      "Epoch 5/50\n",
      " - 4s - loss: 0.0398 - acc: 0.9878 - val_loss: 0.0803 - val_acc: 0.9748\n",
      "Epoch 6/50\n",
      " - 4s - loss: 0.0318 - acc: 0.9904 - val_loss: 0.0826 - val_acc: 0.9748\n",
      "Epoch 7/50\n",
      " - 4s - loss: 0.0259 - acc: 0.9920 - val_loss: 0.0881 - val_acc: 0.9757\n",
      "Epoch 8/50\n",
      " - 4s - loss: 0.0183 - acc: 0.9945 - val_loss: 0.0850 - val_acc: 0.9752\n",
      "Epoch 9/50\n",
      " - 4s - loss: 0.0155 - acc: 0.9953 - val_loss: 0.0871 - val_acc: 0.9774\n",
      "Epoch 10/50\n",
      " - 4s - loss: 0.0139 - acc: 0.9957 - val_loss: 0.0847 - val_acc: 0.9769\n",
      "Epoch 11/50\n",
      " - 4s - loss: 0.0131 - acc: 0.9960 - val_loss: 0.0946 - val_acc: 0.9753\n",
      "Epoch 12/50\n",
      " - 4s - loss: 0.0101 - acc: 0.9971 - val_loss: 0.0947 - val_acc: 0.9754\n",
      "Epoch 13/50\n",
      " - 4s - loss: 0.0104 - acc: 0.9969 - val_loss: 0.0962 - val_acc: 0.9761\n",
      "Epoch 14/50\n",
      " - 4s - loss: 0.0113 - acc: 0.9964 - val_loss: 0.1056 - val_acc: 0.9741\n",
      "Epoch 15/50\n",
      " - 4s - loss: 0.0097 - acc: 0.9969 - val_loss: 0.1059 - val_acc: 0.9748\n",
      "Epoch 16/50\n",
      " - 4s - loss: 0.0064 - acc: 0.9980 - val_loss: 0.0995 - val_acc: 0.9759\n",
      "Epoch 17/50\n",
      " - 4s - loss: 0.0058 - acc: 0.9984 - val_loss: 0.1027 - val_acc: 0.9770\n",
      "Epoch 18/50\n",
      " - 4s - loss: 0.0074 - acc: 0.9979 - val_loss: 0.1050 - val_acc: 0.9775\n",
      "Epoch 19/50\n",
      " - 4s - loss: 0.0069 - acc: 0.9979 - val_loss: 0.1064 - val_acc: 0.9751\n",
      "Epoch 20/50\n",
      " - 4s - loss: 0.0069 - acc: 0.9979 - val_loss: 0.1219 - val_acc: 0.9734\n",
      "Epoch 21/50\n",
      " - 4s - loss: 0.0084 - acc: 0.9974 - val_loss: 0.1134 - val_acc: 0.9751\n",
      "Epoch 22/50\n",
      " - 4s - loss: 0.0074 - acc: 0.9976 - val_loss: 0.1084 - val_acc: 0.9775\n",
      "Epoch 23/50\n",
      " - 4s - loss: 0.0051 - acc: 0.9986 - val_loss: 0.1057 - val_acc: 0.9769\n",
      "Epoch 24/50\n",
      " - 4s - loss: 0.0056 - acc: 0.9982 - val_loss: 0.0991 - val_acc: 0.9791\n",
      "Epoch 25/50\n",
      " - 4s - loss: 0.0038 - acc: 0.9989 - val_loss: 0.1041 - val_acc: 0.9776\n",
      "Epoch 26/50\n",
      " - 4s - loss: 0.0046 - acc: 0.9986 - val_loss: 0.1104 - val_acc: 0.9760\n",
      "Epoch 27/50\n",
      " - 4s - loss: 0.0068 - acc: 0.9977 - val_loss: 0.1175 - val_acc: 0.9760\n",
      "Epoch 28/50\n",
      " - 4s - loss: 0.0061 - acc: 0.9980 - val_loss: 0.1055 - val_acc: 0.9775\n",
      "Epoch 29/50\n",
      " - 4s - loss: 0.0043 - acc: 0.9987 - val_loss: 0.1061 - val_acc: 0.9785\n",
      "Epoch 30/50\n",
      " - 4s - loss: 0.0069 - acc: 0.9977 - val_loss: 0.1173 - val_acc: 0.9759\n",
      "Epoch 31/50\n",
      " - 4s - loss: 0.0065 - acc: 0.9979 - val_loss: 0.1090 - val_acc: 0.9762\n",
      "Epoch 32/50\n",
      " - 4s - loss: 0.0038 - acc: 0.9987 - val_loss: 0.1060 - val_acc: 0.9775\n",
      "Epoch 33/50\n",
      " - 4s - loss: 0.0035 - acc: 0.9989 - val_loss: 0.1184 - val_acc: 0.9770\n",
      "Epoch 34/50\n",
      " - 4s - loss: 0.0022 - acc: 0.9994 - val_loss: 0.1135 - val_acc: 0.9780\n",
      "Epoch 35/50\n",
      " - 4s - loss: 0.0034 - acc: 0.9990 - val_loss: 0.1181 - val_acc: 0.9759\n",
      "Epoch 36/50\n",
      " - 4s - loss: 0.0041 - acc: 0.9985 - val_loss: 0.1225 - val_acc: 0.9771\n",
      "Epoch 37/50\n",
      " - 4s - loss: 0.0073 - acc: 0.9977 - val_loss: 0.1124 - val_acc: 0.9781\n",
      "Epoch 38/50\n",
      " - 4s - loss: 0.0050 - acc: 0.9983 - val_loss: 0.1246 - val_acc: 0.9752\n",
      "Epoch 39/50\n",
      " - 4s - loss: 0.0032 - acc: 0.9990 - val_loss: 0.1167 - val_acc: 0.9774\n",
      "Epoch 40/50\n",
      " - 4s - loss: 0.0015 - acc: 0.9996 - val_loss: 0.1145 - val_acc: 0.9790\n",
      "Epoch 41/50\n",
      " - 4s - loss: 0.0020 - acc: 0.9993 - val_loss: 0.1215 - val_acc: 0.9774\n",
      "Epoch 42/50\n",
      " - 4s - loss: 0.0038 - acc: 0.9988 - val_loss: 0.1147 - val_acc: 0.9768\n",
      "Epoch 43/50\n",
      " - 4s - loss: 0.0044 - acc: 0.9986 - val_loss: 0.1182 - val_acc: 0.9772\n",
      "Epoch 44/50\n",
      " - 4s - loss: 0.0050 - acc: 0.9983 - val_loss: 0.1191 - val_acc: 0.9780\n",
      "Epoch 45/50\n",
      " - 4s - loss: 0.0040 - acc: 0.9986 - val_loss: 0.1279 - val_acc: 0.9760\n",
      "Epoch 46/50\n",
      " - 4s - loss: 0.0049 - acc: 0.9983 - val_loss: 0.1292 - val_acc: 0.9777\n",
      "Epoch 47/50\n",
      " - 4s - loss: 0.0024 - acc: 0.9993 - val_loss: 0.1267 - val_acc: 0.9767\n",
      "Epoch 48/50\n",
      " - 4s - loss: 0.0015 - acc: 0.9996 - val_loss: 0.1203 - val_acc: 0.9781\n",
      "Epoch 49/50\n",
      " - 4s - loss: 6.8794e-04 - acc: 0.9999 - val_loss: 0.1193 - val_acc: 0.9783\n",
      "Epoch 50/50\n",
      " - 4s - loss: 5.6049e-04 - acc: 0.9999 - val_loss: 0.1213 - val_acc: 0.9782\n"
     ]
    }
   ],
   "source": [
    "# Load data MNIST data and normalize to [0, 1]\n",
    "#FILL THIS IN\n",
    "(data_train, labels_train), (data_test, labels_test) = mnist.load_data()\n",
    "data_train = data_train/255.0\n",
    "data_test = data_test/255.0\n",
    "\n",
    "#Reshape training and testing data into 784-dimensional vectors \n",
    "#FILL THIS IN\n",
    "data_train = data_train.reshape(-1,784)\n",
    "data_test = data_test.reshape(-1,784)\n",
    "\n",
    "#Convert integer labels for training and testing data into one-hot vectors \n",
    "#FILL THIS IN\n",
    "labels_train = keras.utils.np_utils.to_categorical(labels_train, num_classes=10)\n",
    "labels_test = keras.utils.np_utils.to_categorical(labels_test, num_classes=10)\n",
    "\n",
    "#Create classifier architecture, compile it, and train it\n",
    "#FILL THIS IN\n",
    "model = Sequential()\n",
    "model.add(Dense(100, input_dim=784, name=\"input\", activation=\"relu\", kernel_initializer=\"normal\"))\n",
    "model.add(BatchNormalization())\n",
    "model.add(Dense(100, activation=\"relu\", kernel_initializer=\"normal\"))\n",
    "model.add(BatchNormalization())\n",
    "model.add(Dense(10, activation=\"softmax\", kernel_initializer=\"normal\"))\n",
    "model.compile(loss=\"categorical_crossentropy\", metrics=['accuracy'], optimizer=\"adam\")\n",
    "hist = model.fit(data_train, labels_train, validation_data=(data_test, labels_test),shuffle=True,epochs=50,batch_size=256, verbose=2) "
   ]
  },
  {
   "cell_type": "code",
   "execution_count": 27,
   "metadata": {
    "colab": {},
    "colab_type": "code",
    "id": "uOsXwFOvrs14"
   },
   "outputs": [
    {
     "data": {
      "image/png": "[encoded data removed]",
      "text/plain": [
       "<Figure size 432x288 with 1 Axes>"
      ]
     },
     "metadata": {
      "needs_background": "light"
     },
     "output_type": "display_data"
    }
   ],
   "source": [
    "#Plot loss vs epoch\n",
    "#FILL THIS IN\n",
    "plt.plot(range(1,51),hist.history['loss'])\n",
    "plt.plot(range(1,51),hist.history['val_loss'])\n",
    "plt.title(\"Loss vs Epoch\")\n",
    "plt.xlabel(\"Epochs\")\n",
    "plt.ylabel(\"Loss\")\n",
    "plt.legend(['Training Loss','Validation Loss'])\n",
    "plt.grid(True)"
   ]
  },
  {
   "cell_type": "code",
   "execution_count": 28,
   "metadata": {
    "colab": {},
    "colab_type": "code",
    "id": "4C4mOVvSr4KP"
   },
   "outputs": [
    {
     "data": {
      "image/png": "[encoded data removed]",
      "text/plain": [
       "<Figure size 432x288 with 1 Axes>"
      ]
     },
     "metadata": {
      "needs_background": "light"
     },
     "output_type": "display_data"
    }
   ],
   "source": [
    "#Plot accuracy vs epoch\n",
    "#FILL THIS IN\n",
    "plt.plot(range(1,51),hist.history['acc'])\n",
    "plt.plot(range(1,51),hist.history['val_acc'])\n",
    "plt.title(\"Accuracy vs Epoch\")\n",
    "plt.xlabel(\"Epochs\")\n",
    "plt.ylim(0,1.1)\n",
    "plt.ylabel(\"Accuracies\")\n",
    "plt.legend(['Training Accuracy','Validation Accuracy'])\n",
    "plt.grid(True)"
   ]
  },
  {
   "cell_type": "code",
   "execution_count": 29,
   "metadata": {
    "colab": {},
    "colab_type": "code",
    "id": "gr53zDpTr5wO"
   },
   "outputs": [
    {
     "name": "stdout",
     "output_type": "stream",
     "text": [
      "10000/10000 [==============================] - 0s 38us/step\n",
      "Test Accuracy: 97.82%\n"
     ]
    }
   ],
   "source": [
    "#Print accuracy of classifier on MNIST testing data\n",
    "#FILL THIS IN\n",
    "backend.set_learning_phase(1)\n",
    "[test_loss,test_acc] = model.evaluate(data_test, labels_test, batch_size = 256)\n",
    "print(\"Test Accuracy: {:0.2f}%\".format(test_acc*100))"
   ]
  },
  {
   "cell_type": "code",
   "execution_count": 30,
   "metadata": {
    "colab": {},
    "colab_type": "code",
    "id": "YEcrqpjas3Xh"
   },
   "outputs": [],
   "source": [
    "# Edit the classifier name fed into KerasModel Wrapper with the name of the \n",
    "# classifier from above and then run this block\n",
    "\n",
    "#Get TensorFlow Session to pass into Cleverhans modules\n",
    "sess = backend.get_session()\n",
    "\n",
    "#Create wrapper for classifier model so that it can be passed into Cleverhans modules\n",
    "wrap = KerasModelWrapper(model)"
   ]
  },
  {
   "cell_type": "markdown",
   "metadata": {
    "colab_type": "text",
    "id": "8_Ehc7tas5YS"
   },
   "source": [
    "# Part 2: The Fast Gradient Method (FGM)"
   ]
  },
  {
   "cell_type": "code",
   "execution_count": 31,
   "metadata": {
    "colab": {},
    "colab_type": "code",
    "id": "GA5T9mkws9vJ"
   },
   "outputs": [
    {
     "name": "stdout",
     "output_type": "stream",
     "text": [
      "10000/10000 [==============================] - 0s 28us/step\n",
      "Test Accuracy: 6.63%\n"
     ]
    }
   ],
   "source": [
    "#Implementing the FGSM attack\n",
    "backend.set_learning_phase(0)\n",
    "\n",
    "#FGM Instance on trained classifier from Part 1\n",
    "#FILL THIS IN\n",
    "fgm = FastGradientMethod(wrap, sess=sess)\n",
    "\n",
    "#Attack parameters\n",
    "#FILL THIS IN\n",
    "fgm_params = { 'eps': 0.25, 'clip_min': 0.0, 'clip_max': 1.0}\n",
    "\n",
    "#Generate adversarial data\n",
    "#FILL THIS IN\n",
    "fgm_data = fgm.generate_np(data_test, **fgm_params)\n",
    "\n",
    "#Evaluate accuracy on target classifier \n",
    "#FILL THIS IN\n",
    "# backend.set_learning_phase(0)\n",
    "[test_loss_fgm, test_acc_fgm] = model.evaluate(fgm_data, labels_test, batch_size = 512)\n",
    "print(\"Test Accuracy: {:0.2f}%\".format(test_acc_fgm*100))"
   ]
  },
  {
   "cell_type": "code",
   "execution_count": 32,
   "metadata": {
    "colab": {},
    "colab_type": "code",
    "id": "wE_rdYIrDeNZ"
   },
   "outputs": [
    {
     "data": {
      "text/plain": [
       "Text(0.5,1,'Adversarial Data')"
      ]
     },
     "execution_count": 32,
     "metadata": {},
     "output_type": "execute_result"
    },
    {
     "data": {
      "image/png": "[encoded data removed]",
      "text/plain": [
       "<Figure size 432x864 with 2 Axes>"
      ]
     },
     "metadata": {
      "needs_background": "light"
     },
     "output_type": "display_data"
    }
   ],
   "source": [
    "#Show ten original samples and their corresponding adversarial samples\n",
    "#FILL THIS IN\n",
    "fig = plt.figure(figsize=(6,12))\n",
    "fig.subplots_adjust(right=1.2)\n",
    "\n",
    "# normal\n",
    "ax = fig.add_subplot(1,2,1)\n",
    "ax.imshow(data_test[0:10].reshape(-1,28), cmap='gray')\n",
    "ax.axis('off')\n",
    "ax.set_title('Original Data')\n",
    "\n",
    "# adversarial\n",
    "ax = fig.add_subplot(1,2,2)\n",
    "ax.imshow(fgm_data[0:10].reshape(-1, 28), cmap='gray')\n",
    "ax.axis('off')\n",
    "ax.set_title('Adversarial Data')"
   ]
  },
  {
   "cell_type": "code",
   "execution_count": 33,
   "metadata": {
    "colab": {},
    "colab_type": "code",
    "id": "qurgywiaJe-I",
    "scrolled": true
   },
   "outputs": [
    {
     "name": "stdout",
     "output_type": "stream",
     "text": [
      "Epoch 1/50\n",
      " - 22s - loss: 553.7652\n",
      "Epoch 2/50\n",
      " - 20s - loss: 518.3220\n",
      "Epoch 3/50\n",
      " - 21s - loss: 513.0469\n",
      "Epoch 4/50\n",
      " - 21s - loss: 510.8693\n",
      "Epoch 5/50\n",
      " - 21s - loss: 509.7690\n",
      "Epoch 6/50\n",
      " - 20s - loss: 509.0538\n",
      "Epoch 7/50\n",
      " - 20s - loss: 508.5118\n",
      "Epoch 8/50\n",
      " - 20s - loss: 508.0866\n",
      "Epoch 9/50\n",
      " - 20s - loss: 507.7760\n",
      "Epoch 10/50\n",
      " - 21s - loss: 507.4820\n",
      "Epoch 11/50\n",
      " - 20s - loss: 507.2649\n",
      "Epoch 12/50\n",
      " - 21s - loss: 507.0685\n",
      "Epoch 13/50\n",
      " - 21s - loss: 506.8606\n",
      "Epoch 14/50\n",
      " - 20s - loss: 506.7112\n",
      "Epoch 15/50\n",
      " - 20s - loss: 506.6039\n",
      "Epoch 16/50\n",
      " - 21s - loss: 506.5212\n",
      "Epoch 17/50\n",
      " - 20s - loss: 506.4412\n",
      "Epoch 18/50\n",
      " - 20s - loss: 506.3770\n",
      "Epoch 19/50\n",
      " - 20s - loss: 506.3228\n",
      "Epoch 20/50\n",
      " - 20s - loss: 506.2527\n",
      "Epoch 21/50\n",
      " - 20s - loss: 506.1856\n",
      "Epoch 22/50\n",
      " - 20s - loss: 506.1190\n",
      "Epoch 23/50\n",
      " - 20s - loss: 506.0696\n",
      "Epoch 24/50\n",
      " - 20s - loss: 506.0175\n",
      "Epoch 25/50\n",
      " - 20s - loss: 505.9637\n",
      "Epoch 26/50\n",
      " - 20s - loss: 505.9367\n",
      "Epoch 27/50\n",
      " - 20s - loss: 505.8996\n",
      "Epoch 28/50\n",
      " - 20s - loss: 505.8763\n",
      "Epoch 29/50\n",
      " - 20s - loss: 505.8347\n",
      "Epoch 30/50\n",
      " - 21s - loss: 505.8100\n",
      "Epoch 31/50\n",
      " - 20s - loss: 505.7964\n",
      "Epoch 32/50\n",
      " - 21s - loss: 505.7796\n",
      "Epoch 33/50\n",
      " - 21s - loss: 505.7671\n",
      "Epoch 34/50\n",
      " - 20s - loss: 505.7669\n",
      "Epoch 35/50\n",
      " - 20s - loss: 505.7469\n",
      "Epoch 36/50\n",
      " - 20s - loss: 505.7301\n",
      "Epoch 37/50\n",
      " - 20s - loss: 505.7059\n",
      "Epoch 38/50\n",
      " - 21s - loss: 505.6814\n",
      "Epoch 39/50\n",
      " - 20s - loss: 505.6678\n",
      "Epoch 40/50\n",
      " - 20s - loss: 505.6590\n",
      "Epoch 41/50\n",
      " - 20s - loss: 505.6483\n",
      "Epoch 42/50\n",
      " - 20s - loss: 505.6471\n",
      "Epoch 43/50\n",
      " - 20s - loss: 505.6399\n",
      "Epoch 44/50\n",
      " - 20s - loss: 505.6352\n",
      "Epoch 45/50\n",
      " - 20s - loss: 505.6353\n",
      "Epoch 46/50\n",
      " - 20s - loss: 505.6285\n",
      "Epoch 47/50\n",
      " - 20s - loss: 505.6270\n",
      "Epoch 48/50\n",
      " - 20s - loss: 505.6234\n",
      "Epoch 49/50\n",
      " - 20s - loss: 505.6184\n",
      "Epoch 50/50\n",
      " - 20s - loss: 505.6131\n"
     ]
    },
    {
     "data": {
      "text/plain": [
       "<keras.callbacks.History at 0x2aec259c1a90>"
      ]
     },
     "execution_count": 33,
     "metadata": {},
     "output_type": "execute_result"
    }
   ],
   "source": [
    "#Implementing Detection via Autoencoders\n",
    "\n",
    "def autoencoder():\n",
    "    ae = Sequential()\n",
    "    ae.add(Dense(400, activation=None, kernel_initializer=\"normal\", input_dim=784))\n",
    "    ae.add(Dense(200, activation=None, kernel_initializer='normal'))\n",
    "    ae.add(Dense(100, activation=None, kernel_initializer='normal'))\n",
    "    ae.add(Dense(200, activation=None, kernel_initializer='normal'))\n",
    "    ae.add(Dense(400, activation=None, kernel_initializer='normal'))\n",
    "    ae.add(Dense(784, activation='sigmoid', kernel_initializer='normal'))\n",
    "    return ae\n",
    "\n",
    "#Create and train the autoencoder using the mean squared error loss and adam optimizer\n",
    "#FILL THIS IN\n",
    "fgm_defense = autoencoder()\n",
    "fgm_defense.compile(loss=\"categorical_crossentropy\", optimizer=\"adam\")\n",
    "fgm_defense.fit(data_train, data_train, epochs=50, shuffle=True, batch_size=256, verbose=2)"
   ]
  },
  {
   "cell_type": "code",
   "execution_count": 34,
   "metadata": {
    "colab": {},
    "colab_type": "code",
    "id": "sGVPbCP_JvDo"
   },
   "outputs": [
    {
     "name": "stdout",
     "output_type": "stream",
     "text": [
      "Threshold: 0.03144\n",
      "True Positives: 10000\n",
      "False Positives: 0\n"
     ]
    }
   ],
   "source": [
    "#Using the autoencoder for detection and to determine a threshold \n",
    "\n",
    "# Create adversarial examples using FGSM on training data\n",
    "#FILL THIS IN\n",
    "fgm_data_train = fgm.generate_np(data_train, **fgm_params)\n",
    "\n",
    "# Obtain reconstruction errors on training set and determine a threshold \n",
    "#FILL THIS IN\n",
    "pred = fgm_defense.predict(fgm_data_train)\n",
    "error = keras.losses.mean_squared_error(fgm_data_train, pred)\n",
    "\n",
    "# Convert error tensor into NumPy array \n",
    "# CHANGE NAME 'error' TO WHAT YOU CALLED IT ABOVE\n",
    "error = error.eval(session=sess)\n",
    "\n",
    "# Determine threshold (based on min in this case) and print it \n",
    "#FILL THIS IN\n",
    "thres = np.min(error)\n",
    "print(\"Threshold: {:0.5f}\".format(thres))\n",
    "\n",
    "# Calculate error of adversarial testing set\n",
    "#FILL THIS IN\n",
    "pred_test = fgm_defense.predict(fgm_data)\n",
    "error = keras.losses.mean_squared_error(fgm_data, pred_test)\n",
    "error = error.eval(session=sess)\n",
    "\n",
    "# Determine how many examples are above threshold and consider them adversarial\n",
    "# (true positive count)\n",
    "# Hint: Use a 'for' loop to compare each error value to the threshold\n",
    "# Print number of true positive samples\n",
    "#FILL THIS IN\n",
    "print(\"True Positives: {:d}\".format(np.size(np.where(error > thres))))\n",
    "\n",
    "# Determine false positives on benign testing set\n",
    "#FILL THIS IN \n",
    "pred = fgm_defense.predict(data_test)\n",
    "error = keras.losses.mean_squared_error(data_test, pred)\n",
    "error = error.eval(session=sess)\n",
    "\n",
    "# Determine how many examples are above threshold and consider them adversarial\n",
    "# (false positive count)\n",
    "# Hint: Use a 'for' loop to compare each error value to the threshold    \n",
    "# Print number of false positive samples\n",
    "#FILL THIS IN   \n",
    "print(\"False Positives: {:d}\".format(np.size(np.where(error > thres))))"
   ]
  },
  {
   "cell_type": "markdown",
   "metadata": {
    "colab_type": "text",
    "id": "VE2WG6LnP14d"
   },
   "source": [
    "# Part 3: Projected Gradient Descent"
   ]
  },
  {
   "cell_type": "code",
   "execution_count": 35,
   "metadata": {
    "colab": {},
    "colab_type": "code",
    "id": "iEkYKPN-P4Sj"
   },
   "outputs": [
    {
     "name": "stdout",
     "output_type": "stream",
     "text": [
      "Test Accuracy: 0.97%\n"
     ]
    }
   ],
   "source": [
    "#Implementing the PGD attack\n",
    "\n",
    "#PGD Instance on trained classifier from Part 1\n",
    "pgd = MadryEtAl(wrap, sess=sess)\n",
    "\n",
    "#Attack parameters\n",
    "#FILL THIS IN\n",
    "pgd_param = {'eps': 0.25, 'eps_iter': 0.01, 'nb_iter': 20, 'clip_min': 0.0, 'clip_max': 1.0}\n",
    "\n",
    "#Generate adversarial data\n",
    "#FILL THIS IN\n",
    "pgd_data_test = pgd.generate_np(data_test, **pgd_param)\n",
    "\n",
    "#Evaluate accuracy of perturbed data on target classifier\n",
    "#FILL THIS IN\n",
    "[test_loss_pgd, test_acc_pgd] = model.evaluate(pgd_data_test, labels_test, batch_size = 512, verbose=2)\n",
    "print(\"Test Accuracy: {:0.2f}%\".format(test_acc_pgd*100))"
   ]
  },
  {
   "cell_type": "code",
   "execution_count": 36,
   "metadata": {
    "colab": {},
    "colab_type": "code",
    "id": "urEHSPQISer1"
   },
   "outputs": [
    {
     "data": {
      "text/plain": [
       "Text(0.5,1,'Adversarial Data')"
      ]
     },
     "execution_count": 36,
     "metadata": {},
     "output_type": "execute_result"
    },
    {
     "data": {
      "image/png": "[encoded data removed]",
      "text/plain": [
       "<Figure size 432x864 with 2 Axes>"
      ]
     },
     "metadata": {
      "needs_background": "light"
     },
     "output_type": "display_data"
    }
   ],
   "source": [
    "#Show ten original samples and their corresponding adversarial samples\n",
    "#FILL THIS IN \n",
    "fig = plt.figure(figsize=(6,12))\n",
    "fig.subplots_adjust(right=1.2)\n",
    "\n",
    "# normal\n",
    "ax = fig.add_subplot(1,2,1)\n",
    "ax.imshow(data_test[0:10].reshape(-1,28), cmap='gray')\n",
    "ax.axis('off')\n",
    "ax.set_title('Original Data')\n",
    "\n",
    "# adversarial\n",
    "ax = fig.add_subplot(1,2,2)\n",
    "ax.imshow(pgd_data_test[0:10].reshape(-1, 28), cmap='gray')\n",
    "ax.axis('off')\n",
    "ax.set_title('Adversarial Data')"
   ]
  },
  {
   "cell_type": "code",
   "execution_count": 39,
   "metadata": {
    "colab": {},
    "colab_type": "code",
    "id": "gTygGikdUWU8",
    "scrolled": true
   },
   "outputs": [
    {
     "name": "stdout",
     "output_type": "stream",
     "text": [
      "Train on 120000 samples, validate on 10000 samples\n",
      "Epoch 1/50\n",
      " - 7s - loss: 0.3596 - acc: 0.9463 - val_loss: 0.3988 - val_acc: 0.9311\n",
      "Epoch 2/50\n",
      " - 7s - loss: 0.0282 - acc: 0.9913 - val_loss: 0.3928 - val_acc: 0.9386\n",
      "Epoch 3/50\n",
      " - 7s - loss: 0.0150 - acc: 0.9954 - val_loss: 0.3752 - val_acc: 0.9463\n",
      "Epoch 4/50\n",
      " - 8s - loss: 0.0100 - acc: 0.9971 - val_loss: 0.3700 - val_acc: 0.9455\n",
      "Epoch 5/50\n",
      " - 7s - loss: 0.0073 - acc: 0.9981 - val_loss: 0.3690 - val_acc: 0.9458\n",
      "Epoch 6/50\n",
      " - 7s - loss: 0.0060 - acc: 0.9985 - val_loss: 0.3911 - val_acc: 0.9464\n",
      "Epoch 7/50\n",
      " - 7s - loss: 0.0050 - acc: 0.9985 - val_loss: 0.4027 - val_acc: 0.9465\n",
      "Epoch 8/50\n",
      " - 7s - loss: 0.0048 - acc: 0.9985 - val_loss: 0.4181 - val_acc: 0.9457\n",
      "Epoch 9/50\n",
      " - 7s - loss: 0.0062 - acc: 0.9980 - val_loss: 0.4030 - val_acc: 0.9481\n",
      "Epoch 10/50\n",
      " - 7s - loss: 0.0041 - acc: 0.9988 - val_loss: 0.3747 - val_acc: 0.9526\n",
      "Epoch 11/50\n",
      " - 8s - loss: 0.0039 - acc: 0.9989 - val_loss: 0.3892 - val_acc: 0.9503\n",
      "Epoch 12/50\n",
      " - 8s - loss: 0.0032 - acc: 0.9991 - val_loss: 0.4089 - val_acc: 0.9490\n",
      "Epoch 13/50\n",
      " - 8s - loss: 0.0042 - acc: 0.9987 - val_loss: 0.4469 - val_acc: 0.9460\n",
      "Epoch 14/50\n",
      " - 7s - loss: 0.0052 - acc: 0.9983 - val_loss: 0.3949 - val_acc: 0.9521\n",
      "Epoch 15/50\n",
      " - 7s - loss: 0.0047 - acc: 0.9985 - val_loss: 0.3815 - val_acc: 0.9513\n",
      "Epoch 16/50\n",
      " - 7s - loss: 0.0025 - acc: 0.9993 - val_loss: 0.3985 - val_acc: 0.9516\n",
      "Epoch 17/50\n",
      " - 7s - loss: 0.0023 - acc: 0.9993 - val_loss: 0.3831 - val_acc: 0.9518\n",
      "Epoch 18/50\n",
      " - 7s - loss: 0.0028 - acc: 0.9991 - val_loss: 0.3981 - val_acc: 0.9522\n",
      "Epoch 19/50\n",
      " - 8s - loss: 0.0037 - acc: 0.9988 - val_loss: 0.3956 - val_acc: 0.9524\n",
      "Epoch 20/50\n",
      " - 7s - loss: 0.0030 - acc: 0.9990 - val_loss: 0.3816 - val_acc: 0.9540\n",
      "Epoch 21/50\n",
      " - 7s - loss: 0.0025 - acc: 0.9992 - val_loss: 0.3671 - val_acc: 0.9565\n",
      "Epoch 22/50\n",
      " - 7s - loss: 0.0037 - acc: 0.9987 - val_loss: 0.3882 - val_acc: 0.9551\n",
      "Epoch 23/50\n",
      " - 8s - loss: 0.0028 - acc: 0.9990 - val_loss: 0.3956 - val_acc: 0.9533\n",
      "Epoch 24/50\n",
      " - 7s - loss: 0.0022 - acc: 0.9993 - val_loss: 0.3688 - val_acc: 0.9578\n",
      "Epoch 25/50\n",
      " - 7s - loss: 0.0035 - acc: 0.9988 - val_loss: 0.4063 - val_acc: 0.9539\n",
      "Epoch 26/50\n",
      " - 8s - loss: 0.0029 - acc: 0.9991 - val_loss: 0.3577 - val_acc: 0.9580\n",
      "Epoch 27/50\n",
      " - 7s - loss: 0.0023 - acc: 0.9993 - val_loss: 0.4040 - val_acc: 0.9522\n",
      "Epoch 28/50\n",
      " - 7s - loss: 0.0017 - acc: 0.9995 - val_loss: 0.4128 - val_acc: 0.9521\n",
      "Epoch 29/50\n",
      " - 8s - loss: 0.0020 - acc: 0.9993 - val_loss: 0.4220 - val_acc: 0.9521\n",
      "Epoch 30/50\n",
      " - 7s - loss: 0.0031 - acc: 0.9990 - val_loss: 0.4034 - val_acc: 0.9552\n",
      "Epoch 31/50\n",
      " - 8s - loss: 0.0025 - acc: 0.9992 - val_loss: 0.3971 - val_acc: 0.9528\n",
      "Epoch 32/50\n",
      " - 7s - loss: 0.0029 - acc: 0.9992 - val_loss: 0.3642 - val_acc: 0.9563\n",
      "Epoch 33/50\n",
      " - 8s - loss: 0.0017 - acc: 0.9995 - val_loss: 0.3923 - val_acc: 0.9565\n",
      "Epoch 34/50\n",
      " - 7s - loss: 0.0022 - acc: 0.9992 - val_loss: 0.3711 - val_acc: 0.9573\n",
      "Epoch 35/50\n",
      " - 7s - loss: 0.0025 - acc: 0.9993 - val_loss: 0.3568 - val_acc: 0.9585\n",
      "Epoch 36/50\n",
      " - 7s - loss: 0.0024 - acc: 0.9991 - val_loss: 0.3810 - val_acc: 0.9563\n",
      "Epoch 37/50\n",
      " - 7s - loss: 0.0016 - acc: 0.9995 - val_loss: 0.4097 - val_acc: 0.9535\n",
      "Epoch 38/50\n",
      " - 7s - loss: 0.0011 - acc: 0.9997 - val_loss: 0.3884 - val_acc: 0.9570\n",
      "Epoch 39/50\n",
      " - 7s - loss: 0.0030 - acc: 0.9991 - val_loss: 0.3731 - val_acc: 0.9587\n",
      "Epoch 40/50\n",
      " - 7s - loss: 0.0020 - acc: 0.9995 - val_loss: 0.4298 - val_acc: 0.9516\n",
      "Epoch 41/50\n",
      " - 8s - loss: 0.0030 - acc: 0.9991 - val_loss: 0.3952 - val_acc: 0.9571\n",
      "Epoch 42/50\n",
      " - 8s - loss: 0.0017 - acc: 0.9994 - val_loss: 0.3965 - val_acc: 0.9561\n",
      "Epoch 43/50\n",
      " - 8s - loss: 0.0011 - acc: 0.9997 - val_loss: 0.3968 - val_acc: 0.9577\n",
      "Epoch 44/50\n",
      " - 7s - loss: 0.0019 - acc: 0.9994 - val_loss: 0.4065 - val_acc: 0.9527\n",
      "Epoch 45/50\n",
      " - 7s - loss: 0.0016 - acc: 0.9995 - val_loss: 0.3796 - val_acc: 0.9574\n",
      "Epoch 46/50\n",
      " - 7s - loss: 0.0017 - acc: 0.9995 - val_loss: 0.4090 - val_acc: 0.9559\n",
      "Epoch 47/50\n",
      " - 7s - loss: 0.0023 - acc: 0.9993 - val_loss: 0.3751 - val_acc: 0.9606\n",
      "Epoch 48/50\n",
      " - 7s - loss: 0.0017 - acc: 0.9995 - val_loss: 0.3977 - val_acc: 0.9578\n",
      "Epoch 49/50\n",
      " - 7s - loss: 0.0019 - acc: 0.9994 - val_loss: 0.3944 - val_acc: 0.9579\n",
      "Epoch 50/50\n",
      " - 7s - loss: 0.0011 - acc: 0.9996 - val_loss: 0.3869 - val_acc: 0.9574\n"
     ]
    }
   ],
   "source": [
    "#Implementing the adversarial training defense\n",
    "#FILL THIS IN\n",
    "adv_trained_clf = model\n",
    "pgd_data_train = pgd.generate_np(data_train, **pgd_param)\n",
    "\n",
    "# new dat for training\n",
    "data_train_pgd = np.concatenate([pgd_data_train,data_train])\n",
    "labels_train_pgd = np.concatenate([labels_train,labels_train])\n",
    "\n",
    "hist_pgd = adv_trained_clf.fit(data_train_pgd, labels_train_pgd, validation_data=(pgd_data_test, labels_test),shuffle=True,epochs=50,batch_size=256, verbose=2) "
   ]
  },
  {
   "cell_type": "code",
   "execution_count": 40,
   "metadata": {
    "colab": {},
    "colab_type": "code",
    "id": "i6dMEXGBUlci"
   },
   "outputs": [
    {
     "name": "stdout",
     "output_type": "stream",
     "text": [
      "Test Accuracy: 95.75%\n"
     ]
    }
   ],
   "source": [
    "#Using the defense to evaluate the accuracy of the perturbed data\n",
    "#FILL THIS IN \n",
    "[test_loss_pgd, test_acc_pgd] = model.evaluate(pgd_data_test, labels_test, batch_size = 512, verbose=2)\n",
    "print(\"Test Accuracy: {:0.2f}%\".format(test_acc_pgd*100))"
   ]
  },
  {
   "cell_type": "markdown",
   "metadata": {
    "colab_type": "text",
    "id": "MqIEiMdar_5q"
   },
   "source": [
    "#Part 4: Carlini and Wagner Attack"
   ]
  },
  {
   "cell_type": "code",
   "execution_count": null,
   "metadata": {
    "colab": {},
    "colab_type": "code",
    "id": "oyyNb-v5sCY6"
   },
   "outputs": [],
   "source": [
    "#Implementing the CW attack\n",
    "\n",
    "#CW Instance on trained classifier from Part 1\n",
    "#FILL THIS IN\n",
    "\n",
    "\n",
    "#Attack parameters\n",
    "#FILL THIS IN\n",
    "\n",
    "\n",
    "#Generate adversarial data\n",
    "#FILL THIS IN\n",
    "\n",
    "\n",
    "#Evaluate accuracy of perturbed data on target classifier\n",
    "#FILL THIS IN"
   ]
  },
  {
   "cell_type": "code",
   "execution_count": null,
   "metadata": {
    "colab": {},
    "colab_type": "code",
    "id": "rlEMqrlPurRL"
   },
   "outputs": [],
   "source": [
    "#Show ten original samples and their corresponding adversarial samples\n",
    "#FILL THIS IN "
   ]
  },
  {
   "cell_type": "code",
   "execution_count": null,
   "metadata": {
    "colab": {},
    "colab_type": "code",
    "id": "P-VhQHQ2uvmV"
   },
   "outputs": [],
   "source": [
    "#Implementing the dimensionality reduction (PCA) defense \n",
    "\n",
    "#Calculate PCA projection\n",
    "pca = PCA(100)\n",
    "pca.fit(data_train)\n",
    "pca_train = pca.transform(data_train)\n",
    "pca_test = pca.transform(data_test)\n",
    "\n",
    "#Transform perturbed CW data using the subspace from the original training data\n",
    "#FILL THIS IN \n",
    "\n",
    "# create model for PCA\n",
    "def pca_model():\n",
    "    model = Sequential()\n",
    "    \n",
    "    #FILL THIS IN \n",
    "\n",
    "    return model\n",
    "\n",
    "#Create model graph, compile it, and train it using pca_train lables_train \n",
    "#FILL THIS IN "
   ]
  },
  {
   "cell_type": "code",
   "execution_count": null,
   "metadata": {
    "colab": {},
    "colab_type": "code",
    "id": "o9L61AfG2y94"
   },
   "outputs": [],
   "source": [
    "#Using the defense (and comparing to baseline accuracy)\n",
    "#FILL THIS IN "
   ]
  },
  {
   "cell_type": "markdown",
   "metadata": {
    "colab_type": "text",
    "id": "KP0mENqGhDt0"
   },
   "source": [
    "#Part 5: DeepFool "
   ]
  },
  {
   "cell_type": "code",
   "execution_count": null,
   "metadata": {
    "colab": {},
    "colab_type": "code",
    "id": "zHraovc2hES3"
   },
   "outputs": [],
   "source": [
    "#Implementing the DeepFool attack\n",
    "\n",
    "#DeepFool Instance on trained classifier from Part 1\n",
    "#FILL THIS IN\n",
    "\n",
    "\n",
    "#Attack parameters\n",
    "#FILL THIS IN\n",
    "\n",
    "\n",
    "#Generate adversarial data\n",
    "#FILL THIS IN\n",
    "\n",
    "\n",
    "#Evaluate accuracy of perturbed data on target classifier\n",
    "#FILL THIS IN"
   ]
  },
  {
   "cell_type": "code",
   "execution_count": null,
   "metadata": {
    "colab": {},
    "colab_type": "code",
    "id": "zEsLfmxThZ6M"
   },
   "outputs": [],
   "source": [
    "#Show ten original samples and their corresponding adversarial samples\n",
    "#FILL THIS IN"
   ]
  },
  {
   "cell_type": "code",
   "execution_count": null,
   "metadata": {
    "colab": {},
    "colab_type": "code",
    "id": "tOapt7QaM4U_"
   },
   "outputs": [],
   "source": [
    "#Implementing the Denoising Autoencoder Defense\n",
    "\n",
    "def autoencoder():\n",
    "    ae = Sequential()\n",
    "    ae.add(Dense(400, activation=None, kernel_initializer=\"normal\", input_dim=784))\n",
    "    ae.add(Dense(200, activation=None, kernel_initializer='normal'))\n",
    "    ae.add(Dense(100, activation=None, kernel_initializer='normal'))\n",
    "    ae.add(Dense(200, activation=None, kernel_initializer='normal'))\n",
    "    ae.add(Dense(400, activation=None, kernel_initializer='normal'))\n",
    "    ae.add(Dense(784, activation='sigmoid', kernel_initializer='normal'))\n",
    "    return ae\n",
    "\n",
    "#Create training data for DAE \n",
    "df_attack_data_train = deepfool.generate_np(data_train, **fgm_params)\n",
    "data_total_train = np.concatenate([df_attack_data_train, data_train])\n",
    "\n",
    "#Create and train DAE graph\n",
    "#FILL THIS IN"
   ]
  },
  {
   "cell_type": "code",
   "execution_count": null,
   "metadata": {
    "colab": {},
    "colab_type": "code",
    "id": "5CjKifVRNMMV"
   },
   "outputs": [],
   "source": [
    "#Using the defense\n",
    "\n",
    "#Use DAE to to remove adversarial perturbation \n",
    "#FILL THIS IN\n",
    "\n",
    "#Evaluate accuracy of FGM samples after denoising \n",
    "#FILL THIS IN"
   ]
  },
  {
   "cell_type": "code",
   "execution_count": null,
   "metadata": {
    "colab": {},
    "colab_type": "code",
    "id": "6NSAW0v3NSMB"
   },
   "outputs": [],
   "source": [
    "#Show ten samples of adversarial samples after denoising\n",
    "#FILL THIS IN"
   ]
  }
 ],
 "metadata": {
  "colab": {
   "name": "Project_4_Student.ipynb",
   "provenance": []
  },
  "kernelspec": {
   "display_name": "Python 2.7 DLN",
   "language": "python",
   "name": "csutom_jupyter_27"
  },
  "language_info": {
   "codemirror_mode": {
    "name": "ipython",
    "version": 2
   },
   "file_extension": ".py",
   "mimetype": "text/x-python",
   "name": "python",
   "nbconvert_exporter": "python",
   "pygments_lexer": "ipython2",
   "version": "2.7.18"
  }
 },
 "nbformat": 4,
 "nbformat_minor": 1
}
