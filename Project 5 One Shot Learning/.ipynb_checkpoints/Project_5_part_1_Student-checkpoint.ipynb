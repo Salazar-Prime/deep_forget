{
 "cells": [
  {
   "cell_type": "markdown",
   "metadata": {
    "colab_type": "text",
    "id": "Ep1Ky-nDBZIr"
   },
   "source": [
    "You might need to modify the third line in the code cell below, to make sure you cd to the actual directory which your ipynb file is located in.\n",
    "\n",
    "**Caution**: due to the nature of this project's setup, everytime you want to rerun some code cell below, please click **Runtime -> Restart and run all**; this operation clears the computational graphs and the local variables but allow training and testing data that are already loaded from google drive to stay in the colab runtime space. Please do **not** do the following if you just wish to rerun code: click Runtime -> reset all runtimes, and then click Runtime -> Run all; it will remount your google drive, and remove the training and testing data already loaded in your colab runtime space. **Runtime -> Restart and run all** automatically avoids remounting the drive after the first time you run the notebook file; the loaded data can usually stay in your colab runtime space for many hours.\n",
    "\n",
    "Loading the training and testing data after remounting your google drive takes 30 - 40 minutes."
   ]
  },
  {
   "cell_type": "code",
   "execution_count": 1,
   "metadata": {
    "colab": {},
    "colab_type": "code",
    "id": "7sWni0FseVUz"
   },
   "outputs": [],
   "source": [
    "# from google.colab import drive\n",
    "# drive.mount(\"/content/gdrive/\", force_remount=True)\n",
    "# %cd gdrive/My Drive/Neural_Turing_Machine/NTM_small"
   ]
  },
  {
   "cell_type": "code",
   "execution_count": 2,
   "metadata": {
    "colab": {},
    "colab_type": "code",
    "id": "R9gdekJg_-xa"
   },
   "outputs": [],
   "source": [
    "from utils import OmniglotDataLoader, one_hot_decode, five_hot_decode\n",
    "import tensorflow as tf\n",
    "import argparse\n",
    "import numpy as np\n",
    "# %tensorflow_version 1.x\n",
    "# print(tf.__version__)"
   ]
  },
  {
   "cell_type": "markdown",
   "metadata": {
    "colab_type": "text",
    "id": "otNm4yidAQQB"
   },
   "source": [
    "Already implemented, no need to change.\n",
    "\n",
    "This class is part of the training loop."
   ]
  },
  {
   "cell_type": "code",
   "execution_count": 3,
   "metadata": {
    "colab": {},
    "colab_type": "code",
    "id": "MZTXPodW_5_i"
   },
   "outputs": [],
   "source": [
    "class NTMOneShotLearningModel():\n",
    "  def __init__(self, model, n_classes, batch_size, seq_length, image_width, image_height,\n",
    "                rnn_size, num_memory_slots, rnn_num_layers, read_head_num, write_head_num, memory_vector_dim, learning_rate):\n",
    "    self.output_dim = n_classes\n",
    "\n",
    "    # Note: the images are flattened to 1D tensors\n",
    "    # The input data structure is of the following form:\n",
    "    # self.x_image[i,j,:] = jth image in the ith sequence (or, episode)\n",
    "    self.x_image = tf.placeholder(dtype=tf.float32, shape=[batch_size, seq_length, image_width * image_height])\n",
    "    # Model's output label is one-hot encoded\n",
    "    # The data structure is of the following form:\n",
    "    # self.x_label[i,j,:] = one-hot label of the jth image in \n",
    "    #             the ith sequence (or, episode)\n",
    "    self.x_label = tf.placeholder(dtype=tf.float32, shape=[batch_size, seq_length, self.output_dim])\n",
    "    # Target label is one-hot encoded\n",
    "    self.y = tf.placeholder(dtype=tf.float32, shape=[batch_size, seq_length, self.output_dim])\n",
    "    \n",
    "    # The dense layer for mapping controller output and retrieved\n",
    "    # memory content to classification labels\n",
    "    self.controller_output_to_ntm_output = tf.keras.layers.Dense(units=self.output_dim, use_bias=True)\n",
    "\n",
    "    if model == 'LSTM':\n",
    "      # Using a LSTM layer to serve as the controller, no memory\n",
    "      def rnn_cell(rnn_size):\n",
    "        return tf.nn.rnn_cell.BasicLSTMCell(rnn_size)\n",
    "      cell = tf.nn.rnn_cell.MultiRNNCell([rnn_cell(rnn_size) for _ in range(rnn_num_layers)])\n",
    "      state = cell.zero_state(batch_size=batch_size, dtype=tf.float32)\n",
    "    \n",
    "    # Initialize the controller model, including wiping its memory\n",
    "    # Also, get the initial state of the MANN model\n",
    "    \n",
    "    self.state_list = [state]\n",
    "    # Setup the NTM's output\n",
    "    self.o = []\n",
    "    \n",
    "    # Now iterate over every sample in the sequence \n",
    "    for t in range(seq_length):\n",
    "      output, state = cell(tf.concat([self.x_image[:, t, :], self.x_label[:, t, :]], axis=1), state)\n",
    "      # Map controller output (with retrieved memory) + current (offseted) label \n",
    "      # to the overall ntm's output with an affine operation\n",
    "      # The output is the classification labels\n",
    "      output = self.controller_output_to_ntm_output(output)\n",
    "      output = tf.nn.softmax(output, axis=1)\n",
    "      self.o.append(output)\n",
    "      self.state_list.append(state)\n",
    "    # post-process the output of the classifier\n",
    "    self.o = tf.stack(self.o, axis=1)\n",
    "    self.state_list.append(state)\n",
    "\n",
    "    eps = 1e-8\n",
    "    # cross entropy, between model output labels and target labels\n",
    "    self.learning_loss = -tf.reduce_mean(  \n",
    "        tf.reduce_sum(self.y * tf.log(self.o + eps), axis=[1, 2])\n",
    "    )\n",
    "    \n",
    "    self.o = tf.reshape(self.o, shape=[batch_size, seq_length, -1])\n",
    "    self.learning_loss_summary = tf.summary.scalar('learning_loss', self.learning_loss)\n",
    "\n",
    "    with tf.variable_scope('optimizer'):\n",
    "      self.optimizer = tf.train.AdamOptimizer(learning_rate=learning_rate)\n",
    "      self.train_op = self.optimizer.minimize(self.learning_loss)"
   ]
  },
  {
   "cell_type": "markdown",
   "metadata": {
    "colab_type": "text",
    "id": "X_qMlbTWAvg0"
   },
   "source": [
    "The training and testing functions"
   ]
  },
  {
   "cell_type": "code",
   "execution_count": 4,
   "metadata": {
    "colab": {},
    "colab_type": "code",
    "id": "Se1yEaxmey6Z"
   },
   "outputs": [],
   "source": [
    "def train(learning_rate, image_width, image_height, n_train_classes, n_test_classes, restore_training, \\\n",
    "         num_epochs, n_classes, batch_size, seq_length, num_memory_slots, augment, save_dir, model_path, tensorboard_dir):\n",
    "\n",
    "  # We always use one-hot encoding of the labels in this experiment\n",
    "  label_type = \"one_hot\"\n",
    "\n",
    "  # Initialize the model\n",
    "  model = NTMOneShotLearningModel(model=model_path, n_classes=n_classes,\\\n",
    "                    batch_size=batch_size, seq_length=seq_length,\\\n",
    "                    image_width=image_width, image_height=image_height, \\\n",
    "                    rnn_size=rnn_size, num_memory_slots=num_memory_slots,\\\n",
    "                    rnn_num_layers=rnn_num_layers, read_head_num=read_head_num,\\\n",
    "                    write_head_num=write_head_num, memory_vector_dim=memory_vector_dim,\\\n",
    "                    learning_rate=learning_rate)\n",
    "  print(\"Model initialized\")\n",
    "  data_loader = OmniglotDataLoader(\n",
    "      image_size=(image_width, image_height),\n",
    "      n_train_classses=n_train_classes,\n",
    "      n_test_classes=n_test_classes\n",
    "  )\n",
    "  print(\"Data loaded\")\n",
    "  # Note: our training loop is in the tensorflow 1.x style\n",
    "  with tf.Session() as sess:\n",
    "    if restore_training:\n",
    "      saver = tf.train.Saver()\n",
    "      ckpt = tf.train.get_checkpoint_state(save_dir + '/' + model_path)\n",
    "      saver.restore(sess, ckpt.model_checkpoint_path)\n",
    "    else:\n",
    "      saver = tf.train.Saver(tf.global_variables())\n",
    "      tf.global_variables_initializer().run()\n",
    "    train_writer = tf.summary.FileWriter(tensorboard_dir + '/' + model_path, sess.graph)\n",
    "    print(\"1st\\t2nd\\t3rd\\t4th\\t5th\\t6th\\t7th\\t8th\\t9th\\t10th\\tepoch\\tloss\")\n",
    "    for b in range(num_epochs):\n",
    "      # Test the model\n",
    "      if b % 100 == 0:\n",
    "        # Note: the images are flattened to 1D tensors\n",
    "        # The input data structure is of the following form:\n",
    "        # x_image[i,j,:] = jth image in the ith sequence (or, episode)\n",
    "        # And the sequence of 50 images x_image[i,:,:] constitute\n",
    "        # one episode, and each class (out of 5 classes) has around 10\n",
    "        # appearances in this sequence, as seq_length = 50 and \n",
    "        # n_classes = 5, as specified in the code block below\n",
    "        # See the details in utils.py, OmniglotDataLoader class\n",
    "        x_image, x_label, y = data_loader.fetch_batch(n_classes, batch_size, seq_length,\n",
    "                                  type='test',\n",
    "                                  augment=augment,\n",
    "                                  label_type=label_type)\n",
    "        feed_dict = {model.x_image: x_image, model.x_label: x_label, model.y: y}\n",
    "        output, learning_loss = sess.run([model.o, model.learning_loss], feed_dict=feed_dict)\n",
    "        merged_summary = sess.run(model.learning_loss_summary, feed_dict=feed_dict)\n",
    "        train_writer.add_summary(merged_summary, b)\n",
    "        accuracy = test(batch_size,seq_length, y, output)\n",
    "        for accu in accuracy:\n",
    "          print('%.4f' % accu, end='\\t')\n",
    "        print('%d\\t%.4f' % (b, learning_loss))\n",
    "\n",
    "      # Save model per 2000 epochs\n",
    "      if b%2000==0 and b>0:\n",
    "        saver.save(sess, save_dir + '/' + model_path + '/model.tfmodel', global_step=b)\n",
    "\n",
    "      # Train the model\n",
    "      x_image, x_label, y = data_loader.fetch_batch(n_classes, batch_size, seq_length, \\\n",
    "                                type='train',\n",
    "                                augment=augment,\n",
    "                                label_type=label_type)\n",
    "      feed_dict = {model.x_image: x_image, model.x_label: x_label, model.y: y}\n",
    "      sess.run(model.train_op, feed_dict=feed_dict)\n",
    "\n",
    "# Fill in this function. You might not need seq_length (the length of an episode)\n",
    "# as an input, depending on your setup \n",
    "# Note: y is the true labels, and of shape (batch_size, seq_length, 5)\n",
    "# output is the network's classification labels\n",
    "def test(batch_size,seq_length, y, output):\n",
    "  # Fill in\n",
    "  decoded_y = one_hot_decode(y)\n",
    "  decoded_out = one_hot_decode(output)\n",
    "  for i in range(batch_size):\n",
    "    # ith episode\n",
    "    yi = decoded_y[i,:]\n",
    "    outi = decoded_out[i,:]\n",
    "    \n",
    "\n",
    "\n",
    "  return y# Fill in"
   ]
  },
  {
   "cell_type": "code",
   "execution_count": 5,
   "metadata": {
    "colab": {},
    "colab_type": "code",
    "id": "VruOInLHkZUK"
   },
   "outputs": [
    {
     "name": "stdout",
     "output_type": "stream",
     "text": [
      "WARNING:tensorflow:From <ipython-input-3-eb58e367ca65>:25: BasicLSTMCell.__init__ (from tensorflow.python.ops.rnn_cell_impl) is deprecated and will be removed in a future version.\n",
      "Instructions for updating:\n",
      "This class is deprecated, please use tf.nn.rnn_cell.LSTMCell, which supports all the feature this cell currently has. Please replace the existing code with tf.nn.rnn_cell.LSTMCell(name='basic_lstm_cell').\n",
      "Model initialized\n",
      "Entered Dataloader\n",
      "10.0% data loaded.\n",
      "20.0% data loaded.\n",
      "30.0% data loaded.\n",
      "40.0% data loaded.\n",
      "50.0% data loaded.\n",
      "60.0% data loaded.\n",
      "70.0% data loaded.\n",
      "80.0% data loaded.\n",
      "90.0% data loaded.\n",
      "100.0% data loaded.\n",
      "Data loaded\n",
      "1st\t2nd\t3rd\t4th\t5th\t6th\t7th\t8th\t9th\t10th\tepoch\tloss\n",
      "50\n",
      "(16, 50, 5)\n",
      "(16, 50, 5)\n",
      "(16, 50)\n",
      "(16, 50)\n"
     ]
    },
    {
     "ename": "TypeError",
     "evalue": "only size-1 arrays can be converted to Python scalars",
     "output_type": "error",
     "traceback": [
      "\u001b[0;31m---------------------------------------------------------------------------\u001b[0m",
      "\u001b[0;31mTypeError\u001b[0m                                 Traceback (most recent call last)",
      "\u001b[0;32m<ipython-input-5-a9a87b4b675f>\u001b[0m in \u001b[0;36m<module>\u001b[0;34m()\u001b[0m\n\u001b[1;32m     22\u001b[0m \u001b[0mtensorboard_dir\u001b[0m \u001b[0;34m=\u001b[0m \u001b[0;34m'./summary/one_shot_learning'\u001b[0m\u001b[0;34m\u001b[0m\u001b[0;34m\u001b[0m\u001b[0m\n\u001b[1;32m     23\u001b[0m \u001b[0mmodel_path\u001b[0m \u001b[0;34m=\u001b[0m \u001b[0;34m'LSTM'\u001b[0m\u001b[0;34m\u001b[0m\u001b[0;34m\u001b[0m\u001b[0m\n\u001b[0;32m---> 24\u001b[0;31m \u001b[0mtrain\u001b[0m\u001b[0;34m(\u001b[0m\u001b[0mlearning_rate\u001b[0m\u001b[0;34m,\u001b[0m \u001b[0mimage_width\u001b[0m\u001b[0;34m,\u001b[0m \u001b[0mimage_height\u001b[0m\u001b[0;34m,\u001b[0m \u001b[0mn_train_classes\u001b[0m\u001b[0;34m,\u001b[0m \u001b[0mn_test_classes\u001b[0m\u001b[0;34m,\u001b[0m \u001b[0mrestore_training\u001b[0m\u001b[0;34m,\u001b[0m          \u001b[0mnum_epochs\u001b[0m\u001b[0;34m,\u001b[0m \u001b[0mn_classes\u001b[0m\u001b[0;34m,\u001b[0m \u001b[0mbatch_size\u001b[0m\u001b[0;34m,\u001b[0m \u001b[0mseq_length\u001b[0m\u001b[0;34m,\u001b[0m \u001b[0mnum_memory_slots\u001b[0m\u001b[0;34m,\u001b[0m \u001b[0maugment\u001b[0m\u001b[0;34m,\u001b[0m \u001b[0msave_dir\u001b[0m\u001b[0;34m,\u001b[0m \u001b[0mmodel_path\u001b[0m\u001b[0;34m,\u001b[0m \u001b[0mtensorboard_dir\u001b[0m\u001b[0;34m)\u001b[0m\u001b[0;34m\u001b[0m\u001b[0;34m\u001b[0m\u001b[0m\n\u001b[0m",
      "\u001b[0;32m<ipython-input-4-f810acb3b287>\u001b[0m in \u001b[0;36mtrain\u001b[0;34m(learning_rate, image_width, image_height, n_train_classes, n_test_classes, restore_training, num_epochs, n_classes, batch_size, seq_length, num_memory_slots, augment, save_dir, model_path, tensorboard_dir)\u001b[0m\n\u001b[1;32m     45\u001b[0m         \u001b[0maccuracy\u001b[0m \u001b[0;34m=\u001b[0m \u001b[0mtest\u001b[0m\u001b[0;34m(\u001b[0m\u001b[0mseq_length\u001b[0m\u001b[0;34m,\u001b[0m \u001b[0my\u001b[0m\u001b[0;34m,\u001b[0m \u001b[0moutput\u001b[0m\u001b[0;34m)\u001b[0m\u001b[0;34m\u001b[0m\u001b[0;34m\u001b[0m\u001b[0m\n\u001b[1;32m     46\u001b[0m         \u001b[0;32mfor\u001b[0m \u001b[0maccu\u001b[0m \u001b[0;32min\u001b[0m \u001b[0maccuracy\u001b[0m\u001b[0;34m:\u001b[0m\u001b[0;34m\u001b[0m\u001b[0;34m\u001b[0m\u001b[0m\n\u001b[0;32m---> 47\u001b[0;31m           \u001b[0mprint\u001b[0m\u001b[0;34m(\u001b[0m\u001b[0;34m'%.4f'\u001b[0m \u001b[0;34m%\u001b[0m \u001b[0maccu\u001b[0m\u001b[0;34m,\u001b[0m \u001b[0mend\u001b[0m\u001b[0;34m=\u001b[0m\u001b[0;34m'\\t'\u001b[0m\u001b[0;34m)\u001b[0m\u001b[0;34m\u001b[0m\u001b[0;34m\u001b[0m\u001b[0m\n\u001b[0m\u001b[1;32m     48\u001b[0m         \u001b[0mprint\u001b[0m\u001b[0;34m(\u001b[0m\u001b[0;34m'%d\\t%.4f'\u001b[0m \u001b[0;34m%\u001b[0m \u001b[0;34m(\u001b[0m\u001b[0mb\u001b[0m\u001b[0;34m,\u001b[0m \u001b[0mlearning_loss\u001b[0m\u001b[0;34m)\u001b[0m\u001b[0;34m)\u001b[0m\u001b[0;34m\u001b[0m\u001b[0;34m\u001b[0m\u001b[0m\n\u001b[1;32m     49\u001b[0m \u001b[0;34m\u001b[0m\u001b[0m\n",
      "\u001b[0;31mTypeError\u001b[0m: only size-1 arrays can be converted to Python scalars"
     ]
    }
   ],
   "source": [
    "restore_training = False\n",
    "label_type = \"one_hot\"\n",
    "n_classes = 5\n",
    "seq_length = 50\n",
    "augment = True\n",
    "read_head_num = 4\n",
    "batch_size = 16\n",
    "num_epochs = 100000\n",
    "learning_rate = 1e-3\n",
    "rnn_size = 200\n",
    "image_width = 20\n",
    "image_height = 20\n",
    "rnn_num_layers = 1\n",
    "num_memory_slots = 128\n",
    "memory_vector_dim = 40\n",
    "shift_range = 1\n",
    "write_head_num = 4\n",
    "test_batch_num = 100\n",
    "n_train_classes = 220\n",
    "n_test_classes = 60\n",
    "save_dir = './save/one_shot_learning'\n",
    "tensorboard_dir = './summary/one_shot_learning'\n",
    "model_path = 'LSTM'\n",
    "train(learning_rate, image_width, image_height, n_train_classes, n_test_classes, restore_training, \\\n",
    "         num_epochs, n_classes, batch_size, seq_length, num_memory_slots, augment, save_dir, model_path, tensorboard_dir)\n"
   ]
  }
 ],
 "metadata": {
  "accelerator": "GPU",
  "celltoolbar": "Edit Metadata",
  "colab": {
   "collapsed_sections": [],
   "name": "Project_5_part_1_Student.ipynb",
   "provenance": [
    {
     "file_id": "17BvkhrvTKBi0IMM1Fazl6UVLtm0fb8E7",
     "timestamp": 1573460220489
    },
    {
     "file_id": "1tRHaZoIYsfB16Gh-s_KAX6A41NdP3XKa",
     "timestamp": 1573332369516
    },
    {
     "file_id": "1EfocEfdlVns48iXbXJf7_Jy-v-WCN9NN",
     "timestamp": 1573327062889
    }
   ]
  },
  "kernelspec": {
   "display_name": "Python 3.6 - Learning [learning/conda-5.1.0-py36-gpu]",
   "language": "python",
   "name": "sys_learning36"
  },
  "language_info": {
   "codemirror_mode": {
    "name": "ipython",
    "version": 3
   },
   "file_extension": ".py",
   "mimetype": "text/x-python",
   "name": "python",
   "nbconvert_exporter": "python",
   "pygments_lexer": "ipython3",
   "version": "3.6.4"
  }
 },
 "nbformat": 4,
 "nbformat_minor": 1
}
