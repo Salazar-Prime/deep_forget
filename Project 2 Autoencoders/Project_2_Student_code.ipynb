{
 "cells": [
  {
   "cell_type": "markdown",
   "metadata": {
    "colab_type": "text",
    "id": "xR4A9aGPpiuZ"
   },
   "source": [
    "* Student Name: Varun Aggarwal\n",
    "* ECE 595 Machine Learning II\n",
    "* Project 2: Autoencoders - Student Code"
   ]
  },
  {
   "cell_type": "code",
   "execution_count": 1,
   "metadata": {
    "colab": {},
    "colab_type": "code",
    "id": "viCY7Zn5psMN"
   },
   "outputs": [
    {
     "name": "stderr",
     "output_type": "stream",
     "text": [
      "Using TensorFlow backend.\n"
     ]
    }
   ],
   "source": [
    "#Import necessary packages\n",
    "import numpy as np\n",
    "from keras.datasets import mnist\n",
    "from keras.layers import Dense, Conv2D, MaxPooling2D, UpSampling2D\n",
    "from keras.models import Sequential\n",
    "import matplotlib.pyplot as plt\n",
    "from keras import backend as K"
   ]
  },
  {
   "cell_type": "markdown",
   "metadata": {
    "colab_type": "text",
    "id": "2vATVUR9pxNT"
   },
   "source": [
    "#Part 0: Importing and Normalizing Data"
   ]
  },
  {
   "cell_type": "code",
   "execution_count": 2,
   "metadata": {
    "colab": {},
    "colab_type": "code",
    "id": "nN1cUmn1p0vn"
   },
   "outputs": [],
   "source": [
    "#Load MNIST data and normalize to [0,1]\n",
    "(data_train, _), (data_test, _) = mnist.load_data()\n",
    "data_train = data_train/255.0\n",
    "data_test = data_test/255.0"
   ]
  },
  {
   "cell_type": "markdown",
   "metadata": {
    "colab_type": "text",
    "id": "beNpVSplNsaJ"
   },
   "source": [
    "#Part 1: Deep Fully-Connected AutoEncoder"
   ]
  },
  {
   "cell_type": "markdown",
   "metadata": {
    "colab_type": "text",
    "id": "rfm3fYwcOyBk"
   },
   "source": [
    "Answer the following questions: \n",
    "\n",
    "\n",
    "1.  We want to predict output values of the intensity of the pixels which are between 0 to 1. Therefore choice of output layer activation function is important. (Open ended reasoning question). (a) Choose 'softmax’ or ‘sigmoid’. Reason why one is preferred over the other.\n",
    " \n",
    "\n",
    "2.   remove later \n",
    "\n",
    "  ANS: When"
   ]
  },
  {
   "cell_type": "code",
   "execution_count": 5,
   "metadata": {
    "colab": {},
    "colab_type": "code",
    "id": "vqYvEhZHN_h4"
   },
   "outputs": [],
   "source": [
    "#Reshape training and testing data into 784-dimensional vectors\n",
    "#FILL IN THIS CODE BLOCK\n",
    "data_train_part1 = data_train.reshape(-1,784)\n",
    "data_test_part1 = data_test.reshape(-1,784)"
   ]
  },
  {
   "cell_type": "code",
   "execution_count": 6,
   "metadata": {
    "colab": {},
    "colab_type": "code",
    "id": "tEwdV09ms_KF"
   },
   "outputs": [
    {
     "name": "stdout",
     "output_type": "stream",
     "text": [
      "Done Training Sigmoid MSE \n",
      "Done Training Sigmoid BCE \n",
      "Done Training Linear MSE \n",
      "Done Training Linear BCE \n"
     ]
    }
   ],
   "source": [
    "#Create autoencoder architecture\n",
    "def deep_ae(act='sigmoid'):\n",
    "    model = Sequential()\n",
    "    \n",
    "    #FILL THIS IN WITH MODEL ARCHITECTURE\n",
    "    \n",
    "    # Encoder\n",
    "    model.add(Dense(400, input_dim=784, name=\"input\"))\n",
    "    model.add(Dense(200))\n",
    "    \n",
    "    # Bottleneck\n",
    "    model.add(Dense(100, name='bottleneck'))\n",
    "    \n",
    "    # Decoder\n",
    "    model.add(Dense(200))\n",
    "    model.add(Dense(400))\n",
    "    model.add(Dense(784, activation=act))\n",
    "    \n",
    "    return model\n",
    "\n",
    "#Create deep autoencoder graph\n",
    "deep_ae_sig_mse = deep_ae()\n",
    "deep_ae_sig_bce = deep_ae()\n",
    "deep_ae_lin_mse = deep_ae('linear')\n",
    "deep_ae_lin_bce = deep_ae('linear')\n",
    "\n",
    "#Compile model using an appropriate loss and optimizer algorithm\n",
    "#FILL THIS IN\n",
    "deep_ae_sig_mse.compile(loss='mean_squared_error', optimizer='adam', metrics=['accuracy'])\n",
    "deep_ae_sig_bce.compile(loss='binary_crossentropy', optimizer='adam', metrics=['accuracy'])\n",
    "deep_ae_lin_mse.compile(loss='mean_squared_error', optimizer='adam', metrics=['accuracy'])\n",
    "deep_ae_lin_bce.compile(loss='binary_crossentropy', optimizer='adam', metrics=['accuracy'])\n",
    "\n",
    "#Train the model and assign training meta-data to a variable\n",
    "#FILL THIS IN\n",
    "hist_sig_mse = deep_ae_sig_mse.fit(data_train_part1, data_train_part1, validation_data=(data_test_part1, data_test_part1), shuffle=True, epochs=150, batch_size=1024, verbose=0) \n",
    "print('Done Training Sigmoid MSE ')\n",
    "hist_sig_bce = deep_ae_sig_bce.fit(data_train_part1, data_train_part1, validation_data=(data_test_part1, data_test_part1), shuffle=True, epochs=150, batch_size=1024, verbose=0) \n",
    "print('Done Training Sigmoid BCE ')\n",
    "hist_lin_mse = deep_ae_lin_mse.fit(data_train_part1, data_train_part1, validation_data=(data_test_part1, data_test_part1), shuffle=True, epochs=150, batch_size=1024, verbose=0) \n",
    "print('Done Training Linear MSE ')\n",
    "hist_lin_bce = deep_ae_lin_bce.fit(data_train_part1, data_train_part1, validation_data=(data_test_part1, data_test_part1), shuffle=True, epochs=150, batch_size=1024, verbose=0) \n",
    "print('Done Training Linear BCE ')"
   ]
  },
  {
   "cell_type": "code",
   "execution_count": 36,
   "metadata": {
    "colab": {},
    "colab_type": "code",
    "id": "cb1psOUHtZpk"
   },
   "outputs": [
    {
     "data": {
      "image/png": "[encoded data removed]",
      "text/plain": [
       "<matplotlib.figure.Figure at 0x2b52782060d0>"
      ]
     },
     "metadata": {},
     "output_type": "display_data"
    }
   ],
   "source": [
    "#Plot loss vs epoch for BCE and MSE [Together or separate, Both accepted]\n",
    "#FILL THIS CODE BLOCK IN AND PRODUCE PLOT\n",
    "\n",
    "# Plot loss vs epoch for all combinations of output activation and loss functions\n",
    "fig =  plt.figure(figsize=(6, 6))\n",
    "\n",
    "# plot Sigmoid and MSE\n",
    "ax = fig.add_subplot(2,2,1)\n",
    "ax.plot(hist_sig_mse.history['loss'])\n",
    "ax.plot(hist_sig_mse.history['val_loss'])\n",
    "ax.set_ylabel('loss')\n",
    "ax.set_xlabel('epoch')\n",
    "ax.legend(['train','val'])\n",
    "ax.set_title('Sigmoid and MSE')\n",
    "\n",
    "# plot Sigmoid and BCE\n",
    "ax = fig.add_subplot(2,2,2)\n",
    "ax.plot(hist_sig_bce.history['loss'])\n",
    "ax.plot(hist_sig_bce.history['val_loss'])\n",
    "ax.set_ylabel('loss')\n",
    "ax.set_xlabel('epoch')\n",
    "ax.legend(['train','val'])\n",
    "ax.set_title('Sigmoid and BCE')\n",
    "\n",
    "# plot Sigmoid and MSE\n",
    "ax = fig.add_subplot(2,2,3)\n",
    "ax.plot(hist_lin_mse.history['loss'])\n",
    "ax.plot(hist_lin_mse.history['val_loss'])\n",
    "ax.set_ylabel('loss')\n",
    "ax.set_xlabel('epoch')\n",
    "ax.set_ylim([0,0.1])\n",
    "ax.legend(['train','val'])\n",
    "ax.set_title('Linear and MSE')\n",
    "\n",
    "# plot Sigmoid and BCE\n",
    "ax = fig.add_subplot(2,2,4)\n",
    "ax.plot(hist_lin_bce.history['loss'])\n",
    "ax.plot(hist_lin_bce.history['val_loss'])\n",
    "ax.set_ylabel('loss')\n",
    "ax.set_xlabel('epoch')\n",
    "ax.legend(['train','val'])\n",
    "ax.set_title('Linear and BCE')\n",
    "\n",
    "fig.tight_layout()"
   ]
  },
  {
   "cell_type": "code",
   "execution_count": 52,
   "metadata": {
    "colab": {},
    "colab_type": "code",
    "id": "tEwdV09ms_KF"
   },
   "outputs": [],
   "source": [
    "#Calculate the reconstructions of the testing set (output of autoencoder on test set)\n",
    "#FILL THIS IN\n",
    "predicted_data = deep_ae_sig_mse.predict(data_test_part1)\n",
    "\n",
    "#Obtain encoder representation of data\n",
    "new_model = K.function([deep_ae_sig_mse.get_layer('input').input], [deep_ae_sig_mse.get_layer('bottleneck').output])\n",
    "encoder_rep = new_model([data_test_part1])[0]"
   ]
  },
  {
   "cell_type": "code",
   "execution_count": 125,
   "metadata": {
    "colab": {},
    "colab_type": "code",
    "id": "21ALTu2Vte2-",
    "scrolled": true
   },
   "outputs": [
    {
     "data": {
      "image/png": "[encoded data removed]",
      "text/plain": [
       "<matplotlib.figure.Figure at 0x2b52795daad0>"
      ]
     },
     "metadata": {},
     "output_type": "display_data"
    }
   ],
   "source": [
    "#Show samples of 10 images, their hidden layer representations, and their reconstructions\n",
    "#FILL THIS CODE BLOCK IN AND PRODUCE SAMPLES\n",
    "fig = plt.figure(figsize=(12,4))\n",
    "gs = plt.GridSpec(3, 10, wspace=0.05) \n",
    "\n",
    "for i in range(10):\n",
    "    # plot training\n",
    "    ax = fig.add_subplot(gs[0,i])\n",
    "    ax.imshow(data_test_part1[i].reshape(-1, 28))\n",
    "    ax.axis('off')\n",
    "    \n",
    "    # plot bottleneck\n",
    "    ax = fig.add_subplot(gs[1,i])\n",
    "    ax.imshow(encoder_rep[i].reshape(-1, 10))\n",
    "    ax.axis('off')\n",
    "    \n",
    "    # plot output\n",
    "    ax = fig.add_subplot(gs[2,i])\n",
    "    ax.imshow(predicted_data[i].reshape(-1, 28))\n",
    "    ax.axis('off')"
   ]
  },
  {
   "cell_type": "markdown",
   "metadata": {
    "colab_type": "text",
    "id": "Tx3piQQZReeW"
   },
   "source": [
    "Answer the following questions: \n",
    "\n",
    "\n",
    "1.  Question 2c: BONUS [reasoning question]: Pair the output layer activation and loss function which performs better together. Linear, sigmoid, Binary cross entropy and Mean Square error\n",
    " \n",
    "\n",
    "2.  Question 5: Which loss function is better and why?\n",
    "\n",
    "3.  Question 6: If we were to predict pixels values [0 to 255] directly at the output of last layer. Should there be an activation function in last later?  If yes, which activation function and why?,  If No, reason why?"
   ]
  },
  {
   "cell_type": "markdown",
   "metadata": {
    "colab_type": "text",
    "id": "TA4O3FwRt-sO"
   },
   "source": [
    "#Part 2: Deep Convolutional AutoEncoder"
   ]
  },
  {
   "cell_type": "code",
   "execution_count": null,
   "metadata": {
    "colab": {},
    "colab_type": "code",
    "id": "-a7Xlz7VuBl8"
   },
   "outputs": [],
   "source": [
    "#Reshape data into 2-D signals and account for grayscale channel in each image\n",
    "#FILL IN THIS CODE BLOCK"
   ]
  },
  {
   "cell_type": "code",
   "execution_count": null,
   "metadata": {
    "colab": {},
    "colab_type": "code",
    "id": "a-wENWWnuQGa"
   },
   "outputs": [],
   "source": [
    "#Create Convolutional AutoEncoder Architecture\n",
    "def cae():\n",
    "    model = Sequential()\n",
    "\n",
    "    #FILL THIS IN WITH MODEL ARCHITECTURE\n",
    "\n",
    "    return model\n",
    "\n",
    "#Create deep autoencoder graph\n",
    "conv_ae = cae()\n",
    "\n",
    "#Compile model using an appropriate loss and optimizer algorithm\n",
    "#FILL THIS IN\n",
    "\n",
    "#Train the model and assign training meta-data to a variable\n",
    "#FILL THIS IN\n",
    "\n",
    "#Calculate the reconstructions of the testing set (output of autoencoder on test set)\n",
    "#FILL THIS IN\n",
    "\n",
    "\n",
    "#Obtain encoder representation of data\n",
    "get_hl = K.function([conv_ae.layers[0].input], [conv_ae.layers[3].output])  # The fourth hidden layer are indexed at 3\n",
    "conv_ae_hl = get_hl([data_test_reshape_cae])[0]"
   ]
  },
  {
   "cell_type": "code",
   "execution_count": null,
   "metadata": {
    "colab": {},
    "colab_type": "code",
    "id": "7sVJO4y1ujCZ"
   },
   "outputs": [],
   "source": [
    "#Plot loss vs epoch  for BCE and MSE [Together or separate, Both accepted]\n",
    "#FILL THIS CODE BLOCK IN AND PRODUCE PLOT"
   ]
  },
  {
   "cell_type": "code",
   "execution_count": null,
   "metadata": {
    "colab": {},
    "colab_type": "code",
    "id": "KcclERBAu0-u"
   },
   "outputs": [],
   "source": [
    "#Show samples of 10 images, their hidden layer representations, and their reconstructions\n",
    "#FILL THIS CODE BLOCK IN AND PRODUCE SAMPLES"
   ]
  },
  {
   "cell_type": "markdown",
   "metadata": {
    "colab_type": "text",
    "id": "V8lacfJnUyET"
   },
   "source": [
    "Answer the following questions: \n",
    "\n",
    "\n",
    "1.  Question 4: Which loss function is better and why?"
   ]
  },
  {
   "cell_type": "markdown",
   "metadata": {
    "colab_type": "text",
    "id": "6QfcpOPXvezs"
   },
   "source": [
    "#Part 3: Denoising AutoEncoder"
   ]
  },
  {
   "cell_type": "code",
   "execution_count": null,
   "metadata": {
    "colab": {},
    "colab_type": "code",
    "id": "c-lVJ3pfvhT5"
   },
   "outputs": [],
   "source": [
    "#Inject noise into testing data\n",
    "noise_factor = 0.25\n",
    "data_train_noisy = data_train + noise_factor * np.random.normal(loc=0.0, scale=1.0, size=data_train.shape)\n",
    "data_test_noisy = data_test + noise_factor * np.random.normal(loc=0.0, scale=1.0, size=data_test.shape)\n",
    "\n",
    "#Clip to stay within valid (normalized) pixel range\n",
    "data_train_noisy = np.clip(data_train_noisy, 0., 1.)\n",
    "data_test_noisy = np.clip(data_test_noisy, 0., 1.)\n",
    "\n",
    "#Reshape data to comply with input of denoising autoencoder\n",
    "#FILL THIS IN"
   ]
  },
  {
   "cell_type": "code",
   "execution_count": null,
   "metadata": {
    "colab": {},
    "colab_type": "code",
    "id": "J4zyjNfawzpU"
   },
   "outputs": [],
   "source": [
    "#Show samples of 10 original images and their corrsponding noisy counterparts from the training set\n",
    "#FILL THIS CODE BLOCK IN AND PRODUCE SAMPLES"
   ]
  },
  {
   "cell_type": "code",
   "execution_count": null,
   "metadata": {
    "colab": {},
    "colab_type": "code",
    "id": "2nuk3UxSxD9D"
   },
   "outputs": [],
   "source": [
    "#Create denoising autoencoder architecture\n",
    "def dae():\n",
    "\n",
    "    #FILL THIS IN WITH MODEL ARCHITECTURE\n",
    "\n",
    "    return model\n",
    "  \n",
    "\n",
    "  \n",
    "#Compile and train the DAE\n",
    "#FILL THIS IN\n",
    "\n",
    "\n",
    "#Generate denoised versions of noisy inputs\n",
    "#FILL THIS IN\n"
   ]
  },
  {
   "cell_type": "code",
   "execution_count": null,
   "metadata": {
    "colab": {},
    "colab_type": "code",
    "id": "_azeum1yxYIf"
   },
   "outputs": [],
   "source": [
    "#Plot loss vs epoch\n",
    "#FILL THIS CODE BLOCK IN AND PRODUCE PLOT"
   ]
  },
  {
   "cell_type": "code",
   "execution_count": null,
   "metadata": {
    "colab": {},
    "colab_type": "code",
    "id": "m6-Xh7EDx0Vq"
   },
   "outputs": [],
   "source": [
    "#Show samples of 10 original images, their noisy counterparts, and their de-noised images from the testing set\n",
    "#FILL THIS CODE BLOCK IN AND PRODUCE SAMPLES"
   ]
  }
 ],
 "metadata": {
  "colab": {
   "collapsed_sections": [],
   "name": "Project_2_Student.ipynb",
   "provenance": [],
   "toc_visible": true
  },
  "kernelspec": {
   "display_name": "Python 2.7 - Learning [learning/conda-5.1.0-py27-gpu]",
   "language": "python",
   "name": "sys_learning27"
  },
  "language_info": {
   "codemirror_mode": {
    "name": "ipython",
    "version": 2
   },
   "file_extension": ".py",
   "mimetype": "text/x-python",
   "name": "python",
   "nbconvert_exporter": "python",
   "pygments_lexer": "ipython2",
   "version": "2.7.14"
  }
 },
 "nbformat": 4,
 "nbformat_minor": 1
}
