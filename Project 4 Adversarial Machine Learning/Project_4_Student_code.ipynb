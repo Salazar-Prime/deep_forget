{
 "cells": [
  {
   "cell_type": "markdown",
   "metadata": {
    "colab_type": "text",
    "id": "NiZYmbLsCx8C"
   },
   "source": [
    "* Student Name: Varun Aggarwal\n",
    "* ECE 595 Machine Learning II\n",
    "* Project 4: Adversarial Machine Learning - Student Code"
   ]
  },
  {
   "cell_type": "code",
   "execution_count": 1,
   "metadata": {
    "colab": {},
    "colab_type": "code",
    "id": "mVKiKyxvrDio"
   },
   "outputs": [
    {
     "name": "stderr",
     "output_type": "stream",
     "text": [
      "Using TensorFlow backend.\n"
     ]
    },
    {
     "name": "stdout",
     "output_type": "stream",
     "text": [
      "tf.estimator package not installed.\n",
      "tf.estimator package not installed.\n"
     ]
    }
   ],
   "source": [
    "#Import necessary packages\n",
    "from keras.datasets import mnist\n",
    "from keras import Sequential\n",
    "from keras.layers import Dense, BatchNormalization\n",
    "from keras import backend\n",
    "import keras\n",
    "import tensorflow as tf\n",
    "import numpy as np\n",
    "import matplotlib.pyplot as plt\n",
    "from sklearn.decomposition import PCA\n",
    "from cleverhans.utils_keras import KerasModelWrapper\n",
    "from cleverhans.attacks import FastGradientMethod, MadryEtAl, DeepFool, CarliniWagnerL2"
   ]
  },
  {
   "cell_type": "markdown",
   "metadata": {
    "colab_type": "text",
    "id": "AR7lUPK3rL3d"
   },
   "source": [
    "# Part 1: Training a target classifier"
   ]
  },
  {
   "cell_type": "code",
   "execution_count": 6,
   "metadata": {
    "colab": {},
    "colab_type": "code",
    "id": "dRvltpU9rMZp",
    "scrolled": true
   },
   "outputs": [
    {
     "name": "stdout",
     "output_type": "stream",
     "text": [
      "Train on 60000 samples, validate on 10000 samples\n",
      "Epoch 1/50\n",
      " - 5s - loss: 0.3550 - acc: 0.9051 - val_loss: 0.2538 - val_acc: 0.9565\n",
      "Epoch 2/50\n",
      " - 4s - loss: 0.1112 - acc: 0.9673 - val_loss: 0.1050 - val_acc: 0.9678\n",
      "Epoch 3/50\n",
      " - 4s - loss: 0.0740 - acc: 0.9778 - val_loss: 0.0883 - val_acc: 0.9743\n",
      "Epoch 4/50\n",
      " - 4s - loss: 0.0521 - acc: 0.9838 - val_loss: 0.0903 - val_acc: 0.9686\n",
      "Epoch 5/50\n",
      " - 4s - loss: 0.0404 - acc: 0.9880 - val_loss: 0.0813 - val_acc: 0.9754\n",
      "Epoch 6/50\n",
      " - 4s - loss: 0.0313 - acc: 0.9905 - val_loss: 0.0705 - val_acc: 0.9786\n",
      "Epoch 7/50\n",
      " - 4s - loss: 0.0240 - acc: 0.9928 - val_loss: 0.0899 - val_acc: 0.9723\n",
      "Epoch 8/50\n",
      " - 4s - loss: 0.0220 - acc: 0.9935 - val_loss: 0.0787 - val_acc: 0.9761\n",
      "Epoch 9/50\n",
      " - 4s - loss: 0.0168 - acc: 0.9950 - val_loss: 0.0740 - val_acc: 0.9793\n",
      "Epoch 10/50\n",
      " - 4s - loss: 0.0132 - acc: 0.9963 - val_loss: 0.0866 - val_acc: 0.9776\n",
      "Epoch 11/50\n",
      " - 4s - loss: 0.0117 - acc: 0.9965 - val_loss: 0.0850 - val_acc: 0.9783\n",
      "Epoch 12/50\n",
      " - 4s - loss: 0.0115 - acc: 0.9964 - val_loss: 0.0858 - val_acc: 0.9774\n",
      "Epoch 13/50\n",
      " - 4s - loss: 0.0126 - acc: 0.9958 - val_loss: 0.0986 - val_acc: 0.9761\n",
      "Epoch 14/50\n",
      " - 4s - loss: 0.0118 - acc: 0.9959 - val_loss: 0.0992 - val_acc: 0.9759\n",
      "Epoch 15/50\n",
      " - 4s - loss: 0.0091 - acc: 0.9972 - val_loss: 0.0981 - val_acc: 0.9761\n",
      "Epoch 16/50\n",
      " - 4s - loss: 0.0069 - acc: 0.9981 - val_loss: 0.0855 - val_acc: 0.9782\n",
      "Epoch 17/50\n",
      " - 4s - loss: 0.0054 - acc: 0.9983 - val_loss: 0.0954 - val_acc: 0.9768\n",
      "Epoch 18/50\n",
      " - 4s - loss: 0.0075 - acc: 0.9978 - val_loss: 0.0982 - val_acc: 0.9778\n",
      "Epoch 19/50\n",
      " - 4s - loss: 0.0084 - acc: 0.9974 - val_loss: 0.1063 - val_acc: 0.9746\n",
      "Epoch 20/50\n",
      " - 4s - loss: 0.0067 - acc: 0.9980 - val_loss: 0.0933 - val_acc: 0.9794\n",
      "Epoch 21/50\n",
      " - 4s - loss: 0.0058 - acc: 0.9982 - val_loss: 0.1100 - val_acc: 0.9759\n",
      "Epoch 22/50\n",
      " - 4s - loss: 0.0083 - acc: 0.9974 - val_loss: 0.1001 - val_acc: 0.9780\n",
      "Epoch 23/50\n",
      " - 4s - loss: 0.0089 - acc: 0.9969 - val_loss: 0.0960 - val_acc: 0.9787\n",
      "Epoch 24/50\n",
      " - 4s - loss: 0.0058 - acc: 0.9982 - val_loss: 0.1027 - val_acc: 0.9765\n",
      "Epoch 25/50\n",
      " - 4s - loss: 0.0042 - acc: 0.9988 - val_loss: 0.0953 - val_acc: 0.9790\n",
      "Epoch 26/50\n",
      " - 4s - loss: 0.0035 - acc: 0.9991 - val_loss: 0.0952 - val_acc: 0.9803\n",
      "Epoch 27/50\n",
      " - 4s - loss: 0.0033 - acc: 0.9990 - val_loss: 0.0924 - val_acc: 0.9798\n",
      "Epoch 28/50\n",
      " - 4s - loss: 0.0036 - acc: 0.9989 - val_loss: 0.1131 - val_acc: 0.9773\n",
      "Epoch 29/50\n",
      " - 4s - loss: 0.0084 - acc: 0.9973 - val_loss: 0.0972 - val_acc: 0.9788\n",
      "Epoch 30/50\n",
      " - 4s - loss: 0.0072 - acc: 0.9974 - val_loss: 0.0891 - val_acc: 0.9804\n",
      "Epoch 31/50\n",
      " - 4s - loss: 0.0050 - acc: 0.9983 - val_loss: 0.1140 - val_acc: 0.9774\n",
      "Epoch 32/50\n",
      " - 4s - loss: 0.0036 - acc: 0.9990 - val_loss: 0.1049 - val_acc: 0.9779\n",
      "Epoch 33/50\n",
      " - 4s - loss: 0.0040 - acc: 0.9987 - val_loss: 0.0970 - val_acc: 0.9791\n",
      "Epoch 34/50\n",
      " - 4s - loss: 0.0027 - acc: 0.9992 - val_loss: 0.1067 - val_acc: 0.9783\n",
      "Epoch 35/50\n",
      " - 4s - loss: 0.0041 - acc: 0.9988 - val_loss: 0.1133 - val_acc: 0.9777\n",
      "Epoch 36/50\n",
      " - 4s - loss: 0.0080 - acc: 0.9973 - val_loss: 0.1114 - val_acc: 0.9788\n",
      "Epoch 37/50\n",
      " - 4s - loss: 0.0038 - acc: 0.9989 - val_loss: 0.0991 - val_acc: 0.9800\n",
      "Epoch 38/50\n",
      " - 4s - loss: 0.0027 - acc: 0.9992 - val_loss: 0.1142 - val_acc: 0.9774\n",
      "Epoch 39/50\n",
      " - 4s - loss: 0.0031 - acc: 0.9991 - val_loss: 0.1010 - val_acc: 0.9801\n",
      "Epoch 40/50\n",
      " - 4s - loss: 0.0031 - acc: 0.9989 - val_loss: 0.1011 - val_acc: 0.9801\n",
      "Epoch 41/50\n",
      " - 4s - loss: 0.0031 - acc: 0.9990 - val_loss: 0.1064 - val_acc: 0.9783\n",
      "Epoch 42/50\n",
      " - 4s - loss: 0.0057 - acc: 0.9980 - val_loss: 0.1261 - val_acc: 0.9759\n",
      "Epoch 43/50\n",
      " - 4s - loss: 0.0049 - acc: 0.9984 - val_loss: 0.1162 - val_acc: 0.9770\n",
      "Epoch 44/50\n",
      " - 4s - loss: 0.0031 - acc: 0.9992 - val_loss: 0.1047 - val_acc: 0.9793\n",
      "Epoch 45/50\n",
      " - 4s - loss: 0.0018 - acc: 0.9995 - val_loss: 0.1045 - val_acc: 0.9798\n",
      "Epoch 46/50\n",
      " - 4s - loss: 0.0010 - acc: 0.9997 - val_loss: 0.1089 - val_acc: 0.9799\n",
      "Epoch 47/50\n",
      " - 4s - loss: 0.0022 - acc: 0.9994 - val_loss: 0.0996 - val_acc: 0.9789\n",
      "Epoch 48/50\n",
      " - 4s - loss: 0.0037 - acc: 0.9989 - val_loss: 0.1187 - val_acc: 0.9780\n",
      "Epoch 49/50\n",
      " - 4s - loss: 0.0058 - acc: 0.9981 - val_loss: 0.1223 - val_acc: 0.9760\n",
      "Epoch 50/50\n",
      " - 4s - loss: 0.0046 - acc: 0.9983 - val_loss: 0.1184 - val_acc: 0.9774\n"
     ]
    }
   ],
   "source": [
    "# Load data MNIST data and normalize to [0, 1]\n",
    "#FILL THIS IN\n",
    "(data_train, labels_train), (data_test, labels_test) = mnist.load_data()\n",
    "data_train = data_train/255.0\n",
    "data_test = data_test/255.0\n",
    "\n",
    "#Reshape training and testing data into 784-dimensional vectors \n",
    "#FILL THIS IN\n",
    "data_train = data_train.reshape(-1,784)\n",
    "data_test = data_test.reshape(-1,784)\n",
    "\n",
    "#Convert integer labels for training and testing data into one-hot vectors \n",
    "#FILL THIS IN\n",
    "labels_train = keras.utils.np_utils.to_categorical(labels_train, num_classes=10)\n",
    "labels_test = keras.utils.np_utils.to_categorical(labels_test, num_classes=10)\n",
    "\n",
    "#Create classifier architecture, compile it, and train it\n",
    "#FILL THIS IN\n",
    "model = Sequential()\n",
    "model.add(Dense(100, input_dim=784, name=\"input\", activation=\"relu\", kernel_initializer=\"normal\"))\n",
    "model.add(BatchNormalization())\n",
    "model.add(Dense(100, activation=\"relu\", kernel_initializer=\"normal\"))\n",
    "model.add(BatchNormalization())\n",
    "model.add(Dense(10, activation=\"softmax\", kernel_initializer=\"normal\"))\n",
    "model.compile(loss=\"categorical_crossentropy\", metrics=['accuracy'], optimizer=\"adam\")\n",
    "hist = model.fit(data_train, labels_train, validation_data=(data_test, labels_test),shuffle=True,epochs=50,batch_size=256, verbose=2) "
   ]
  },
  {
   "cell_type": "code",
   "execution_count": 7,
   "metadata": {
    "colab": {},
    "colab_type": "code",
    "id": "uOsXwFOvrs14"
   },
   "outputs": [
    {
     "data": {
      "image/png": "[encoded data removed]",
      "text/plain": [
       "<Figure size 432x288 with 1 Axes>"
      ]
     },
     "metadata": {
      "needs_background": "light"
     },
     "output_type": "display_data"
    }
   ],
   "source": [
    "#Plot loss vs epoch\n",
    "#FILL THIS IN\n",
    "plt.plot(range(1,51),hist.history['loss'])\n",
    "plt.plot(range(1,51),hist.history['val_loss'])\n",
    "plt.title(\"Loss vs Epoch\")\n",
    "plt.xlabel(\"Epochs\")\n",
    "plt.ylabel(\"Loss\")\n",
    "plt.legend(['Training Loss','Validation Loss'])\n",
    "plt.grid(True)"
   ]
  },
  {
   "cell_type": "code",
   "execution_count": 8,
   "metadata": {
    "colab": {},
    "colab_type": "code",
    "id": "4C4mOVvSr4KP"
   },
   "outputs": [
    {
     "data": {
      "image/png": "[encoded data removed]",
      "text/plain": [
       "<Figure size 432x288 with 1 Axes>"
      ]
     },
     "metadata": {
      "needs_background": "light"
     },
     "output_type": "display_data"
    }
   ],
   "source": [
    "#Plot accuracy vs epoch\n",
    "#FILL THIS IN\n",
    "plt.plot(range(1,51),hist.history['acc'])\n",
    "plt.plot(range(1,51),hist.history['val_acc'])\n",
    "plt.title(\"Accuracy vs Epoch\")\n",
    "plt.xlabel(\"Epochs\")\n",
    "plt.ylim(0,1.1)\n",
    "plt.ylabel(\"Accuracies\")\n",
    "plt.legend(['Training Accuracy','Validation Accuracy'])\n",
    "plt.grid(True)"
   ]
  },
  {
   "cell_type": "code",
   "execution_count": 9,
   "metadata": {
    "colab": {},
    "colab_type": "code",
    "id": "gr53zDpTr5wO"
   },
   "outputs": [
    {
     "name": "stdout",
     "output_type": "stream",
     "text": [
      "10000/10000 [==============================] - 0s 28us/step\n",
      "Test Accuracy: 97.74%\n"
     ]
    }
   ],
   "source": [
    "#Print accuracy of classifier on MNIST testing data\n",
    "#FILL THIS IN\n",
    "[test_loss,test_acc] = model.evaluate(data_test, labels_test, batch_size = 512)\n",
    "print(\"Test Accuracy: {:0.2f}%\".format(test_acc*100))"
   ]
  },
  {
   "cell_type": "code",
   "execution_count": 19,
   "metadata": {
    "colab": {},
    "colab_type": "code",
    "id": "YEcrqpjas3Xh"
   },
   "outputs": [],
   "source": [
    "# Edit the classifier name fed into KerasModel Wrapper with the name of the \n",
    "# classifier from above and then run this block\n",
    "\n",
    "#Get TensorFlow Session to pass into Cleverhans modules\n",
    "sess = backend.get_session()\n",
    "\n",
    "#Create wrapper for classifier model so that it can be passed into Cleverhans modules\n",
    "wrap = KerasModelWrapper(model)"
   ]
  },
  {
   "cell_type": "markdown",
   "metadata": {
    "colab_type": "text",
    "id": "8_Ehc7tas5YS"
   },
   "source": [
    "# Part 2: The Fast Gradient Method (FGM)"
   ]
  },
  {
   "cell_type": "code",
   "execution_count": 23,
   "metadata": {
    "colab": {},
    "colab_type": "code",
    "id": "GA5T9mkws9vJ"
   },
   "outputs": [
    {
     "ename": "InvalidArgumentError",
     "evalue": "You must feed a value for placeholder tensor 'batch_normalization_1/keras_learning_phase' with dtype bool\n\t [[node batch_normalization_1/keras_learning_phase (defined at /home/aggarw82/.conda/envs/cent7/5.1.0-py27/custom_jupyter_27/lib/python2.7/site-packages/keras/backend/tensorflow_backend.py:120)  = Placeholder[dtype=DT_BOOL, shape=<unknown>, _device=\"/job:localhost/replica:0/task:0/device:CPU:0\"]()]]\n\nCaused by op u'batch_normalization_1/keras_learning_phase', defined at:\n  File \"/home/aggarw82/.conda/envs/cent7/5.1.0-py27/custom_jupyter_27/lib/python2.7/runpy.py\", line 174, in _run_module_as_main\n    \"__main__\", fname, loader, pkg_name)\n  File \"/home/aggarw82/.conda/envs/cent7/5.1.0-py27/custom_jupyter_27/lib/python2.7/runpy.py\", line 72, in _run_code\n    exec code in run_globals\n  File \"/home/aggarw82/.conda/envs/cent7/5.1.0-py27/custom_jupyter_27/lib/python2.7/site-packages/ipykernel_launcher.py\", line 16, in <module>\n    app.launch_new_instance()\n  File \"/home/aggarw82/.conda/envs/cent7/5.1.0-py27/custom_jupyter_27/lib/python2.7/site-packages/traitlets/config/application.py\", line 664, in launch_instance\n    app.start()\n  File \"/home/aggarw82/.conda/envs/cent7/5.1.0-py27/custom_jupyter_27/lib/python2.7/site-packages/ipykernel/kernelapp.py\", line 499, in start\n    self.io_loop.start()\n  File \"/home/aggarw82/.conda/envs/cent7/5.1.0-py27/custom_jupyter_27/lib/python2.7/site-packages/tornado/ioloop.py\", line 1073, in start\n    handler_func(fd_obj, events)\n  File \"/home/aggarw82/.conda/envs/cent7/5.1.0-py27/custom_jupyter_27/lib/python2.7/site-packages/tornado/stack_context.py\", line 300, in null_wrapper\n    return fn(*args, **kwargs)\n  File \"/home/aggarw82/.conda/envs/cent7/5.1.0-py27/custom_jupyter_27/lib/python2.7/site-packages/zmq/eventloop/zmqstream.py\", line 456, in _handle_events\n    self._handle_recv()\n  File \"/home/aggarw82/.conda/envs/cent7/5.1.0-py27/custom_jupyter_27/lib/python2.7/site-packages/zmq/eventloop/zmqstream.py\", line 486, in _handle_recv\n    self._run_callback(callback, msg)\n  File \"/home/aggarw82/.conda/envs/cent7/5.1.0-py27/custom_jupyter_27/lib/python2.7/site-packages/zmq/eventloop/zmqstream.py\", line 438, in _run_callback\n    callback(*args, **kwargs)\n  File \"/home/aggarw82/.conda/envs/cent7/5.1.0-py27/custom_jupyter_27/lib/python2.7/site-packages/tornado/stack_context.py\", line 300, in null_wrapper\n    return fn(*args, **kwargs)\n  File \"/home/aggarw82/.conda/envs/cent7/5.1.0-py27/custom_jupyter_27/lib/python2.7/site-packages/ipykernel/kernelbase.py\", line 283, in dispatcher\n    return self.dispatch_shell(stream, msg)\n  File \"/home/aggarw82/.conda/envs/cent7/5.1.0-py27/custom_jupyter_27/lib/python2.7/site-packages/ipykernel/kernelbase.py\", line 233, in dispatch_shell\n    handler(stream, idents, msg)\n  File \"/home/aggarw82/.conda/envs/cent7/5.1.0-py27/custom_jupyter_27/lib/python2.7/site-packages/ipykernel/kernelbase.py\", line 399, in execute_request\n    user_expressions, allow_stdin)\n  File \"/home/aggarw82/.conda/envs/cent7/5.1.0-py27/custom_jupyter_27/lib/python2.7/site-packages/ipykernel/ipkernel.py\", line 208, in do_execute\n    res = shell.run_cell(code, store_history=store_history, silent=silent)\n  File \"/home/aggarw82/.conda/envs/cent7/5.1.0-py27/custom_jupyter_27/lib/python2.7/site-packages/ipykernel/zmqshell.py\", line 537, in run_cell\n    return super(ZMQInteractiveShell, self).run_cell(*args, **kwargs)\n  File \"/home/aggarw82/.conda/envs/cent7/5.1.0-py27/custom_jupyter_27/lib/python2.7/site-packages/IPython/core/interactiveshell.py\", line 2714, in run_cell\n    interactivity=interactivity, compiler=compiler, result=result)\n  File \"/home/aggarw82/.conda/envs/cent7/5.1.0-py27/custom_jupyter_27/lib/python2.7/site-packages/IPython/core/interactiveshell.py\", line 2818, in run_ast_nodes\n    if self.run_code(code, result):\n  File \"/home/aggarw82/.conda/envs/cent7/5.1.0-py27/custom_jupyter_27/lib/python2.7/site-packages/IPython/core/interactiveshell.py\", line 2878, in run_code\n    exec(code_obj, self.user_global_ns, self.user_ns)\n  File \"<ipython-input-2-d9ec23ac466f>\", line 21, in <module>\n    model.add(BatchNormalization())\n  File \"/home/aggarw82/.conda/envs/cent7/5.1.0-py27/custom_jupyter_27/lib/python2.7/site-packages/keras/models.py\", line 489, in add\n    output_tensor = layer(self.outputs[0])\n  File \"/home/aggarw82/.conda/envs/cent7/5.1.0-py27/custom_jupyter_27/lib/python2.7/site-packages/keras/engine/topology.py\", line 603, in __call__\n    output = self.call(inputs, **kwargs)\n  File \"/home/aggarw82/.conda/envs/cent7/5.1.0-py27/custom_jupyter_27/lib/python2.7/site-packages/keras/layers/normalization.py\", line 190, in call\n    training=training)\n  File \"/home/aggarw82/.conda/envs/cent7/5.1.0-py27/custom_jupyter_27/lib/python2.7/site-packages/keras/backend/tensorflow_backend.py\", line 2735, in in_train_phase\n    training = learning_phase()\n  File \"/home/aggarw82/.conda/envs/cent7/5.1.0-py27/custom_jupyter_27/lib/python2.7/site-packages/keras/backend/tensorflow_backend.py\", line 120, in learning_phase\n    name='keras_learning_phase')\n  File \"/home/aggarw82/.conda/envs/cent7/5.1.0-py27/custom_jupyter_27/lib/python2.7/site-packages/tensorflow/python/ops/array_ops.py\", line 1747, in placeholder\n    return gen_array_ops.placeholder(dtype=dtype, shape=shape, name=name)\n  File \"/home/aggarw82/.conda/envs/cent7/5.1.0-py27/custom_jupyter_27/lib/python2.7/site-packages/tensorflow/python/ops/gen_array_ops.py\", line 5206, in placeholder\n    \"Placeholder\", dtype=dtype, shape=shape, name=name)\n  File \"/home/aggarw82/.conda/envs/cent7/5.1.0-py27/custom_jupyter_27/lib/python2.7/site-packages/tensorflow/python/framework/op_def_library.py\", line 787, in _apply_op_helper\n    op_def=op_def)\n  File \"/home/aggarw82/.conda/envs/cent7/5.1.0-py27/custom_jupyter_27/lib/python2.7/site-packages/tensorflow/python/util/deprecation.py\", line 488, in new_func\n    return func(*args, **kwargs)\n  File \"/home/aggarw82/.conda/envs/cent7/5.1.0-py27/custom_jupyter_27/lib/python2.7/site-packages/tensorflow/python/framework/ops.py\", line 3274, in create_op\n    op_def=op_def)\n  File \"/home/aggarw82/.conda/envs/cent7/5.1.0-py27/custom_jupyter_27/lib/python2.7/site-packages/tensorflow/python/framework/ops.py\", line 1770, in __init__\n    self._traceback = tf_stack.extract_stack()\n\nInvalidArgumentError (see above for traceback): You must feed a value for placeholder tensor 'batch_normalization_1/keras_learning_phase' with dtype bool\n\t [[node batch_normalization_1/keras_learning_phase (defined at /home/aggarw82/.conda/envs/cent7/5.1.0-py27/custom_jupyter_27/lib/python2.7/site-packages/keras/backend/tensorflow_backend.py:120)  = Placeholder[dtype=DT_BOOL, shape=<unknown>, _device=\"/job:localhost/replica:0/task:0/device:CPU:0\"]()]]\n",
     "output_type": "error",
     "traceback": [
      "\u001b[0;31m\u001b[0m",
      "\u001b[0;31mInvalidArgumentError\u001b[0mTraceback (most recent call last)",
      "\u001b[0;32m<ipython-input-23-452219abf966>\u001b[0m in \u001b[0;36m<module>\u001b[0;34m()\u001b[0m\n\u001b[1;32m     17\u001b[0m \u001b[0;31m#FILL THIS IN\u001b[0m\u001b[0;34m\u001b[0m\u001b[0;34m\u001b[0m\u001b[0m\n\u001b[1;32m     18\u001b[0m \u001b[0mbackend\u001b[0m\u001b[0;34m.\u001b[0m\u001b[0mset_learning_phase\u001b[0m\u001b[0;34m(\u001b[0m\u001b[0;36m1\u001b[0m\u001b[0;34m)\u001b[0m\u001b[0;34m\u001b[0m\u001b[0m\n\u001b[0;32m---> 19\u001b[0;31m \u001b[0;34m[\u001b[0m\u001b[0mtest_loss_fgm\u001b[0m\u001b[0;34m,\u001b[0m \u001b[0mtest_acc_fgm\u001b[0m\u001b[0;34m]\u001b[0m \u001b[0;34m=\u001b[0m \u001b[0mmodel\u001b[0m\u001b[0;34m.\u001b[0m\u001b[0mevaluate\u001b[0m\u001b[0;34m(\u001b[0m\u001b[0mfgm_data\u001b[0m\u001b[0;34m,\u001b[0m \u001b[0mlabels_test\u001b[0m\u001b[0;34m)\u001b[0m\u001b[0;34m\u001b[0m\u001b[0m\n\u001b[0m\u001b[1;32m     20\u001b[0m \u001b[0;32mprint\u001b[0m\u001b[0;34m(\u001b[0m\u001b[0;34m\"Test Accuracy: {:0.2f}%\"\u001b[0m\u001b[0;34m.\u001b[0m\u001b[0mformat\u001b[0m\u001b[0;34m(\u001b[0m\u001b[0mtest_acc_fgm\u001b[0m\u001b[0;34m*\u001b[0m\u001b[0;36m100\u001b[0m\u001b[0;34m)\u001b[0m\u001b[0;34m)\u001b[0m\u001b[0;34m\u001b[0m\u001b[0m\n",
      "\u001b[0;32m/home/aggarw82/.conda/envs/cent7/5.1.0-py27/custom_jupyter_27/lib/python2.7/site-packages/keras/models.pyc\u001b[0m in \u001b[0;36mevaluate\u001b[0;34m(self, x, y, batch_size, verbose, sample_weight)\u001b[0m\n\u001b[1;32m    987\u001b[0m                                    \u001b[0mbatch_size\u001b[0m\u001b[0;34m=\u001b[0m\u001b[0mbatch_size\u001b[0m\u001b[0;34m,\u001b[0m\u001b[0;34m\u001b[0m\u001b[0m\n\u001b[1;32m    988\u001b[0m                                    \u001b[0mverbose\u001b[0m\u001b[0;34m=\u001b[0m\u001b[0mverbose\u001b[0m\u001b[0;34m,\u001b[0m\u001b[0;34m\u001b[0m\u001b[0m\n\u001b[0;32m--> 989\u001b[0;31m                                    sample_weight=sample_weight)\n\u001b[0m\u001b[1;32m    990\u001b[0m \u001b[0;34m\u001b[0m\u001b[0m\n\u001b[1;32m    991\u001b[0m     \u001b[0;32mdef\u001b[0m \u001b[0mpredict\u001b[0m\u001b[0;34m(\u001b[0m\u001b[0mself\u001b[0m\u001b[0;34m,\u001b[0m \u001b[0mx\u001b[0m\u001b[0;34m,\u001b[0m \u001b[0mbatch_size\u001b[0m\u001b[0;34m=\u001b[0m\u001b[0;36m32\u001b[0m\u001b[0;34m,\u001b[0m \u001b[0mverbose\u001b[0m\u001b[0;34m=\u001b[0m\u001b[0;36m0\u001b[0m\u001b[0;34m)\u001b[0m\u001b[0;34m:\u001b[0m\u001b[0;34m\u001b[0m\u001b[0m\n",
      "\u001b[0;32m/home/aggarw82/.conda/envs/cent7/5.1.0-py27/custom_jupyter_27/lib/python2.7/site-packages/keras/engine/training.pyc\u001b[0m in \u001b[0;36mevaluate\u001b[0;34m(self, x, y, batch_size, verbose, sample_weight, steps)\u001b[0m\n\u001b[1;32m   1707\u001b[0m                                \u001b[0mbatch_size\u001b[0m\u001b[0;34m=\u001b[0m\u001b[0mbatch_size\u001b[0m\u001b[0;34m,\u001b[0m\u001b[0;34m\u001b[0m\u001b[0m\n\u001b[1;32m   1708\u001b[0m                                \u001b[0mverbose\u001b[0m\u001b[0;34m=\u001b[0m\u001b[0mverbose\u001b[0m\u001b[0;34m,\u001b[0m\u001b[0;34m\u001b[0m\u001b[0m\n\u001b[0;32m-> 1709\u001b[0;31m                                steps=steps)\n\u001b[0m\u001b[1;32m   1710\u001b[0m \u001b[0;34m\u001b[0m\u001b[0m\n\u001b[1;32m   1711\u001b[0m     def predict(self, x,\n",
      "\u001b[0;32m/home/aggarw82/.conda/envs/cent7/5.1.0-py27/custom_jupyter_27/lib/python2.7/site-packages/keras/engine/training.pyc\u001b[0m in \u001b[0;36m_test_loop\u001b[0;34m(self, f, ins, batch_size, verbose, steps)\u001b[0m\n\u001b[1;32m   1368\u001b[0m                     \u001b[0mins_batch\u001b[0m \u001b[0;34m=\u001b[0m \u001b[0m_slice_arrays\u001b[0m\u001b[0;34m(\u001b[0m\u001b[0mins\u001b[0m\u001b[0;34m,\u001b[0m \u001b[0mbatch_ids\u001b[0m\u001b[0;34m)\u001b[0m\u001b[0;34m\u001b[0m\u001b[0m\n\u001b[1;32m   1369\u001b[0m \u001b[0;34m\u001b[0m\u001b[0m\n\u001b[0;32m-> 1370\u001b[0;31m                 \u001b[0mbatch_outs\u001b[0m \u001b[0;34m=\u001b[0m \u001b[0mf\u001b[0m\u001b[0;34m(\u001b[0m\u001b[0mins_batch\u001b[0m\u001b[0;34m)\u001b[0m\u001b[0;34m\u001b[0m\u001b[0m\n\u001b[0m\u001b[1;32m   1371\u001b[0m                 \u001b[0;32mif\u001b[0m \u001b[0misinstance\u001b[0m\u001b[0;34m(\u001b[0m\u001b[0mbatch_outs\u001b[0m\u001b[0;34m,\u001b[0m \u001b[0mlist\u001b[0m\u001b[0;34m)\u001b[0m\u001b[0;34m:\u001b[0m\u001b[0;34m\u001b[0m\u001b[0m\n\u001b[1;32m   1372\u001b[0m                     \u001b[0;32mif\u001b[0m \u001b[0mbatch_index\u001b[0m \u001b[0;34m==\u001b[0m \u001b[0;36m0\u001b[0m\u001b[0;34m:\u001b[0m\u001b[0;34m\u001b[0m\u001b[0m\n",
      "\u001b[0;32m/home/aggarw82/.conda/envs/cent7/5.1.0-py27/custom_jupyter_27/lib/python2.7/site-packages/keras/backend/tensorflow_backend.pyc\u001b[0m in \u001b[0;36m__call__\u001b[0;34m(self, inputs)\u001b[0m\n\u001b[1;32m   2350\u001b[0m         \u001b[0msession\u001b[0m \u001b[0;34m=\u001b[0m \u001b[0mget_session\u001b[0m\u001b[0;34m(\u001b[0m\u001b[0;34m)\u001b[0m\u001b[0;34m\u001b[0m\u001b[0m\n\u001b[1;32m   2351\u001b[0m         updated = session.run(fetches=fetches, feed_dict=feed_dict,\n\u001b[0;32m-> 2352\u001b[0;31m                               **self.session_kwargs)\n\u001b[0m\u001b[1;32m   2353\u001b[0m         \u001b[0;32mreturn\u001b[0m \u001b[0mupdated\u001b[0m\u001b[0;34m[\u001b[0m\u001b[0;34m:\u001b[0m\u001b[0mlen\u001b[0m\u001b[0;34m(\u001b[0m\u001b[0mself\u001b[0m\u001b[0;34m.\u001b[0m\u001b[0moutputs\u001b[0m\u001b[0;34m)\u001b[0m\u001b[0;34m]\u001b[0m\u001b[0;34m\u001b[0m\u001b[0m\n\u001b[1;32m   2354\u001b[0m \u001b[0;34m\u001b[0m\u001b[0m\n",
      "\u001b[0;32m/home/aggarw82/.conda/envs/cent7/5.1.0-py27/custom_jupyter_27/lib/python2.7/site-packages/tensorflow/python/client/session.pyc\u001b[0m in \u001b[0;36mrun\u001b[0;34m(self, fetches, feed_dict, options, run_metadata)\u001b[0m\n\u001b[1;32m    927\u001b[0m     \u001b[0;32mtry\u001b[0m\u001b[0;34m:\u001b[0m\u001b[0;34m\u001b[0m\u001b[0m\n\u001b[1;32m    928\u001b[0m       result = self._run(None, fetches, feed_dict, options_ptr,\n\u001b[0;32m--> 929\u001b[0;31m                          run_metadata_ptr)\n\u001b[0m\u001b[1;32m    930\u001b[0m       \u001b[0;32mif\u001b[0m \u001b[0mrun_metadata\u001b[0m\u001b[0;34m:\u001b[0m\u001b[0;34m\u001b[0m\u001b[0m\n\u001b[1;32m    931\u001b[0m         \u001b[0mproto_data\u001b[0m \u001b[0;34m=\u001b[0m \u001b[0mtf_session\u001b[0m\u001b[0;34m.\u001b[0m\u001b[0mTF_GetBuffer\u001b[0m\u001b[0;34m(\u001b[0m\u001b[0mrun_metadata_ptr\u001b[0m\u001b[0;34m)\u001b[0m\u001b[0;34m\u001b[0m\u001b[0m\n",
      "\u001b[0;32m/home/aggarw82/.conda/envs/cent7/5.1.0-py27/custom_jupyter_27/lib/python2.7/site-packages/tensorflow/python/client/session.pyc\u001b[0m in \u001b[0;36m_run\u001b[0;34m(self, handle, fetches, feed_dict, options, run_metadata)\u001b[0m\n\u001b[1;32m   1150\u001b[0m     \u001b[0;32mif\u001b[0m \u001b[0mfinal_fetches\u001b[0m \u001b[0;32mor\u001b[0m \u001b[0mfinal_targets\u001b[0m \u001b[0;32mor\u001b[0m \u001b[0;34m(\u001b[0m\u001b[0mhandle\u001b[0m \u001b[0;32mand\u001b[0m \u001b[0mfeed_dict_tensor\u001b[0m\u001b[0;34m)\u001b[0m\u001b[0;34m:\u001b[0m\u001b[0;34m\u001b[0m\u001b[0m\n\u001b[1;32m   1151\u001b[0m       results = self._do_run(handle, final_targets, final_fetches,\n\u001b[0;32m-> 1152\u001b[0;31m                              feed_dict_tensor, options, run_metadata)\n\u001b[0m\u001b[1;32m   1153\u001b[0m     \u001b[0;32melse\u001b[0m\u001b[0;34m:\u001b[0m\u001b[0;34m\u001b[0m\u001b[0m\n\u001b[1;32m   1154\u001b[0m       \u001b[0mresults\u001b[0m \u001b[0;34m=\u001b[0m \u001b[0;34m[\u001b[0m\u001b[0;34m]\u001b[0m\u001b[0;34m\u001b[0m\u001b[0m\n",
      "\u001b[0;32m/home/aggarw82/.conda/envs/cent7/5.1.0-py27/custom_jupyter_27/lib/python2.7/site-packages/tensorflow/python/client/session.pyc\u001b[0m in \u001b[0;36m_do_run\u001b[0;34m(self, handle, target_list, fetch_list, feed_dict, options, run_metadata)\u001b[0m\n\u001b[1;32m   1326\u001b[0m     \u001b[0;32mif\u001b[0m \u001b[0mhandle\u001b[0m \u001b[0;32mis\u001b[0m \u001b[0mNone\u001b[0m\u001b[0;34m:\u001b[0m\u001b[0;34m\u001b[0m\u001b[0m\n\u001b[1;32m   1327\u001b[0m       return self._do_call(_run_fn, feeds, fetches, targets, options,\n\u001b[0;32m-> 1328\u001b[0;31m                            run_metadata)\n\u001b[0m\u001b[1;32m   1329\u001b[0m     \u001b[0;32melse\u001b[0m\u001b[0;34m:\u001b[0m\u001b[0;34m\u001b[0m\u001b[0m\n\u001b[1;32m   1330\u001b[0m       \u001b[0;32mreturn\u001b[0m \u001b[0mself\u001b[0m\u001b[0;34m.\u001b[0m\u001b[0m_do_call\u001b[0m\u001b[0;34m(\u001b[0m\u001b[0m_prun_fn\u001b[0m\u001b[0;34m,\u001b[0m \u001b[0mhandle\u001b[0m\u001b[0;34m,\u001b[0m \u001b[0mfeeds\u001b[0m\u001b[0;34m,\u001b[0m \u001b[0mfetches\u001b[0m\u001b[0;34m)\u001b[0m\u001b[0;34m\u001b[0m\u001b[0m\n",
      "\u001b[0;32m/home/aggarw82/.conda/envs/cent7/5.1.0-py27/custom_jupyter_27/lib/python2.7/site-packages/tensorflow/python/client/session.pyc\u001b[0m in \u001b[0;36m_do_call\u001b[0;34m(self, fn, *args)\u001b[0m\n\u001b[1;32m   1346\u001b[0m           \u001b[0;32mpass\u001b[0m\u001b[0;34m\u001b[0m\u001b[0m\n\u001b[1;32m   1347\u001b[0m       \u001b[0mmessage\u001b[0m \u001b[0;34m=\u001b[0m \u001b[0merror_interpolation\u001b[0m\u001b[0;34m.\u001b[0m\u001b[0minterpolate\u001b[0m\u001b[0;34m(\u001b[0m\u001b[0mmessage\u001b[0m\u001b[0;34m,\u001b[0m \u001b[0mself\u001b[0m\u001b[0;34m.\u001b[0m\u001b[0m_graph\u001b[0m\u001b[0;34m)\u001b[0m\u001b[0;34m\u001b[0m\u001b[0m\n\u001b[0;32m-> 1348\u001b[0;31m       \u001b[0;32mraise\u001b[0m \u001b[0mtype\u001b[0m\u001b[0;34m(\u001b[0m\u001b[0me\u001b[0m\u001b[0;34m)\u001b[0m\u001b[0;34m(\u001b[0m\u001b[0mnode_def\u001b[0m\u001b[0;34m,\u001b[0m \u001b[0mop\u001b[0m\u001b[0;34m,\u001b[0m \u001b[0mmessage\u001b[0m\u001b[0;34m)\u001b[0m\u001b[0;34m\u001b[0m\u001b[0m\n\u001b[0m\u001b[1;32m   1349\u001b[0m \u001b[0;34m\u001b[0m\u001b[0m\n\u001b[1;32m   1350\u001b[0m   \u001b[0;32mdef\u001b[0m \u001b[0m_extend_graph\u001b[0m\u001b[0;34m(\u001b[0m\u001b[0mself\u001b[0m\u001b[0;34m)\u001b[0m\u001b[0;34m:\u001b[0m\u001b[0;34m\u001b[0m\u001b[0m\n",
      "\u001b[0;31mInvalidArgumentError\u001b[0m: You must feed a value for placeholder tensor 'batch_normalization_1/keras_learning_phase' with dtype bool\n\t [[node batch_normalization_1/keras_learning_phase (defined at /home/aggarw82/.conda/envs/cent7/5.1.0-py27/custom_jupyter_27/lib/python2.7/site-packages/keras/backend/tensorflow_backend.py:120)  = Placeholder[dtype=DT_BOOL, shape=<unknown>, _device=\"/job:localhost/replica:0/task:0/device:CPU:0\"]()]]\n\nCaused by op u'batch_normalization_1/keras_learning_phase', defined at:\n  File \"/home/aggarw82/.conda/envs/cent7/5.1.0-py27/custom_jupyter_27/lib/python2.7/runpy.py\", line 174, in _run_module_as_main\n    \"__main__\", fname, loader, pkg_name)\n  File \"/home/aggarw82/.conda/envs/cent7/5.1.0-py27/custom_jupyter_27/lib/python2.7/runpy.py\", line 72, in _run_code\n    exec code in run_globals\n  File \"/home/aggarw82/.conda/envs/cent7/5.1.0-py27/custom_jupyter_27/lib/python2.7/site-packages/ipykernel_launcher.py\", line 16, in <module>\n    app.launch_new_instance()\n  File \"/home/aggarw82/.conda/envs/cent7/5.1.0-py27/custom_jupyter_27/lib/python2.7/site-packages/traitlets/config/application.py\", line 664, in launch_instance\n    app.start()\n  File \"/home/aggarw82/.conda/envs/cent7/5.1.0-py27/custom_jupyter_27/lib/python2.7/site-packages/ipykernel/kernelapp.py\", line 499, in start\n    self.io_loop.start()\n  File \"/home/aggarw82/.conda/envs/cent7/5.1.0-py27/custom_jupyter_27/lib/python2.7/site-packages/tornado/ioloop.py\", line 1073, in start\n    handler_func(fd_obj, events)\n  File \"/home/aggarw82/.conda/envs/cent7/5.1.0-py27/custom_jupyter_27/lib/python2.7/site-packages/tornado/stack_context.py\", line 300, in null_wrapper\n    return fn(*args, **kwargs)\n  File \"/home/aggarw82/.conda/envs/cent7/5.1.0-py27/custom_jupyter_27/lib/python2.7/site-packages/zmq/eventloop/zmqstream.py\", line 456, in _handle_events\n    self._handle_recv()\n  File \"/home/aggarw82/.conda/envs/cent7/5.1.0-py27/custom_jupyter_27/lib/python2.7/site-packages/zmq/eventloop/zmqstream.py\", line 486, in _handle_recv\n    self._run_callback(callback, msg)\n  File \"/home/aggarw82/.conda/envs/cent7/5.1.0-py27/custom_jupyter_27/lib/python2.7/site-packages/zmq/eventloop/zmqstream.py\", line 438, in _run_callback\n    callback(*args, **kwargs)\n  File \"/home/aggarw82/.conda/envs/cent7/5.1.0-py27/custom_jupyter_27/lib/python2.7/site-packages/tornado/stack_context.py\", line 300, in null_wrapper\n    return fn(*args, **kwargs)\n  File \"/home/aggarw82/.conda/envs/cent7/5.1.0-py27/custom_jupyter_27/lib/python2.7/site-packages/ipykernel/kernelbase.py\", line 283, in dispatcher\n    return self.dispatch_shell(stream, msg)\n  File \"/home/aggarw82/.conda/envs/cent7/5.1.0-py27/custom_jupyter_27/lib/python2.7/site-packages/ipykernel/kernelbase.py\", line 233, in dispatch_shell\n    handler(stream, idents, msg)\n  File \"/home/aggarw82/.conda/envs/cent7/5.1.0-py27/custom_jupyter_27/lib/python2.7/site-packages/ipykernel/kernelbase.py\", line 399, in execute_request\n    user_expressions, allow_stdin)\n  File \"/home/aggarw82/.conda/envs/cent7/5.1.0-py27/custom_jupyter_27/lib/python2.7/site-packages/ipykernel/ipkernel.py\", line 208, in do_execute\n    res = shell.run_cell(code, store_history=store_history, silent=silent)\n  File \"/home/aggarw82/.conda/envs/cent7/5.1.0-py27/custom_jupyter_27/lib/python2.7/site-packages/ipykernel/zmqshell.py\", line 537, in run_cell\n    return super(ZMQInteractiveShell, self).run_cell(*args, **kwargs)\n  File \"/home/aggarw82/.conda/envs/cent7/5.1.0-py27/custom_jupyter_27/lib/python2.7/site-packages/IPython/core/interactiveshell.py\", line 2714, in run_cell\n    interactivity=interactivity, compiler=compiler, result=result)\n  File \"/home/aggarw82/.conda/envs/cent7/5.1.0-py27/custom_jupyter_27/lib/python2.7/site-packages/IPython/core/interactiveshell.py\", line 2818, in run_ast_nodes\n    if self.run_code(code, result):\n  File \"/home/aggarw82/.conda/envs/cent7/5.1.0-py27/custom_jupyter_27/lib/python2.7/site-packages/IPython/core/interactiveshell.py\", line 2878, in run_code\n    exec(code_obj, self.user_global_ns, self.user_ns)\n  File \"<ipython-input-2-d9ec23ac466f>\", line 21, in <module>\n    model.add(BatchNormalization())\n  File \"/home/aggarw82/.conda/envs/cent7/5.1.0-py27/custom_jupyter_27/lib/python2.7/site-packages/keras/models.py\", line 489, in add\n    output_tensor = layer(self.outputs[0])\n  File \"/home/aggarw82/.conda/envs/cent7/5.1.0-py27/custom_jupyter_27/lib/python2.7/site-packages/keras/engine/topology.py\", line 603, in __call__\n    output = self.call(inputs, **kwargs)\n  File \"/home/aggarw82/.conda/envs/cent7/5.1.0-py27/custom_jupyter_27/lib/python2.7/site-packages/keras/layers/normalization.py\", line 190, in call\n    training=training)\n  File \"/home/aggarw82/.conda/envs/cent7/5.1.0-py27/custom_jupyter_27/lib/python2.7/site-packages/keras/backend/tensorflow_backend.py\", line 2735, in in_train_phase\n    training = learning_phase()\n  File \"/home/aggarw82/.conda/envs/cent7/5.1.0-py27/custom_jupyter_27/lib/python2.7/site-packages/keras/backend/tensorflow_backend.py\", line 120, in learning_phase\n    name='keras_learning_phase')\n  File \"/home/aggarw82/.conda/envs/cent7/5.1.0-py27/custom_jupyter_27/lib/python2.7/site-packages/tensorflow/python/ops/array_ops.py\", line 1747, in placeholder\n    return gen_array_ops.placeholder(dtype=dtype, shape=shape, name=name)\n  File \"/home/aggarw82/.conda/envs/cent7/5.1.0-py27/custom_jupyter_27/lib/python2.7/site-packages/tensorflow/python/ops/gen_array_ops.py\", line 5206, in placeholder\n    \"Placeholder\", dtype=dtype, shape=shape, name=name)\n  File \"/home/aggarw82/.conda/envs/cent7/5.1.0-py27/custom_jupyter_27/lib/python2.7/site-packages/tensorflow/python/framework/op_def_library.py\", line 787, in _apply_op_helper\n    op_def=op_def)\n  File \"/home/aggarw82/.conda/envs/cent7/5.1.0-py27/custom_jupyter_27/lib/python2.7/site-packages/tensorflow/python/util/deprecation.py\", line 488, in new_func\n    return func(*args, **kwargs)\n  File \"/home/aggarw82/.conda/envs/cent7/5.1.0-py27/custom_jupyter_27/lib/python2.7/site-packages/tensorflow/python/framework/ops.py\", line 3274, in create_op\n    op_def=op_def)\n  File \"/home/aggarw82/.conda/envs/cent7/5.1.0-py27/custom_jupyter_27/lib/python2.7/site-packages/tensorflow/python/framework/ops.py\", line 1770, in __init__\n    self._traceback = tf_stack.extract_stack()\n\nInvalidArgumentError (see above for traceback): You must feed a value for placeholder tensor 'batch_normalization_1/keras_learning_phase' with dtype bool\n\t [[node batch_normalization_1/keras_learning_phase (defined at /home/aggarw82/.conda/envs/cent7/5.1.0-py27/custom_jupyter_27/lib/python2.7/site-packages/keras/backend/tensorflow_backend.py:120)  = Placeholder[dtype=DT_BOOL, shape=<unknown>, _device=\"/job:localhost/replica:0/task:0/device:CPU:0\"]()]]\n"
     ]
    }
   ],
   "source": [
    "#Implementing the FGSM attack\n",
    "\n",
    "#FGM Instance on trained classifier from Part 1\n",
    "#FILL THIS IN\n",
    "fgm = FastGradientMethod(wrap, sess=sess)\n",
    "\n",
    "#Attack parameters\n",
    "#FILL THIS IN\n",
    "fgm_params = { 'eps': 0.25, 'clip_min': 0.0, 'clip_max': 1.0}\n",
    "\n",
    "#Generate adversarial data\n",
    "#FILL THIS IN\n",
    "backend.set_learning_phase(1)\n",
    "fgm_data = fgm.generate_np(data_test, **fgm_params)\n",
    "\n",
    "#Evaluate accuracy on target classifier \n",
    "#FILL THIS IN\n",
    "backend.set_learning_phase(1)\n",
    "[test_loss_fgm, test_acc_fgm] = model.evaluate(fgm_data, labels_test)\n",
    "print(\"Test Accuracy: {:0.2f}%\".format(test_acc_fgm*100))"
   ]
  },
  {
   "cell_type": "code",
   "execution_count": null,
   "metadata": {
    "colab": {},
    "colab_type": "code",
    "id": "wE_rdYIrDeNZ"
   },
   "outputs": [],
   "source": [
    "#Show ten original samples and their corresponding adversarial samples\n",
    "#FILL THIS IN"
   ]
  },
  {
   "cell_type": "code",
   "execution_count": null,
   "metadata": {
    "colab": {},
    "colab_type": "code",
    "id": "qurgywiaJe-I"
   },
   "outputs": [],
   "source": [
    "#Implementing Detection via Autoencoders\n",
    "\n",
    "def autoencoder():\n",
    "    ae = Sequential()\n",
    "    ae.add(Dense(400, activation=None, kernel_initializer=\"normal\", input_dim=784))\n",
    "    ae.add(Dense(200, activation=None, kernel_initializer='normal'))\n",
    "    ae.add(Dense(100, activation=None, kernel_initializer='normal'))\n",
    "    ae.add(Dense(200, activation=None, kernel_initializer='normal'))\n",
    "    ae.add(Dense(400, activation=None, kernel_initializer='normal'))\n",
    "    ae.add(Dense(784, activation='sigmoid', kernel_initializer='normal'))\n",
    "    return ae\n",
    "\n",
    "#Create and train the autoencoder using the mean squared error loss and adam optimizer\n",
    "#FILL THIS IN"
   ]
  },
  {
   "cell_type": "code",
   "execution_count": null,
   "metadata": {
    "colab": {},
    "colab_type": "code",
    "id": "sGVPbCP_JvDo"
   },
   "outputs": [],
   "source": [
    "#Using the autoencoder for detection and to determine a threshold \n",
    "\n",
    "# Create adversarial examples using FGSM on training data\n",
    "#FILL THIS IN\n",
    "\n",
    "# Obtain reconstruction errors on training set and determine a threshold \n",
    "#FILL THIS IN\n",
    "\n",
    "# Convert error tensor into NumPy array \n",
    "# CHANGE NAME 'error' TO WHAT YOU CALLED IT ABOVE\n",
    "error = error.eval(session=sess)\n",
    "\n",
    "# Determine threshold (based on min in this case) and print it \n",
    "#FILL THIS IN\n",
    "\n",
    "# Calculate error of adversarial testing set\n",
    "#FILL THIS IN\n",
    "\n",
    "# Determine how many examples are above threshold and consider them adversarial\n",
    "# (true positive count)\n",
    "# Hint: Use a 'for' loop to compare each error value to the threshold\n",
    "#FILL THIS IN\n",
    "\n",
    "# Print number of true positive samples\n",
    "#FILL THIS IN  \n",
    "\n",
    "# Determine false positives on benign testing set\n",
    "#FILL THIS IN \n",
    "\n",
    "\n",
    "# Determine how many examples are above threshold and consider them adversarial\n",
    "# (false positive count)\n",
    "# Hint: Use a 'for' loop to compare each error value to the threshold\n",
    "#FILL THIS IN \n",
    "    \n",
    "# Print number of false positive samples\n",
    "#FILL THIS IN   "
   ]
  },
  {
   "cell_type": "markdown",
   "metadata": {
    "colab_type": "text",
    "id": "VE2WG6LnP14d"
   },
   "source": [
    "#Part 3: Projected Gradient Descent"
   ]
  },
  {
   "cell_type": "code",
   "execution_count": null,
   "metadata": {
    "colab": {},
    "colab_type": "code",
    "id": "iEkYKPN-P4Sj"
   },
   "outputs": [],
   "source": [
    "#Implementing the PGD attack\n",
    "\n",
    "#PGD Instance on trained classifier from Part 1\n",
    "pgd = MadryEtAl(wrap, sess=sess)\n",
    "\n",
    "#Attack parameters\n",
    "#FILL THIS IN\n",
    "\n",
    "#Generate adversarial data\n",
    "#FILL THIS IN\n",
    "\n",
    "#Evaluate accuracy of perturbed data on target classifier\n",
    "#FILL THIS IN"
   ]
  },
  {
   "cell_type": "code",
   "execution_count": null,
   "metadata": {
    "colab": {},
    "colab_type": "code",
    "id": "urEHSPQISer1"
   },
   "outputs": [],
   "source": [
    "#Show ten original samples and their corresponding adversarial samples\n",
    "#FILL THIS IN "
   ]
  },
  {
   "cell_type": "code",
   "execution_count": null,
   "metadata": {
    "colab": {},
    "colab_type": "code",
    "id": "gTygGikdUWU8"
   },
   "outputs": [],
   "source": [
    "#Implementing the adversarial training defense\n",
    "#FILL THIS IN"
   ]
  },
  {
   "cell_type": "code",
   "execution_count": null,
   "metadata": {
    "colab": {},
    "colab_type": "code",
    "id": "i6dMEXGBUlci"
   },
   "outputs": [],
   "source": [
    "#Using the defense to evaluate the accuracy of the perturbed data\n",
    "#FILL THIS IN "
   ]
  },
  {
   "cell_type": "markdown",
   "metadata": {
    "colab_type": "text",
    "id": "MqIEiMdar_5q"
   },
   "source": [
    "#Part 4: Carlini and Wagner Attack"
   ]
  },
  {
   "cell_type": "code",
   "execution_count": null,
   "metadata": {
    "colab": {},
    "colab_type": "code",
    "id": "oyyNb-v5sCY6"
   },
   "outputs": [],
   "source": [
    "#Implementing the CW attack\n",
    "\n",
    "#CW Instance on trained classifier from Part 1\n",
    "#FILL THIS IN\n",
    "\n",
    "\n",
    "#Attack parameters\n",
    "#FILL THIS IN\n",
    "\n",
    "\n",
    "#Generate adversarial data\n",
    "#FILL THIS IN\n",
    "\n",
    "\n",
    "#Evaluate accuracy of perturbed data on target classifier\n",
    "#FILL THIS IN"
   ]
  },
  {
   "cell_type": "code",
   "execution_count": null,
   "metadata": {
    "colab": {},
    "colab_type": "code",
    "id": "rlEMqrlPurRL"
   },
   "outputs": [],
   "source": [
    "#Show ten original samples and their corresponding adversarial samples\n",
    "#FILL THIS IN "
   ]
  },
  {
   "cell_type": "code",
   "execution_count": null,
   "metadata": {
    "colab": {},
    "colab_type": "code",
    "id": "P-VhQHQ2uvmV"
   },
   "outputs": [],
   "source": [
    "#Implementing the dimensionality reduction (PCA) defense \n",
    "\n",
    "#Calculate PCA projection\n",
    "pca = PCA(100)\n",
    "pca.fit(data_train)\n",
    "pca_train = pca.transform(data_train)\n",
    "pca_test = pca.transform(data_test)\n",
    "\n",
    "#Transform perturbed CW data using the subspace from the original training data\n",
    "#FILL THIS IN \n",
    "\n",
    "# create model for PCA\n",
    "def pca_model():\n",
    "    model = Sequential()\n",
    "    \n",
    "    #FILL THIS IN \n",
    "\n",
    "    return model\n",
    "\n",
    "#Create model graph, compile it, and train it using pca_train lables_train \n",
    "#FILL THIS IN "
   ]
  },
  {
   "cell_type": "code",
   "execution_count": null,
   "metadata": {
    "colab": {},
    "colab_type": "code",
    "id": "o9L61AfG2y94"
   },
   "outputs": [],
   "source": [
    "#Using the defense (and comparing to baseline accuracy)\n",
    "#FILL THIS IN "
   ]
  },
  {
   "cell_type": "markdown",
   "metadata": {
    "colab_type": "text",
    "id": "KP0mENqGhDt0"
   },
   "source": [
    "#Part 5: DeepFool "
   ]
  },
  {
   "cell_type": "code",
   "execution_count": null,
   "metadata": {
    "colab": {},
    "colab_type": "code",
    "id": "zHraovc2hES3"
   },
   "outputs": [],
   "source": [
    "#Implementing the DeepFool attack\n",
    "\n",
    "#DeepFool Instance on trained classifier from Part 1\n",
    "#FILL THIS IN\n",
    "\n",
    "\n",
    "#Attack parameters\n",
    "#FILL THIS IN\n",
    "\n",
    "\n",
    "#Generate adversarial data\n",
    "#FILL THIS IN\n",
    "\n",
    "\n",
    "#Evaluate accuracy of perturbed data on target classifier\n",
    "#FILL THIS IN"
   ]
  },
  {
   "cell_type": "code",
   "execution_count": null,
   "metadata": {
    "colab": {},
    "colab_type": "code",
    "id": "zEsLfmxThZ6M"
   },
   "outputs": [],
   "source": [
    "#Show ten original samples and their corresponding adversarial samples\n",
    "#FILL THIS IN"
   ]
  },
  {
   "cell_type": "code",
   "execution_count": null,
   "metadata": {
    "colab": {},
    "colab_type": "code",
    "id": "tOapt7QaM4U_"
   },
   "outputs": [],
   "source": [
    "#Implementing the Denoising Autoencoder Defense\n",
    "\n",
    "def autoencoder():\n",
    "    ae = Sequential()\n",
    "    ae.add(Dense(400, activation=None, kernel_initializer=\"normal\", input_dim=784))\n",
    "    ae.add(Dense(200, activation=None, kernel_initializer='normal'))\n",
    "    ae.add(Dense(100, activation=None, kernel_initializer='normal'))\n",
    "    ae.add(Dense(200, activation=None, kernel_initializer='normal'))\n",
    "    ae.add(Dense(400, activation=None, kernel_initializer='normal'))\n",
    "    ae.add(Dense(784, activation='sigmoid', kernel_initializer='normal'))\n",
    "    return ae\n",
    "\n",
    "#Create training data for DAE \n",
    "df_attack_data_train = deepfool.generate_np(data_train, **fgm_params)\n",
    "data_total_train = np.concatenate([df_attack_data_train, data_train])\n",
    "\n",
    "#Create and train DAE graph\n",
    "#FILL THIS IN"
   ]
  },
  {
   "cell_type": "code",
   "execution_count": null,
   "metadata": {
    "colab": {},
    "colab_type": "code",
    "id": "5CjKifVRNMMV"
   },
   "outputs": [],
   "source": [
    "#Using the defense\n",
    "\n",
    "#Use DAE to to remove adversarial perturbation \n",
    "#FILL THIS IN\n",
    "\n",
    "#Evaluate accuracy of FGM samples after denoising \n",
    "#FILL THIS IN"
   ]
  },
  {
   "cell_type": "code",
   "execution_count": null,
   "metadata": {
    "colab": {},
    "colab_type": "code",
    "id": "6NSAW0v3NSMB"
   },
   "outputs": [],
   "source": [
    "#Show ten samples of adversarial samples after denoising\n",
    "#FILL THIS IN"
   ]
  }
 ],
 "metadata": {
  "colab": {
   "name": "Project_4_Student.ipynb",
   "provenance": []
  },
  "kernelspec": {
   "display_name": "Python 2.7 DLN",
   "language": "python",
   "name": "csutom_jupyter_27"
  },
  "language_info": {
   "codemirror_mode": {
    "name": "ipython",
    "version": 2
   },
   "file_extension": ".py",
   "mimetype": "text/x-python",
   "name": "python",
   "nbconvert_exporter": "python",
   "pygments_lexer": "ipython2",
   "version": "2.7.18"
  }
 },
 "nbformat": 4,
 "nbformat_minor": 1
}
