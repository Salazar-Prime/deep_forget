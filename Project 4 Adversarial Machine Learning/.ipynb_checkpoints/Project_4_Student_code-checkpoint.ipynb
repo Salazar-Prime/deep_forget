{
 "cells": [
  {
   "cell_type": "markdown",
   "metadata": {
    "colab_type": "text",
    "id": "NiZYmbLsCx8C"
   },
   "source": [
    "* Student Name: Varun Aggarwal\n",
    "* ECE 595 Machine Learning II\n",
    "* Project 4: Adversarial Machine Learning - Student Code"
   ]
  },
  {
   "cell_type": "code",
   "execution_count": 2,
   "metadata": {
    "colab": {},
    "colab_type": "code",
    "id": "mVKiKyxvrDio"
   },
   "outputs": [
    {
     "name": "stderr",
     "output_type": "stream",
     "text": [
      "Using TensorFlow backend.\n"
     ]
    },
    {
     "name": "stdout",
     "output_type": "stream",
     "text": [
      "tf.estimator package not installed.\n",
      "tf.estimator package not installed.\n"
     ]
    }
   ],
   "source": [
    "#Import necessary packages\n",
    "from keras.datasets import mnist\n",
    "from keras import Sequential\n",
    "from keras.layers import Dense, BatchNormalization\n",
    "from keras import backend\n",
    "import keras\n",
    "import tensorflow as tf\n",
    "import numpy as np\n",
    "import matplotlib.pyplot as plt\n",
    "from sklearn.decomposition import PCA\n",
    "from cleverhans.utils_keras import KerasModelWrapper\n",
    "from cleverhans.attacks import FastGradientMethod, MadryEtAl, DeepFool, CarliniWagnerL2"
   ]
  },
  {
   "cell_type": "markdown",
   "metadata": {
    "colab_type": "text",
    "id": "AR7lUPK3rL3d"
   },
   "source": [
    "# Part 1: Training a target classifier"
   ]
  },
  {
   "cell_type": "code",
   "execution_count": 17,
   "metadata": {
    "colab": {},
    "colab_type": "code",
    "id": "dRvltpU9rMZp",
    "scrolled": true
   },
   "outputs": [
    {
     "name": "stdout",
     "output_type": "stream",
     "text": [
      "Train on 60000 samples, validate on 10000 samples\n",
      "Epoch 1/50\n",
      " - 3s - loss: 0.5214 - acc: 0.8679 - val_loss: 0.2487 - val_acc: 0.9320\n",
      "Epoch 2/50\n",
      " - 3s - loss: 0.2218 - acc: 0.9382 - val_loss: 0.1881 - val_acc: 0.9435\n",
      "Epoch 3/50\n",
      " - 3s - loss: 0.1641 - acc: 0.9533 - val_loss: 0.1466 - val_acc: 0.9554\n",
      "Epoch 4/50\n",
      " - 3s - loss: 0.1298 - acc: 0.9617 - val_loss: 0.1250 - val_acc: 0.9618\n",
      "Epoch 5/50\n",
      " - 3s - loss: 0.1067 - acc: 0.9683 - val_loss: 0.1167 - val_acc: 0.9636\n",
      "Epoch 6/50\n",
      " - 3s - loss: 0.0904 - acc: 0.9726 - val_loss: 0.1029 - val_acc: 0.9669\n",
      "Epoch 7/50\n",
      " - 3s - loss: 0.0773 - acc: 0.9772 - val_loss: 0.0977 - val_acc: 0.9689\n",
      "Epoch 8/50\n",
      " - 3s - loss: 0.0667 - acc: 0.9792 - val_loss: 0.0932 - val_acc: 0.9706\n",
      "Epoch 9/50\n",
      " - 3s - loss: 0.0575 - acc: 0.9826 - val_loss: 0.0893 - val_acc: 0.9705\n",
      "Epoch 10/50\n",
      " - 3s - loss: 0.0502 - acc: 0.9851 - val_loss: 0.0882 - val_acc: 0.9728\n",
      "Epoch 11/50\n",
      " - 3s - loss: 0.0444 - acc: 0.9870 - val_loss: 0.0939 - val_acc: 0.9705\n",
      "Epoch 12/50\n",
      " - 3s - loss: 0.0401 - acc: 0.9880 - val_loss: 0.0855 - val_acc: 0.9742\n",
      "Epoch 13/50\n",
      " - 3s - loss: 0.0347 - acc: 0.9898 - val_loss: 0.0876 - val_acc: 0.9744\n",
      "Epoch 14/50\n",
      " - 3s - loss: 0.0306 - acc: 0.9909 - val_loss: 0.0832 - val_acc: 0.9742\n",
      "Epoch 15/50\n",
      " - 3s - loss: 0.0269 - acc: 0.9921 - val_loss: 0.0943 - val_acc: 0.9724\n",
      "Epoch 16/50\n",
      " - 3s - loss: 0.0240 - acc: 0.9934 - val_loss: 0.0879 - val_acc: 0.9750\n",
      "Epoch 17/50\n",
      " - 2s - loss: 0.0200 - acc: 0.9949 - val_loss: 0.0937 - val_acc: 0.9733\n",
      "Epoch 18/50\n",
      " - 2s - loss: 0.0176 - acc: 0.9953 - val_loss: 0.0965 - val_acc: 0.9737\n",
      "Epoch 19/50\n",
      " - 2s - loss: 0.0165 - acc: 0.9957 - val_loss: 0.0898 - val_acc: 0.9749\n",
      "Epoch 20/50\n",
      " - 2s - loss: 0.0132 - acc: 0.9968 - val_loss: 0.0959 - val_acc: 0.9745\n",
      "Epoch 21/50\n",
      " - 2s - loss: 0.0121 - acc: 0.9971 - val_loss: 0.0948 - val_acc: 0.9757\n",
      "Epoch 22/50\n",
      " - 2s - loss: 0.0104 - acc: 0.9976 - val_loss: 0.0964 - val_acc: 0.9746\n",
      "Epoch 23/50\n",
      " - 2s - loss: 0.0091 - acc: 0.9979 - val_loss: 0.0896 - val_acc: 0.9767\n",
      "Epoch 24/50\n",
      " - 2s - loss: 0.0088 - acc: 0.9980 - val_loss: 0.0952 - val_acc: 0.9763\n",
      "Epoch 25/50\n",
      " - 2s - loss: 0.0063 - acc: 0.9990 - val_loss: 0.0981 - val_acc: 0.9752\n",
      "Epoch 26/50\n",
      " - 3s - loss: 0.0059 - acc: 0.9990 - val_loss: 0.0976 - val_acc: 0.9769\n",
      "Epoch 27/50\n",
      " - 3s - loss: 0.0059 - acc: 0.9990 - val_loss: 0.1016 - val_acc: 0.9756\n",
      "Epoch 28/50\n",
      " - 3s - loss: 0.0050 - acc: 0.9991 - val_loss: 0.1036 - val_acc: 0.9764\n",
      "Epoch 29/50\n",
      " - 3s - loss: 0.0034 - acc: 0.9996 - val_loss: 0.1014 - val_acc: 0.9763\n",
      "Epoch 30/50\n",
      " - 3s - loss: 0.0030 - acc: 0.9998 - val_loss: 0.1083 - val_acc: 0.9752\n",
      "Epoch 31/50\n",
      " - 3s - loss: 0.0028 - acc: 0.9997 - val_loss: 0.1091 - val_acc: 0.9762\n",
      "Epoch 32/50\n",
      " - 3s - loss: 0.0022 - acc: 0.9999 - val_loss: 0.1048 - val_acc: 0.9776\n",
      "Epoch 33/50\n",
      " - 3s - loss: 0.0070 - acc: 0.9979 - val_loss: 0.1250 - val_acc: 0.9730\n",
      "Epoch 34/50\n",
      " - 3s - loss: 0.0124 - acc: 0.9961 - val_loss: 0.1085 - val_acc: 0.9764\n",
      "Epoch 35/50\n",
      " - 3s - loss: 0.0028 - acc: 0.9996 - val_loss: 0.1028 - val_acc: 0.9773\n",
      "Epoch 36/50\n",
      " - 3s - loss: 0.0013 - acc: 1.0000 - val_loss: 0.1026 - val_acc: 0.9776\n",
      "Epoch 37/50\n",
      " - 2s - loss: 9.8626e-04 - acc: 1.0000 - val_loss: 0.1040 - val_acc: 0.9780\n",
      "Epoch 38/50\n",
      " - 3s - loss: 7.9401e-04 - acc: 1.0000 - val_loss: 0.1040 - val_acc: 0.9784\n",
      "Epoch 39/50\n",
      " - 3s - loss: 6.7622e-04 - acc: 1.0000 - val_loss: 0.1060 - val_acc: 0.9778\n",
      "Epoch 40/50\n",
      " - 3s - loss: 6.1351e-04 - acc: 1.0000 - val_loss: 0.1070 - val_acc: 0.9779\n",
      "Epoch 41/50\n",
      " - 3s - loss: 5.4628e-04 - acc: 1.0000 - val_loss: 0.1082 - val_acc: 0.9784\n",
      "Epoch 42/50\n",
      " - 3s - loss: 5.0245e-04 - acc: 1.0000 - val_loss: 0.1082 - val_acc: 0.9784\n",
      "Epoch 43/50\n",
      " - 3s - loss: 5.0175e-04 - acc: 1.0000 - val_loss: 0.1113 - val_acc: 0.9772\n",
      "Epoch 44/50\n",
      " - 3s - loss: 4.0991e-04 - acc: 1.0000 - val_loss: 0.1123 - val_acc: 0.9776\n",
      "Epoch 45/50\n",
      " - 3s - loss: 4.3736e-04 - acc: 1.0000 - val_loss: 0.1149 - val_acc: 0.9781\n",
      "Epoch 46/50\n",
      " - 2s - loss: 0.0307 - acc: 0.9903 - val_loss: 0.1476 - val_acc: 0.9706\n",
      "Epoch 47/50\n",
      " - 3s - loss: 0.0066 - acc: 0.9979 - val_loss: 0.1231 - val_acc: 0.9753\n",
      "Epoch 48/50\n",
      " - 2s - loss: 0.0024 - acc: 0.9996 - val_loss: 0.1145 - val_acc: 0.9774\n",
      "Epoch 49/50\n",
      " - 3s - loss: 9.1997e-04 - acc: 1.0000 - val_loss: 0.1093 - val_acc: 0.9782\n",
      "Epoch 50/50\n",
      " - 3s - loss: 5.3482e-04 - acc: 1.0000 - val_loss: 0.1102 - val_acc: 0.9786\n"
     ]
    }
   ],
   "source": [
    "# Load data MNIST data and normalize to [0, 1]\n",
    "#FILL THIS IN\n",
    "(data_train, labels_train), (data_test, labels_test) = mnist.load_data()\n",
    "data_train = data_train/255.0\n",
    "data_test = data_test/255.0\n",
    "\n",
    "#Reshape training and testing data into 784-dimensional vectors \n",
    "#FILL THIS IN\n",
    "data_train = data_train.reshape(-1,784)\n",
    "data_test = data_test.reshape(-1,784)\n",
    "\n",
    "#Convert integer labels for training and testing data into one-hot vectors \n",
    "#FILL THIS IN\n",
    "labels_train = keras.utils.np_utils.to_categorical(labels_train, num_classes=10)\n",
    "labels_test = keras.utils.np_utils.to_categorical(labels_test, num_classes=10)\n",
    "\n",
    "#Create classifier architecture, compile it, and train it\n",
    "#FILL THIS IN\n",
    "model = Sequential()\n",
    "model.add(Dense(100, input_dim=784, name=\"input\", activation=\"relu\", kernel_initializer=\"normal\"))\n",
    "model.add(BatchNormalization())\n",
    "model.add(Dense(100, activation=\"relu\", kernel_initializer=\"normal\"))\n",
    "model.add(BatchNormalization())\n",
    "model.add(Dense(10, activation=\"softmax\", kernel_initializer=\"normal\"))\n",
    "model.compile(loss=\"categorical_crossentropy\", metrics=['accuracy'], optimizer=\"adam\")\n",
    "hist = model.fit(data_train, labels_train, validation_data=(data_test, labels_test),shuffle=True,epochs=50,batch_size=256, verbose=2) "
   ]
  },
  {
   "cell_type": "code",
   "execution_count": 5,
   "metadata": {
    "colab": {},
    "colab_type": "code",
    "id": "uOsXwFOvrs14"
   },
   "outputs": [
    {
     "data": {
      "image/png": "[encoded data removed]",
      "text/plain": [
       "<Figure size 432x288 with 1 Axes>"
      ]
     },
     "metadata": {
      "needs_background": "light"
     },
     "output_type": "display_data"
    }
   ],
   "source": [
    "#Plot loss vs epoch\n",
    "#FILL THIS IN\n",
    "plt.plot(range(1,51),hist.history['loss'])\n",
    "plt.plot(range(1,51),hist.history['val_loss'])\n",
    "plt.title(\"Loss vs Epoch\")\n",
    "plt.xlabel(\"Epochs\")\n",
    "plt.ylabel(\"Loss\")\n",
    "plt.legend(['Training Loss','Validation Loss'])\n",
    "plt.grid(True)"
   ]
  },
  {
   "cell_type": "code",
   "execution_count": 6,
   "metadata": {
    "colab": {},
    "colab_type": "code",
    "id": "4C4mOVvSr4KP"
   },
   "outputs": [
    {
     "data": {
      "image/png": "[encoded data removed]",
      "text/plain": [
       "<Figure size 432x288 with 1 Axes>"
      ]
     },
     "metadata": {
      "needs_background": "light"
     },
     "output_type": "display_data"
    }
   ],
   "source": [
    "#Plot accuracy vs epoch\n",
    "#FILL THIS IN\n",
    "plt.plot(range(1,51),hist.history['acc'])\n",
    "plt.plot(range(1,51),hist.history['val_acc'])\n",
    "plt.title(\"Accuracy vs Epoch\")\n",
    "plt.xlabel(\"Epochs\")\n",
    "plt.ylim(0,1.1)\n",
    "plt.ylabel(\"Accuracies\")\n",
    "plt.legend(['Training Accuracy','Validation Accuracy'])\n",
    "plt.grid(True)"
   ]
  },
  {
   "cell_type": "code",
   "execution_count": 32,
   "metadata": {
    "colab": {},
    "colab_type": "code",
    "id": "gr53zDpTr5wO"
   },
   "outputs": [
    {
     "name": "stdout",
     "output_type": "stream",
     "text": [
      "10000/10000 [==============================] - 0s 22us/step\n",
      "Test Accuracy: 97.86%\n"
     ]
    }
   ],
   "source": [
    "#Print accuracy of classifier on MNIST testing data\n",
    "#FILL THIS IN\n",
    "[test_loss,test_acc] = model.evaluate(data_test, labels_test, batch_size = 256)\n",
    "print(\"Test Accuracy: {:0.2f}%\".format(test_acc*100))"
   ]
  },
  {
   "cell_type": "code",
   "execution_count": 33,
   "metadata": {
    "colab": {},
    "colab_type": "code",
    "id": "YEcrqpjas3Xh"
   },
   "outputs": [],
   "source": [
    "# Edit the classifier name fed into KerasModel Wrapper with the name of the \n",
    "# classifier from above and then run this block\n",
    "\n",
    "#Get TensorFlow Session to pass into Cleverhans modules\n",
    "sess = backend.get_session()\n",
    "\n",
    "#Create wrapper for classifier model so that it can be passed into Cleverhans modules\n",
    "wrap = KerasModelWrapper(model)"
   ]
  },
  {
   "cell_type": "markdown",
   "metadata": {
    "colab_type": "text",
    "id": "8_Ehc7tas5YS"
   },
   "source": [
    "# Part 2: The Fast Gradient Method (FGM)"
   ]
  },
  {
   "cell_type": "code",
   "execution_count": 34,
   "metadata": {
    "colab": {},
    "colab_type": "code",
    "id": "GA5T9mkws9vJ"
   },
   "outputs": [
    {
     "name": "stdout",
     "output_type": "stream",
     "text": [
      "10000/10000 [==============================] - 0s 19us/step\n",
      "Test Accuracy: 3.12%\n"
     ]
    }
   ],
   "source": [
    "#Implementing the FGSM attack\n",
    "\n",
    "#FGM Instance on trained classifier from Part 1\n",
    "#FILL THIS IN\n",
    "fgm = FastGradientMethod(wrap, sess=sess)\n",
    "\n",
    "#Attack parameters\n",
    "#FILL THIS IN\n",
    "fgm_params = { 'eps': 0.25, 'clip_min': 0.0, 'clip_max': 1.0}\n",
    "\n",
    "#Generate adversarial data\n",
    "#FILL THIS IN\n",
    "fgm_data = fgm.generate_np(data_test, **fgm_params)\n",
    "\n",
    "#Evaluate accuracy on target classifier \n",
    "#FILL THIS IN\n",
    "# backend.set_learning_phase(0)\n",
    "[test_loss_fgm, test_acc_fgm] = model.evaluate(fgm_data, labels_test, batch_size = 512)\n",
    "print(\"Test Accuracy: {:0.2f}%\".format(test_acc_fgm*100))"
   ]
  },
  {
   "cell_type": "code",
   "execution_count": 37,
   "metadata": {
    "colab": {},
    "colab_type": "code",
    "id": "wE_rdYIrDeNZ"
   },
   "outputs": [
    {
     "data": {
      "text/plain": [
       "Text(0.5,1,'Adversarial Data')"
      ]
     },
     "execution_count": 37,
     "metadata": {},
     "output_type": "execute_result"
    },
    {
     "data": {
      "image/png": "[encoded data removed]",
      "text/plain": [
       "<Figure size 432x864 with 2 Axes>"
      ]
     },
     "metadata": {
      "needs_background": "light"
     },
     "output_type": "display_data"
    }
   ],
   "source": [
    "#Show ten original samples and their corresponding adversarial samples\n",
    "#FILL THIS IN\n",
    "fig = plt.figure(figsize=(6,12))\n",
    "fig.subplots_adjust(right=1.2)\n",
    "\n",
    "# normal\n",
    "ax = fig.add_subplot(1,2,1)\n",
    "ax.imshow(data_test[0:10].reshape(-1,28), cmap='gray')\n",
    "ax.axis('off')\n",
    "ax.set_title('Original Data')\n",
    "\n",
    "# adversarial\n",
    "ax = fig.add_subplot(1,2,2)\n",
    "ax.imshow(fgm_data[0:10].reshape(-1, 28), cmap='gray')\n",
    "ax.axis('off')\n",
    "ax.set_title('Adversarial Data')"
   ]
  },
  {
   "cell_type": "code",
   "execution_count": 39,
   "metadata": {
    "colab": {},
    "colab_type": "code",
    "id": "qurgywiaJe-I",
    "scrolled": true
   },
   "outputs": [
    {
     "name": "stdout",
     "output_type": "stream",
     "text": [
      "Epoch 1/50\n",
      " - 17s - loss: 553.2046\n",
      "Epoch 2/50\n",
      " - 17s - loss: 518.5614\n",
      "Epoch 3/50\n",
      " - 17s - loss: 513.0768\n",
      "Epoch 4/50\n",
      " - 17s - loss: 510.9020\n",
      "Epoch 5/50\n",
      " - 17s - loss: 509.8216\n",
      "Epoch 6/50\n",
      " - 17s - loss: 509.0875\n",
      "Epoch 7/50\n",
      " - 16s - loss: 508.4717\n",
      "Epoch 8/50\n",
      " - 17s - loss: 508.0436\n",
      "Epoch 9/50\n",
      " - 16s - loss: 507.6910\n",
      "Epoch 10/50\n",
      " - 17s - loss: 507.4328\n",
      "Epoch 11/50\n",
      " - 17s - loss: 507.1785\n",
      "Epoch 12/50\n",
      " - 17s - loss: 506.9916\n",
      "Epoch 13/50\n",
      " - 17s - loss: 506.8552\n",
      "Epoch 14/50\n",
      " - 17s - loss: 506.7305\n",
      "Epoch 15/50\n",
      " - 17s - loss: 506.5987\n",
      "Epoch 16/50\n",
      " - 17s - loss: 506.4932\n",
      "Epoch 17/50\n",
      " - 17s - loss: 506.4182\n",
      "Epoch 18/50\n",
      " - 17s - loss: 506.3438\n",
      "Epoch 19/50\n",
      " - 17s - loss: 506.2701\n",
      "Epoch 20/50\n",
      " - 17s - loss: 506.1854\n",
      "Epoch 21/50\n",
      " - 16s - loss: 506.1289\n",
      "Epoch 22/50\n",
      " - 17s - loss: 506.0859\n",
      "Epoch 23/50\n",
      " - 17s - loss: 506.0353\n",
      "Epoch 24/50\n",
      " - 17s - loss: 505.9927\n",
      "Epoch 25/50\n",
      " - 17s - loss: 505.9503\n",
      "Epoch 26/50\n",
      " - 17s - loss: 505.9110\n",
      "Epoch 27/50\n",
      " - 16s - loss: 505.8915\n",
      "Epoch 28/50\n",
      " - 16s - loss: 505.8526\n",
      "Epoch 29/50\n",
      " - 17s - loss: 505.8345\n",
      "Epoch 30/50\n",
      " - 16s - loss: 505.8122\n",
      "Epoch 31/50\n",
      " - 17s - loss: 505.8009\n",
      "Epoch 32/50\n",
      " - 17s - loss: 505.7769\n",
      "Epoch 33/50\n",
      " - 17s - loss: 505.7679\n",
      "Epoch 34/50\n",
      " - 16s - loss: 505.7419\n",
      "Epoch 35/50\n",
      " - 17s - loss: 505.7303\n",
      "Epoch 36/50\n",
      " - 17s - loss: 505.7163\n",
      "Epoch 37/50\n",
      " - 17s - loss: 505.6959\n",
      "Epoch 38/50\n",
      " - 16s - loss: 505.6795\n",
      "Epoch 39/50\n",
      " - 17s - loss: 505.6719\n",
      "Epoch 40/50\n",
      " - 17s - loss: 505.6569\n",
      "Epoch 41/50\n",
      " - 17s - loss: 505.6493\n",
      "Epoch 42/50\n",
      " - 17s - loss: 505.6437\n",
      "Epoch 43/50\n",
      " - 16s - loss: 505.6418\n",
      "Epoch 44/50\n",
      " - 17s - loss: 505.6417\n",
      "Epoch 45/50\n",
      " - 16s - loss: 505.6320\n",
      "Epoch 46/50\n",
      " - 16s - loss: 505.6269\n",
      "Epoch 47/50\n",
      " - 17s - loss: 505.6246\n",
      "Epoch 48/50\n",
      " - 17s - loss: 505.6181\n",
      "Epoch 49/50\n",
      " - 16s - loss: 505.6181\n",
      "Epoch 50/50\n",
      " - 16s - loss: 505.6147\n"
     ]
    },
    {
     "data": {
      "text/plain": [
       "<keras.callbacks.History at 0x2b39c6fee690>"
      ]
     },
     "execution_count": 39,
     "metadata": {},
     "output_type": "execute_result"
    }
   ],
   "source": [
    "#Implementing Detection via Autoencoders\n",
    "\n",
    "def autoencoder():\n",
    "    ae = Sequential()\n",
    "    ae.add(Dense(400, activation=None, kernel_initializer=\"normal\", input_dim=784))\n",
    "    ae.add(Dense(200, activation=None, kernel_initializer='normal'))\n",
    "    ae.add(Dense(100, activation=None, kernel_initializer='normal'))\n",
    "    ae.add(Dense(200, activation=None, kernel_initializer='normal'))\n",
    "    ae.add(Dense(400, activation=None, kernel_initializer='normal'))\n",
    "    ae.add(Dense(784, activation='sigmoid', kernel_initializer='normal'))\n",
    "    return ae\n",
    "\n",
    "#Create and train the autoencoder using the mean squared error loss and adam optimizer\n",
    "#FILL THIS IN\n",
    "fgm_defense = autoencoder()\n",
    "fgm_defense.compile(loss=\"categorical_crossentropy\", optimizer=\"adam\")\n",
    "fgm_defense.fit(data_train, data_train, epochs=50, shuffle=True, batch_size=256, verbose=2)"
   ]
  },
  {
   "cell_type": "code",
   "execution_count": 50,
   "metadata": {
    "colab": {},
    "colab_type": "code",
    "id": "sGVPbCP_JvDo"
   },
   "outputs": [
    {
     "name": "stdout",
     "output_type": "stream",
     "text": [
      "Threshold: 0.03019\n",
      "True Positives: 10000\n",
      "False Positives: 0\n"
     ]
    }
   ],
   "source": [
    "#Using the autoencoder for detection and to determine a threshold \n",
    "\n",
    "# Create adversarial examples using FGSM on training data\n",
    "#FILL THIS IN\n",
    "fgm_data_train = fgm.generate_np(data_train, **fgm_params)\n",
    "\n",
    "# Obtain reconstruction errors on training set and determine a threshold \n",
    "#FILL THIS IN\n",
    "pred = fgm_defense.predict(fgm_data_train)\n",
    "error = keras.losses.mean_squared_error(fgm_data_train, pred)\n",
    "\n",
    "# Convert error tensor into NumPy array \n",
    "# CHANGE NAME 'error' TO WHAT YOU CALLED IT ABOVE\n",
    "error = error.eval(session=sess)\n",
    "\n",
    "# Determine threshold (based on min in this case) and print it \n",
    "#FILL THIS IN\n",
    "thres = np.min(error)\n",
    "print(\"Threshold: {:0.5f}\".format(thres))\n",
    "\n",
    "# Calculate error of adversarial testing set\n",
    "#FILL THIS IN\n",
    "pred_test = fgm_defense.predict(fgm_data)\n",
    "error = keras.losses.mean_squared_error(fgm_data, pred_test)\n",
    "error = error.eval(session=sess)\n",
    "\n",
    "# Determine how many examples are above threshold and consider them adversarial\n",
    "# (true positive count)\n",
    "# Hint: Use a 'for' loop to compare each error value to the threshold\n",
    "# Print number of true positive samples\n",
    "#FILL THIS IN\n",
    "print(\"True Positives: {:d}\".format(np.size(np.where(error > thres))))\n",
    "\n",
    "# Determine false positives on benign testing set\n",
    "#FILL THIS IN \n",
    "pred = fgm_defense.predict(data_test)\n",
    "error = keras.losses.mean_squared_error(data_test, pred)\n",
    "error = error.eval(session=sess)\n",
    "\n",
    "# Determine how many examples are above threshold and consider them adversarial\n",
    "# (false positive count)\n",
    "# Hint: Use a 'for' loop to compare each error value to the threshold    \n",
    "# Print number of false positive samples\n",
    "#FILL THIS IN   \n",
    "print(\"False Positives: {:d}\".format(np.size(np.where(error > thres))))"
   ]
  },
  {
   "cell_type": "markdown",
   "metadata": {
    "colab_type": "text",
    "id": "VE2WG6LnP14d"
   },
   "source": [
    "# Part 3: Projected Gradient Descent"
   ]
  },
  {
   "cell_type": "code",
   "execution_count": 52,
   "metadata": {
    "colab": {},
    "colab_type": "code",
    "id": "iEkYKPN-P4Sj"
   },
   "outputs": [
    {
     "name": "stdout",
     "output_type": "stream",
     "text": [
      "Test Accuracy: 1.09%\n"
     ]
    }
   ],
   "source": [
    "#Implementing the PGD attack\n",
    "\n",
    "#PGD Instance on trained classifier from Part 1\n",
    "pgd = MadryEtAl(wrap, sess=sess)\n",
    "\n",
    "#Attack parameters\n",
    "#FILL THIS IN\n",
    "pgd_param = {'eps': 0.25, 'eps_iter': 0.01, 'nb_iter': 20, 'clip_min': 0.0, 'clip_max': 1.0}\n",
    "\n",
    "#Generate adversarial data\n",
    "#FILL THIS IN\n",
    "pgd_data = pgd.generate_np(data_test, **pgd_param)\n",
    "\n",
    "#Evaluate accuracy of perturbed data on target classifier\n",
    "#FILL THIS IN\n",
    "[test_loss_pgd, test_acc_pgd] = model.evaluate(pgd_data, labels_test, batch_size = 512, verbose=2)\n",
    "print(\"Test Accuracy: {:0.2f}%\".format(test_acc_pgd*100))"
   ]
  },
  {
   "cell_type": "code",
   "execution_count": 53,
   "metadata": {
    "colab": {},
    "colab_type": "code",
    "id": "urEHSPQISer1"
   },
   "outputs": [
    {
     "data": {
      "text/plain": [
       "Text(0.5,1,'Adversarial Data')"
      ]
     },
     "execution_count": 53,
     "metadata": {},
     "output_type": "execute_result"
    },
    {
     "data": {
      "image/png": "[encoded data removed]",
      "text/plain": [
       "<Figure size 432x864 with 2 Axes>"
      ]
     },
     "metadata": {
      "needs_background": "light"
     },
     "output_type": "display_data"
    }
   ],
   "source": [
    "#Show ten original samples and their corresponding adversarial samples\n",
    "#FILL THIS IN \n",
    "fig = plt.figure(figsize=(6,12))\n",
    "fig.subplots_adjust(right=1.2)\n",
    "\n",
    "# normal\n",
    "ax = fig.add_subplot(1,2,1)\n",
    "ax.imshow(data_test[0:10].reshape(-1,28), cmap='gray')\n",
    "ax.axis('off')\n",
    "ax.set_title('Original Data')\n",
    "\n",
    "# adversarial\n",
    "ax = fig.add_subplot(1,2,2)\n",
    "ax.imshow(pgd_data[0:10].reshape(-1, 28), cmap='gray')\n",
    "ax.axis('off')\n",
    "ax.set_title('Adversarial Data')"
   ]
  },
  {
   "cell_type": "code",
   "execution_count": null,
   "metadata": {
    "colab": {},
    "colab_type": "code",
    "id": "gTygGikdUWU8"
   },
   "outputs": [],
   "source": [
    "#Implementing the adversarial training defense\n",
    "#FILL THIS IN"
   ]
  },
  {
   "cell_type": "code",
   "execution_count": null,
   "metadata": {
    "colab": {},
    "colab_type": "code",
    "id": "i6dMEXGBUlci"
   },
   "outputs": [],
   "source": [
    "#Using the defense to evaluate the accuracy of the perturbed data\n",
    "#FILL THIS IN "
   ]
  },
  {
   "cell_type": "markdown",
   "metadata": {
    "colab_type": "text",
    "id": "MqIEiMdar_5q"
   },
   "source": [
    "#Part 4: Carlini and Wagner Attack"
   ]
  },
  {
   "cell_type": "code",
   "execution_count": null,
   "metadata": {
    "colab": {},
    "colab_type": "code",
    "id": "oyyNb-v5sCY6"
   },
   "outputs": [],
   "source": [
    "#Implementing the CW attack\n",
    "\n",
    "#CW Instance on trained classifier from Part 1\n",
    "#FILL THIS IN\n",
    "\n",
    "\n",
    "#Attack parameters\n",
    "#FILL THIS IN\n",
    "\n",
    "\n",
    "#Generate adversarial data\n",
    "#FILL THIS IN\n",
    "\n",
    "\n",
    "#Evaluate accuracy of perturbed data on target classifier\n",
    "#FILL THIS IN"
   ]
  },
  {
   "cell_type": "code",
   "execution_count": null,
   "metadata": {
    "colab": {},
    "colab_type": "code",
    "id": "rlEMqrlPurRL"
   },
   "outputs": [],
   "source": [
    "#Show ten original samples and their corresponding adversarial samples\n",
    "#FILL THIS IN "
   ]
  },
  {
   "cell_type": "code",
   "execution_count": null,
   "metadata": {
    "colab": {},
    "colab_type": "code",
    "id": "P-VhQHQ2uvmV"
   },
   "outputs": [],
   "source": [
    "#Implementing the dimensionality reduction (PCA) defense \n",
    "\n",
    "#Calculate PCA projection\n",
    "pca = PCA(100)\n",
    "pca.fit(data_train)\n",
    "pca_train = pca.transform(data_train)\n",
    "pca_test = pca.transform(data_test)\n",
    "\n",
    "#Transform perturbed CW data using the subspace from the original training data\n",
    "#FILL THIS IN \n",
    "\n",
    "# create model for PCA\n",
    "def pca_model():\n",
    "    model = Sequential()\n",
    "    \n",
    "    #FILL THIS IN \n",
    "\n",
    "    return model\n",
    "\n",
    "#Create model graph, compile it, and train it using pca_train lables_train \n",
    "#FILL THIS IN "
   ]
  },
  {
   "cell_type": "code",
   "execution_count": null,
   "metadata": {
    "colab": {},
    "colab_type": "code",
    "id": "o9L61AfG2y94"
   },
   "outputs": [],
   "source": [
    "#Using the defense (and comparing to baseline accuracy)\n",
    "#FILL THIS IN "
   ]
  },
  {
   "cell_type": "markdown",
   "metadata": {
    "colab_type": "text",
    "id": "KP0mENqGhDt0"
   },
   "source": [
    "#Part 5: DeepFool "
   ]
  },
  {
   "cell_type": "code",
   "execution_count": null,
   "metadata": {
    "colab": {},
    "colab_type": "code",
    "id": "zHraovc2hES3"
   },
   "outputs": [],
   "source": [
    "#Implementing the DeepFool attack\n",
    "\n",
    "#DeepFool Instance on trained classifier from Part 1\n",
    "#FILL THIS IN\n",
    "\n",
    "\n",
    "#Attack parameters\n",
    "#FILL THIS IN\n",
    "\n",
    "\n",
    "#Generate adversarial data\n",
    "#FILL THIS IN\n",
    "\n",
    "\n",
    "#Evaluate accuracy of perturbed data on target classifier\n",
    "#FILL THIS IN"
   ]
  },
  {
   "cell_type": "code",
   "execution_count": null,
   "metadata": {
    "colab": {},
    "colab_type": "code",
    "id": "zEsLfmxThZ6M"
   },
   "outputs": [],
   "source": [
    "#Show ten original samples and their corresponding adversarial samples\n",
    "#FILL THIS IN"
   ]
  },
  {
   "cell_type": "code",
   "execution_count": null,
   "metadata": {
    "colab": {},
    "colab_type": "code",
    "id": "tOapt7QaM4U_"
   },
   "outputs": [],
   "source": [
    "#Implementing the Denoising Autoencoder Defense\n",
    "\n",
    "def autoencoder():\n",
    "    ae = Sequential()\n",
    "    ae.add(Dense(400, activation=None, kernel_initializer=\"normal\", input_dim=784))\n",
    "    ae.add(Dense(200, activation=None, kernel_initializer='normal'))\n",
    "    ae.add(Dense(100, activation=None, kernel_initializer='normal'))\n",
    "    ae.add(Dense(200, activation=None, kernel_initializer='normal'))\n",
    "    ae.add(Dense(400, activation=None, kernel_initializer='normal'))\n",
    "    ae.add(Dense(784, activation='sigmoid', kernel_initializer='normal'))\n",
    "    return ae\n",
    "\n",
    "#Create training data for DAE \n",
    "df_attack_data_train = deepfool.generate_np(data_train, **fgm_params)\n",
    "data_total_train = np.concatenate([df_attack_data_train, data_train])\n",
    "\n",
    "#Create and train DAE graph\n",
    "#FILL THIS IN"
   ]
  },
  {
   "cell_type": "code",
   "execution_count": null,
   "metadata": {
    "colab": {},
    "colab_type": "code",
    "id": "5CjKifVRNMMV"
   },
   "outputs": [],
   "source": [
    "#Using the defense\n",
    "\n",
    "#Use DAE to to remove adversarial perturbation \n",
    "#FILL THIS IN\n",
    "\n",
    "#Evaluate accuracy of FGM samples after denoising \n",
    "#FILL THIS IN"
   ]
  },
  {
   "cell_type": "code",
   "execution_count": null,
   "metadata": {
    "colab": {},
    "colab_type": "code",
    "id": "6NSAW0v3NSMB"
   },
   "outputs": [],
   "source": [
    "#Show ten samples of adversarial samples after denoising\n",
    "#FILL THIS IN"
   ]
  }
 ],
 "metadata": {
  "colab": {
   "name": "Project_4_Student.ipynb",
   "provenance": []
  },
  "kernelspec": {
   "display_name": "Python 2.7 DLN",
   "language": "python",
   "name": "csutom_jupyter_27"
  },
  "language_info": {
   "codemirror_mode": {
    "name": "ipython",
    "version": 2
   },
   "file_extension": ".py",
   "mimetype": "text/x-python",
   "name": "python",
   "nbconvert_exporter": "python",
   "pygments_lexer": "ipython2",
   "version": "2.7.18"
  }
 },
 "nbformat": 4,
 "nbformat_minor": 1
}
