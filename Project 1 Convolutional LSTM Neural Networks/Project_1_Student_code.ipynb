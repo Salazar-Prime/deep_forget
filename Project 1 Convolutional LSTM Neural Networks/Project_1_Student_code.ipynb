{
 "cells": [
  {
   "cell_type": "markdown",
   "metadata": {
    "colab_type": "text",
    "id": "bz_KGiHXU_j9"
   },
   "source": [
    "#Student Name: Varun Aggarwal\n",
    "#ECE 595 Machine Learning II\n",
    "#Project 1: CLDNN - Student Code"
   ]
  },
  {
   "cell_type": "code",
   "execution_count": 1,
   "metadata": {
    "ExecuteTime": {
     "end_time": "2020-09-21T14:38:00.587700Z",
     "start_time": "2020-09-21T14:37:45.489589Z"
    },
    "colab": {},
    "colab_type": "code",
    "id": "8GT54CknVKs0"
   },
   "outputs": [
    {
     "name": "stderr",
     "output_type": "stream",
     "text": [
      "Using TensorFlow backend.\n"
     ]
    }
   ],
   "source": [
    "#Import necessary packages\n",
    "import keras\n",
    "\n",
    "import numpy as np\n",
    "\n",
    "from keras.datasets import fashion_mnist\n",
    "from keras.models import Sequential\n",
    "from keras.layers import Dense, Conv2D, Flatten, MaxPooling2D, Dropout, Reshape, LSTM\n",
    "import pickle as cPickle\n",
    "import matplotlib.pyplot as plt"
   ]
  },
  {
   "cell_type": "markdown",
   "metadata": {
    "colab_type": "text",
    "id": "xCZj_eY9Vi-R"
   },
   "source": [
    "#Part 0: Importing and normalizing data"
   ]
  },
  {
   "cell_type": "code",
   "execution_count": 2,
   "metadata": {
    "ExecuteTime": {
     "end_time": "2020-09-21T14:38:12.771395Z",
     "start_time": "2020-09-21T14:38:10.894330Z"
    },
    "colab": {},
    "colab_type": "code",
    "id": "ass5riibVnL9"
   },
   "outputs": [
    {
     "name": "stdout",
     "output_type": "stream",
     "text": [
      "Downloading data from http://fashion-mnist.s3-website.eu-central-1.amazonaws.com/train-labels-idx1-ubyte.gz\n",
      "32768/29515 [=================================] - 1s 17us/step\n",
      "40960/29515 [=========================================] - 1s 14us/step\n",
      "Downloading data from http://fashion-mnist.s3-website.eu-central-1.amazonaws.com/train-images-idx3-ubyte.gz\n",
      "26427392/26421880 [==============================] - 46s 2us/step\n",
      "26435584/26421880 [==============================] - 46s 2us/step\n",
      "Downloading data from http://fashion-mnist.s3-website.eu-central-1.amazonaws.com/t10k-labels-idx1-ubyte.gz\n",
      "16384/5148 [===============================================================================================] - 0s 0us/step\n",
      "Downloading data from http://fashion-mnist.s3-website.eu-central-1.amazonaws.com/t10k-images-idx3-ubyte.gz\n",
      "4423680/4422102 [==============================] - 7s 2us/step\n",
      "4431872/4422102 [==============================] - 7s 2us/step\n"
     ]
    }
   ],
   "source": [
    "#Import dataset and normalize to [0,1]\n",
    "#Has shape (num_samples, 28, 28)\n",
    "(data_train, labels_train), (data_test, labels_test) = fashion_mnist.load_data()\n",
    "data_train = data_train/255.0\n",
    "data_test = data_test/255.0\n",
    "data_train = data_train.reshape(60000, 28, 28, 1)\n",
    "data_test = data_test.reshape(10000, 28, 28, 1)\n",
    "\n",
    "#Create labels as one-hot vectors\n",
    "#labels_train and labels_test have shapes (60000, 10) and (10000 10,) respectively\n",
    "labels_train = keras.utils.np_utils.to_categorical(labels_train, num_classes=10)\n",
    "labels_test = keras.utils.np_utils.to_categorical(labels_test, num_classes=10)"
   ]
  },
  {
   "cell_type": "markdown",
   "metadata": {
    "colab_type": "text",
    "id": "372Co-fUV1fD"
   },
   "source": [
    "#Part 1: Plotting cross entropy"
   ]
  },
  {
   "cell_type": "code",
   "execution_count": 3,
   "metadata": {
    "ExecuteTime": {
     "end_time": "2020-09-21T14:38:20.116638Z",
     "start_time": "2020-09-21T14:38:18.474401Z"
    },
    "colab": {},
    "colab_type": "code",
    "id": "GJJ0b7Z2V5h4"
   },
   "outputs": [
    {
     "name": "stderr",
     "output_type": "stream",
     "text": [
      "/apps/spack/gilbreth/apps/anaconda/5.1.0-py27-gcc-4.8.5-4muurok/lib/python2.7/site-packages/ipykernel/__main__.py:5: RuntimeWarning: divide by zero encountered in log\n"
     ]
    },
    {
     "data": {
      "text/plain": [
       "Text(0.5,1,u'Negative log-liklihood vs probability')"
      ]
     },
     "execution_count": 3,
     "metadata": {},
     "output_type": "execute_result"
    },
    {
     "data": {
      "image/png": "[encoded data removed]",
      "text/plain": [
       "<matplotlib.figure.Figure at 0x2b51f82e42d0>"
      ]
     },
     "metadata": {},
     "output_type": "display_data"
    }
   ],
   "source": [
    "#Show cross-entropy loss function\n",
    "\n",
    "#FILL THIS CODE BLOCK IN AND PRODUCE PLOT\n",
    "p = np.linspace(0,1,1000)\n",
    "z = -np.log(p)\n",
    "plt.plot(p,z)\n",
    "plt.xlabel(\"$p \\in [0,1]$\")\n",
    "plt.ylabel(\"$-log(p)$\")\n",
    "\n",
    "plt.title(\"Negative log-liklihood vs probability\")"
   ]
  },
  {
   "cell_type": "markdown",
   "metadata": {
    "colab_type": "text",
    "id": "dsGXDCdf4-zc"
   },
   "source": [
    "Answer the following questions:\n",
    "\n",
    "\n",
    "1.   How is the the negative log-likelihood of p affected when p is small? How about when p is large?\n",
    "\n",
    "  ANS: \n",
    "\n",
    "2.   Why does the behavior of the negative log-likelihood function make it a good objective function for a minimization problem specifically when the output can be interpreted as a probability space?\n",
    "\n",
    "  ANS: \n",
    "\n",
    "\n"
   ]
  },
  {
   "cell_type": "markdown",
   "metadata": {
    "colab_type": "text",
    "id": "_uF9StudWHXQ"
   },
   "source": [
    "#Part 2: Overfit CNN"
   ]
  },
  {
   "cell_type": "code",
   "execution_count": null,
   "metadata": {
    "colab": {},
    "colab_type": "code",
    "id": "oMko5jJkWJLp"
   },
   "outputs": [],
   "source": [
    "#Create and train model architecture\n",
    "def CNN_overfit():\n",
    "    #Easiest way to build model in Keras is using Squential. It allows models to \n",
    "    #be built layer by layer as we will do here\n",
    "    model = Sequential()\n",
    "    \n",
    "    #FILL THIS IN WITH MODEL ARCHITECTURE\n",
    "\n",
    "    return model\n",
    "\n",
    "#Create instance of CNN model graph\n",
    "CNN_overfit = CNN_overfit()\n",
    "\n",
    "#Compile model using an appropriate loss and optimizer algorithm\n",
    "#FILL THIS IN\n",
    "\n",
    "#Train the model and assign training meta-data to a variable\n",
    "#FILL THIS IN\n",
    "\n",
    "#Print accuracy of model on testing set after training \n",
    "#FILL THIS IN"
   ]
  },
  {
   "cell_type": "code",
   "execution_count": null,
   "metadata": {
    "colab": {},
    "colab_type": "code",
    "id": "EqT3SVgAWVtT"
   },
   "outputs": [],
   "source": [
    "#Plot accuracy vs epoch\n",
    "#FILL THIS CODE BLOCK IN AND PRODUCE PLOT\n"
   ]
  },
  {
   "cell_type": "code",
   "execution_count": null,
   "metadata": {
    "colab": {},
    "colab_type": "code",
    "id": "tKnbIsWgZDaG"
   },
   "outputs": [],
   "source": [
    "#Plot loss vs epoch\n",
    "#FILL THIS CODE BLOCK IN AND PRODUCE PLOT"
   ]
  },
  {
   "cell_type": "markdown",
   "metadata": {
    "colab_type": "text",
    "id": "PWK1Tv117Gol"
   },
   "source": [
    "Answer the following questions: \n",
    "\n",
    "\n",
    "\n",
    "1.   What does the loss of the training set go to? \n",
    "\n",
    "  ANS: \n",
    "\n",
    "2.   What does the loss of the testing set go to? \n",
    "\n",
    "  ANS: \n",
    "  \n",
    "3.   What is the reason for the discrepancy between the training and testing set loss? \n",
    "\n",
    "  ANS:\n",
    "\n",
    "4.   Explain why the accuracy of the testing set, after training, differs so much from the testing set regardless of achieving high training accuracy. Name two ways to avoid this. \n",
    "\n",
    "  ANS: "
   ]
  },
  {
   "cell_type": "markdown",
   "metadata": {
    "colab_type": "text",
    "id": "5QhQ4ZXGcZJf"
   },
   "source": [
    "#Part 3: Dropout on input layer"
   ]
  },
  {
   "cell_type": "code",
   "execution_count": null,
   "metadata": {
    "colab": {},
    "colab_type": "code",
    "id": "mS3EfyKCcbtB"
   },
   "outputs": [],
   "source": [
    "#Create and train model architecture\n",
    "def CNN_dropout_in():\n",
    "    model = Sequential()\n",
    "\n",
    "    #FILL THIS IN WITH MODEL ARCHITECTURE\n",
    "    \n",
    "    return model\n",
    "\n",
    "#Create instance of CNN model graph\n",
    "CNN_dropout_in = CNN_dropout_in()\n",
    "\n",
    "#Compile model using an appropriate loss and optimizer algorithm\n",
    "#FILL THIS IN\n",
    "\n",
    "#Train the model and assign training meta-data to a variable\n",
    "#FILL THIS IN\n",
    "\n",
    "#Print accuracy of model on testing set after training \n",
    "#FILL THIS IN"
   ]
  },
  {
   "cell_type": "code",
   "execution_count": null,
   "metadata": {
    "colab": {},
    "colab_type": "code",
    "id": "e5aoDt8Eck9e"
   },
   "outputs": [],
   "source": [
    "#Plot accuracy vs epoch\n",
    "#FILL THIS CODE BLOCK IN AND PRODUCE PLOT"
   ]
  },
  {
   "cell_type": "code",
   "execution_count": null,
   "metadata": {
    "colab": {},
    "colab_type": "code",
    "id": "LgEVvXC1cyEY"
   },
   "outputs": [],
   "source": [
    "#Plot loss vs epoch\n",
    "#FILL THIS CODE BLOCK IN AND PRODUCE PLOT"
   ]
  },
  {
   "cell_type": "markdown",
   "metadata": {
    "colab_type": "text",
    "id": "FthASFFA_Mnv"
   },
   "source": [
    "Answer the following questions: \n",
    "\n",
    "\n",
    "\n",
    "1.   What does the loss of the training set go to? \n",
    "\n",
    "  ANS: \n",
    "  \n",
    "2.   What does the loss of the testing set go to? \n",
    "\n",
    "  ANS: \n",
    "\n",
    "3.   Why is the loss of the training set so different from the loss of the testing set regardless of using dropout? \n",
    "\n",
    "  ANS:"
   ]
  },
  {
   "cell_type": "markdown",
   "metadata": {
    "colab_type": "text",
    "id": "2P2qmzu_c91_"
   },
   "source": [
    "#Part 4-I: Dropout on Hidden Layers"
   ]
  },
  {
   "cell_type": "code",
   "execution_count": null,
   "metadata": {
    "colab": {},
    "colab_type": "code",
    "id": "wIhRZhmwdAOk"
   },
   "outputs": [],
   "source": [
    "#Create and train model architecture\n",
    "def CNN_dropout_hidden():\n",
    "    model = Sequential()\n",
    "\n",
    "    #FILL THIS IN WITH MODEL ARCHITECTURE\n",
    "    \n",
    "    return model\n",
    "\n",
    "#Create instance of CNN model graph\n",
    "CNN_dropout_hidden = CNN_dropout_hidden()\n",
    "\n",
    "#Compile model using an appropriate loss and optimizer algorithm\n",
    "#FILL THIS IN\n",
    "\n",
    "#Train the model and assign training meta-data to a variable\n",
    "#FILL THIS IN\n",
    "\n",
    "#Print accuracy of model on testing set after training \n",
    "#FILL THIS IN"
   ]
  },
  {
   "cell_type": "code",
   "execution_count": null,
   "metadata": {
    "colab": {},
    "colab_type": "code",
    "id": "YmAK5EDqdH-Y"
   },
   "outputs": [],
   "source": [
    "#Plot accuracy vs epoch\n",
    "#FILL THIS CODE BLOCK IN AND PRODUCE PLOT"
   ]
  },
  {
   "cell_type": "code",
   "execution_count": null,
   "metadata": {
    "colab": {},
    "colab_type": "code",
    "id": "KsYl9g3tdK5o"
   },
   "outputs": [],
   "source": [
    "#Plot loss vs epoch\n",
    "#FILL THIS CODE BLOCK IN AND PRODUCE PLOT"
   ]
  },
  {
   "cell_type": "markdown",
   "metadata": {
    "colab_type": "text",
    "id": "5mmDCmQvAsuS"
   },
   "source": [
    "Answer the following questions:\n",
    "\n",
    "\n",
    "\n",
    "1.   What does the loss of the training set go to? \n",
    "\n",
    "  ANS: \n",
    "  \n",
    "2.   What does the loss of the testing set go to? \n",
    "\n",
    "  ANS: \n",
    "\n",
    "3.   Why was using dropout more effective here in comparison to the architecture in Part 3? \n",
    "\n",
    "  ANS: \n",
    "  \n",
    "4.   What is the difference in accuracy, after training, between the training and testing set? Is the model a good fit for the data? \n",
    "\n",
    "  ANS: "
   ]
  },
  {
   "cell_type": "markdown",
   "metadata": {
    "colab_type": "text",
    "id": "L1QJu0Y4dUKj"
   },
   "source": [
    "#Part 4-II [Sub-Question 5]: Dropout on Input and Hidden Layers"
   ]
  },
  {
   "cell_type": "code",
   "execution_count": null,
   "metadata": {
    "colab": {},
    "colab_type": "code",
    "id": "we62eVHLde0f"
   },
   "outputs": [],
   "source": [
    "#Create and train model architecture\n",
    "def CNN_dropout_both():\n",
    "\n",
    "    #Easiest way to build model in Keras is using Squential. It allows model to be build layer by layer as we will do here\n",
    "    model = Sequential()\n",
    "\n",
    "    #FILL THIS IN WITH MODEL ARCHITECTURE\n",
    "    \n",
    "    return model\n",
    "\n",
    "\n",
    "#Create instance of CNN model graph\n",
    "CNN_dropout_both = CNN_dropout_both()\n",
    "\n",
    "#Compile model using an appropriate loss and optimizer algorithm\n",
    "#FILL THIS IN\n",
    "\n",
    "#Train the model and assign training meta-data to a variable\n",
    "#FILL THIS IN\n",
    "\n",
    "#Print accuracy of model on testing set after training \n",
    "#FILL THIS IN"
   ]
  },
  {
   "cell_type": "code",
   "execution_count": null,
   "metadata": {
    "colab": {},
    "colab_type": "code",
    "id": "uqpDuw-mdlcJ"
   },
   "outputs": [],
   "source": [
    "#Plot accuracy vs epoch\n",
    "#FILL THIS CODE BLOCK IN AND PRODUCE PLOT"
   ]
  },
  {
   "cell_type": "code",
   "execution_count": null,
   "metadata": {
    "colab": {},
    "colab_type": "code",
    "id": "Nmz-pmardo6J"
   },
   "outputs": [],
   "source": [
    "#Plot loss vs epoch\n",
    "#FILL THIS CODE BLOCK IN AND PRODUCE PLOT"
   ]
  },
  {
   "cell_type": "markdown",
   "metadata": {
    "colab_type": "text",
    "id": "LQ985f21De-W"
   },
   "source": [
    "Answer the following questions: \n",
    "\n",
    "1.   What does the loss of the training set go to? \n",
    "\n",
    "  ANS: \n",
    "  \n",
    "2.   What does the loss of the testing set go to? \n",
    "\n",
    "  ANS:\n",
    "  \n",
    "3.   What is the difference in accuracy, after training, between the training and testing set?  \n",
    "\n",
    "  ANS: \n",
    "\n",
    "4.   Compare results in 4 with results in 5. Comment on robustness and accuracy.\n",
    "\n",
    "  ANS:"
   ]
  },
  {
   "cell_type": "markdown",
   "metadata": {
    "colab_type": "text",
    "id": "C60C05uR7KFF"
   },
   "source": [
    "#Part 5 : Activation Functions"
   ]
  },
  {
   "cell_type": "code",
   "execution_count": null,
   "metadata": {
    "colab": {},
    "colab_type": "code",
    "id": "Wja8Smy27XlL"
   },
   "outputs": [],
   "source": [
    "#Create and train model architecture\n",
    "def CNN_dropout_both_act():\n",
    "\n",
    "    #Easiest way to build model in Keras is using Squential. It allows model to be build layer by layer as we will do here\n",
    "    model = Sequential()\n",
    "\n",
    "    #FILL THIS IN WITH MODEL ARCHITECTURE   # use 'sigmoid' for point 1 and use 'tanh' for point 2\n",
    "    \n",
    "    return model\n",
    "\n",
    "\n",
    "#Create instance of CNN model graph\n",
    "CNN_dropout_both_act = CNN_dropout_both_act()\n",
    "\n",
    "#Compile model using an appropriate loss and optimizer algorithm\n",
    "#FILL THIS IN\n",
    "\n",
    "#Train the model and assign training meta-data to a variable\n",
    "#FILL THIS IN\n",
    "\n",
    "#Print accuracy of model on testing set after training \n",
    "#FILL THIS IN"
   ]
  },
  {
   "cell_type": "code",
   "execution_count": null,
   "metadata": {
    "colab": {},
    "colab_type": "code",
    "id": "zF2KktB47cdN"
   },
   "outputs": [],
   "source": [
    "#Plot accuracy vs epoch\n",
    "#FILL THIS CODE BLOCK IN AND PRODUCE PLOT"
   ]
  },
  {
   "cell_type": "code",
   "execution_count": null,
   "metadata": {
    "colab": {},
    "colab_type": "code",
    "id": "bipO8J6a7gmz"
   },
   "outputs": [],
   "source": [
    "#Plot loss vs epoch\n",
    "#FILL THIS CODE BLOCK IN AND PRODUCE PLOT"
   ]
  },
  {
   "cell_type": "markdown",
   "metadata": {
    "colab_type": "text",
    "id": "ZJ_QzwdN74Kj"
   },
   "source": [
    "Answer the following questions: \n",
    "\n",
    "1-c.   Compare the above results with softmax results (with point 5 results of Part 4-II)\n",
    "\n",
    "  ANS:\n",
    "  \n",
    "2-a.   Does ‘tanh’ as output activation work with Cross-entropy loss?\n",
    "\n",
    "  ANS:\n",
    "\n",
    "2-b.   Give a reason why tanh is not recommended with cross entropy loss?\n",
    "\n",
    "  ANS: \n",
    "\n",
    "2-c.   Give a reason why sigmoid does not cause problem as tanh with Cross entropy loss?\n",
    "\n",
    "  ANS: \n"
   ]
  },
  {
   "cell_type": "markdown",
   "metadata": {
    "colab_type": "text",
    "id": "XL3M_r3Sd2oI"
   },
   "source": [
    "#Part 6: Creating a CLDNN"
   ]
  },
  {
   "cell_type": "code",
   "execution_count": null,
   "metadata": {
    "ExecuteTime": {
     "start_time": "2020-09-21T13:53:50.025Z"
    },
    "colab": {},
    "colab_type": "code",
    "id": "DFbDIRH_Nn2C"
   },
   "outputs": [],
   "source": [
    "Run the code in the block below 'as is.' After executing, the high SNR RadioML training and testing data will be stored in the arrays X_train and X_test, respectively. Their respective one-hot labels will be stored in Y_train and Y_test. "
   ]
  },
  {
   "cell_type": "code",
   "execution_count": 4,
   "metadata": {
    "ExecuteTime": {
     "end_time": "2020-09-21T14:50:05.239759Z",
     "start_time": "2020-09-21T14:38:41.877164Z"
    },
    "colab": {},
    "colab_type": "code",
    "id": "DFbDIRH_Nn2C"
   },
   "outputs": [
    {
     "name": "stdout",
     "output_type": "stream",
     "text": [
      "--2020-09-21 12:40:19--  http://opendata.deepsig.io/datasets/2016.10/RML2016.10b.tar.bz2\n",
      "Resolving opendata.deepsig.io (opendata.deepsig.io)... 52.14.91.165\n",
      "Connecting to opendata.deepsig.io (opendata.deepsig.io)|52.14.91.165|:80... connected.\n",
      "HTTP request sent, awaiting response... 200 OK\n",
      "Length: 1245608913 (1.2G) [application/x-bzip2]\n",
      "Saving to: ‘RML2016.10b.tar.bz2’\n",
      "\n",
      "100%[====================================>] 1,245,608,913 1.11MB/s   in 18m 36s\n",
      "\n",
      "2020-09-21 12:58:55 (1.06 MB/s) - ‘RML2016.10b.tar.bz2’ saved [1245608913/1245608913]\n",
      "\n",
      "RML2016.10b.dat\n",
      "LICENSE.TXT\n"
     ]
    }
   ],
   "source": [
    "#Download RML 2016.10b dataset and untar file\n",
    "!wget http://opendata.deepsig.io/datasets/2016.10/RML2016.10b.tar.bz2\n",
    "!tar -xvjf RML2016.10b.tar.bz2"
   ]
  },
  {
   "cell_type": "code",
   "execution_count": 2,
   "metadata": {
    "ExecuteTime": {
     "end_time": "2020-09-21T14:50:42.487257Z",
     "start_time": "2020-09-21T14:50:16.104118Z"
    },
    "colab": {},
    "colab_type": "code",
    "id": "DFbDIRH_Nn2C"
   },
   "outputs": [],
   "source": [
    "#Extract high SNR data and obtain their corresponding lables \n",
    "Xd = cPickle.load(open(\"RML2016.10b.dat\",'rb'))"
   ]
  },
  {
   "cell_type": "code",
   "execution_count": 3,
   "metadata": {
    "ExecuteTime": {
     "end_time": "2020-09-21T14:51:10.454894Z",
     "start_time": "2020-09-21T14:51:09.404250Z"
    },
    "colab": {},
    "colab_type": "code",
    "id": "DFbDIRH_Nn2C"
   },
   "outputs": [],
   "source": [
    "snrs,mods = map(lambda j: sorted(list(set(map(lambda x: x[j], Xd.keys())))), [1,0])\n",
    "X = []\n",
    "lbl = []\n",
    "for mod in mods:\n",
    "    for snr in snrs:\n",
    "        if snr > 0:\n",
    "            X.append(Xd[(mod,snr)])\n",
    "            for i in range(Xd[(mod,snr)].shape[0]):  lbl.append((mod,snr))\n",
    "X = np.vstack(X)\n",
    "\n",
    "np.random.seed(2016)\n",
    "n_examples = X.shape[0]\n",
    "n_train = n_examples * 0.8\n",
    "n_train = int(n_train)\n",
    "train_idx = np.random.choice(range(0,n_examples), size=n_train, replace=False)\n",
    "test_idx = list(set(range(0,n_examples))-set(train_idx))\n",
    "X_train = X[train_idx]\n",
    "X_test =  X[test_idx]\n",
    "def to_onehot(yy):\n",
    "    yy1 = np.zeros([len(yy), max(yy)+1])\n",
    "    yy1[np.arange(len(yy)),yy] = 1\n",
    "    return yy1\n",
    "Y_train = to_onehot(map(lambda x: mods.index(lbl[x][0]), train_idx))\n",
    "Y_test = to_onehot(map(lambda x: mods.index(lbl[x][0]), test_idx))\n",
    "\n",
    "#Re-shape data to appropriate dimensions \n",
    "X_train = X_train.reshape(432000, 2, 128, 1)\n",
    "X_test = X_test.reshape(108000, 2, 128, 1)"
   ]
  },
  {
   "cell_type": "code",
   "execution_count": 5,
   "metadata": {
    "ExecuteTime": {
     "end_time": "2020-09-21T15:03:48.997865Z",
     "start_time": "2020-09-21T15:02:47.731568Z"
    },
    "colab": {},
    "colab_type": "code",
    "id": "FWjIxEpGgsrY"
   },
   "outputs": [
    {
     "name": "stdout",
     "output_type": "stream",
     "text": [
      "Train on 432000 samples, validate on 108000 samples\n",
      "Epoch 1/200\n",
      "432000/432000 [==============================] - 44s 102us/step - loss: 1.6680 - acc: 0.3069 - val_loss: 1.0607 - val_acc: 0.4935\n",
      "Epoch 2/200\n",
      "432000/432000 [==============================] - 43s 100us/step - loss: 0.7233 - acc: 0.6560 - val_loss: 0.5174 - val_acc: 0.7334\n",
      "Epoch 3/200\n",
      "432000/432000 [==============================] - 43s 99us/step - loss: 0.4879 - acc: 0.7468 - val_loss: 0.4574 - val_acc: 0.7625\n",
      "Epoch 4/200\n",
      "432000/432000 [==============================] - 43s 99us/step - loss: 0.4265 - acc: 0.7769 - val_loss: 0.4321 - val_acc: 0.7717\n",
      "Epoch 5/200\n",
      "432000/432000 [==============================] - 43s 99us/step - loss: 0.3872 - acc: 0.7915 - val_loss: 0.3667 - val_acc: 0.7996\n",
      "Epoch 6/200\n",
      "432000/432000 [==============================] - 43s 99us/step - loss: 0.3604 - acc: 0.8030 - val_loss: 0.3431 - val_acc: 0.8009\n",
      "Epoch 7/200\n",
      "432000/432000 [==============================] - 43s 99us/step - loss: 0.3435 - acc: 0.8105 - val_loss: 0.3485 - val_acc: 0.8097\n",
      "Epoch 8/200\n",
      "432000/432000 [==============================] - 43s 99us/step - loss: 0.3278 - acc: 0.8180 - val_loss: 0.3286 - val_acc: 0.8126\n",
      "Epoch 9/200\n",
      "432000/432000 [==============================] - 43s 99us/step - loss: 0.3170 - acc: 0.8236 - val_loss: 0.3081 - val_acc: 0.8303\n",
      "Epoch 10/200\n",
      "432000/432000 [==============================] - 43s 100us/step - loss: 0.3074 - acc: 0.8297 - val_loss: 0.2973 - val_acc: 0.8364\n",
      "Epoch 11/200\n",
      "432000/432000 [==============================] - 43s 99us/step - loss: 0.2981 - acc: 0.8362 - val_loss: 0.2956 - val_acc: 0.8400\n",
      "Epoch 12/200\n",
      "432000/432000 [==============================] - 43s 100us/step - loss: 0.2920 - acc: 0.8415 - val_loss: 0.2958 - val_acc: 0.8450\n",
      "Epoch 13/200\n",
      "432000/432000 [==============================] - 43s 100us/step - loss: 0.2851 - acc: 0.8471 - val_loss: 0.2837 - val_acc: 0.8499\n",
      "Epoch 14/200\n",
      "432000/432000 [==============================] - 43s 100us/step - loss: 0.2787 - acc: 0.8529 - val_loss: 0.2676 - val_acc: 0.8622\n",
      "Epoch 15/200\n",
      "432000/432000 [==============================] - 43s 99us/step - loss: 0.2694 - acc: 0.8604 - val_loss: 0.2689 - val_acc: 0.8583\n",
      "Epoch 16/200\n",
      "432000/432000 [==============================] - 43s 99us/step - loss: 0.2591 - acc: 0.8678 - val_loss: 0.2495 - val_acc: 0.8741\n",
      "Epoch 17/200\n",
      "432000/432000 [==============================] - 43s 100us/step - loss: 0.2493 - acc: 0.8741 - val_loss: 0.2580 - val_acc: 0.8751\n",
      "Epoch 18/200\n",
      "432000/432000 [==============================] - 43s 99us/step - loss: 0.2425 - acc: 0.8780 - val_loss: 0.2364 - val_acc: 0.8823\n",
      "Epoch 19/200\n",
      "432000/432000 [==============================] - 43s 99us/step - loss: 0.2364 - acc: 0.8818 - val_loss: 0.2410 - val_acc: 0.8793\n",
      "Epoch 20/200\n",
      "432000/432000 [==============================] - 43s 99us/step - loss: 0.2320 - acc: 0.8837 - val_loss: 0.2509 - val_acc: 0.8752\n",
      "Epoch 21/200\n",
      "432000/432000 [==============================] - 43s 99us/step - loss: 0.2291 - acc: 0.8853 - val_loss: 0.2354 - val_acc: 0.8840\n",
      "Epoch 22/200\n",
      "432000/432000 [==============================] - 43s 99us/step - loss: 0.2241 - acc: 0.8879 - val_loss: 0.2297 - val_acc: 0.8847\n",
      "Epoch 23/200\n",
      "432000/432000 [==============================] - 43s 99us/step - loss: 0.2220 - acc: 0.8886 - val_loss: 0.2295 - val_acc: 0.8856\n",
      "Epoch 24/200\n",
      "432000/432000 [==============================] - 43s 99us/step - loss: 0.2180 - acc: 0.8911 - val_loss: 0.2207 - val_acc: 0.8897\n",
      "Epoch 25/200\n",
      "432000/432000 [==============================] - 43s 99us/step - loss: 0.2159 - acc: 0.8916 - val_loss: 0.2194 - val_acc: 0.8916\n",
      "Epoch 26/200\n",
      "432000/432000 [==============================] - 43s 99us/step - loss: 0.2118 - acc: 0.8938 - val_loss: 0.2119 - val_acc: 0.8939\n",
      "Epoch 27/200\n",
      "432000/432000 [==============================] - 43s 99us/step - loss: 0.2091 - acc: 0.8953 - val_loss: 0.2102 - val_acc: 0.8949\n",
      "Epoch 28/200\n",
      "432000/432000 [==============================] - 43s 99us/step - loss: 0.2082 - acc: 0.8953 - val_loss: 0.2133 - val_acc: 0.8946\n",
      "Epoch 29/200\n",
      "432000/432000 [==============================] - 43s 99us/step - loss: 0.2038 - acc: 0.8974 - val_loss: 0.2083 - val_acc: 0.8946\n",
      "Epoch 30/200\n",
      "432000/432000 [==============================] - 43s 99us/step - loss: 0.2009 - acc: 0.8993 - val_loss: 0.2067 - val_acc: 0.8975\n",
      "Epoch 31/200\n",
      "432000/432000 [==============================] - 43s 99us/step - loss: 0.2001 - acc: 0.8996 - val_loss: 0.2069 - val_acc: 0.8978\n",
      "Epoch 32/200\n",
      "432000/432000 [==============================] - 43s 99us/step - loss: 0.1978 - acc: 0.9006 - val_loss: 0.2062 - val_acc: 0.8978\n",
      "Epoch 33/200\n",
      "432000/432000 [==============================] - 43s 99us/step - loss: 0.1958 - acc: 0.9014 - val_loss: 0.2063 - val_acc: 0.8984\n",
      "Epoch 34/200\n",
      "432000/432000 [==============================] - 43s 99us/step - loss: 0.1939 - acc: 0.9021 - val_loss: 0.2001 - val_acc: 0.9003\n",
      "Epoch 35/200\n",
      "432000/432000 [==============================] - 43s 99us/step - loss: 0.1905 - acc: 0.9041 - val_loss: 0.1933 - val_acc: 0.9038\n",
      "Epoch 36/200\n",
      "432000/432000 [==============================] - 43s 99us/step - loss: 0.1900 - acc: 0.9042 - val_loss: 0.1998 - val_acc: 0.9005\n",
      "Epoch 37/200\n",
      "432000/432000 [==============================] - 43s 99us/step - loss: 0.1866 - acc: 0.9060 - val_loss: 0.1967 - val_acc: 0.9023\n",
      "Epoch 38/200\n",
      "432000/432000 [==============================] - 43s 99us/step - loss: 0.1847 - acc: 0.9066 - val_loss: 0.1931 - val_acc: 0.9039\n",
      "Epoch 39/200\n",
      "432000/432000 [==============================] - 43s 99us/step - loss: 0.1833 - acc: 0.9074 - val_loss: 0.1927 - val_acc: 0.9044\n",
      "Epoch 40/200\n",
      "432000/432000 [==============================] - 43s 99us/step - loss: 0.1823 - acc: 0.9078 - val_loss: 0.1868 - val_acc: 0.9070\n",
      "Epoch 41/200\n",
      "432000/432000 [==============================] - 43s 99us/step - loss: 0.1784 - acc: 0.9094 - val_loss: 0.1937 - val_acc: 0.9050\n",
      "Epoch 42/200\n",
      "432000/432000 [==============================] - 43s 99us/step - loss: 0.1789 - acc: 0.9095 - val_loss: 0.1841 - val_acc: 0.9080\n",
      "Epoch 43/200\n",
      "432000/432000 [==============================] - 43s 99us/step - loss: 0.1763 - acc: 0.9104 - val_loss: 0.1827 - val_acc: 0.9093\n",
      "Epoch 44/200\n",
      "432000/432000 [==============================] - 43s 99us/step - loss: 0.1741 - acc: 0.9113 - val_loss: 0.1787 - val_acc: 0.9105\n",
      "Epoch 45/200\n",
      "432000/432000 [==============================] - 43s 99us/step - loss: 0.1730 - acc: 0.9118 - val_loss: 0.2037 - val_acc: 0.9007\n",
      "Epoch 46/200\n",
      "432000/432000 [==============================] - 43s 99us/step - loss: 0.1711 - acc: 0.9128 - val_loss: 0.1840 - val_acc: 0.9078\n",
      "Epoch 47/200\n",
      "432000/432000 [==============================] - 43s 99us/step - loss: 0.1703 - acc: 0.9131 - val_loss: 0.1886 - val_acc: 0.9073\n",
      "Epoch 48/200\n",
      "432000/432000 [==============================] - 43s 99us/step - loss: 0.1687 - acc: 0.9139 - val_loss: 0.1794 - val_acc: 0.9100\n",
      "Epoch 49/200\n",
      "432000/432000 [==============================] - 43s 99us/step - loss: 0.1660 - acc: 0.9150 - val_loss: 0.1861 - val_acc: 0.9085\n",
      "Epoch 50/200\n",
      "432000/432000 [==============================] - 43s 99us/step - loss: 0.1658 - acc: 0.9148 - val_loss: 0.1803 - val_acc: 0.9114\n",
      "Epoch 51/200\n",
      "432000/432000 [==============================] - 43s 99us/step - loss: 0.1645 - acc: 0.9156 - val_loss: 0.1818 - val_acc: 0.9096\n",
      "Epoch 52/200\n",
      "432000/432000 [==============================] - 43s 99us/step - loss: 0.1635 - acc: 0.9163 - val_loss: 0.1775 - val_acc: 0.9116\n",
      "Epoch 53/200\n",
      "432000/432000 [==============================] - 43s 99us/step - loss: 0.1622 - acc: 0.9164 - val_loss: 0.1708 - val_acc: 0.9140\n",
      "Epoch 54/200\n",
      "432000/432000 [==============================] - 43s 98us/step - loss: 0.1600 - acc: 0.9173 - val_loss: 0.1884 - val_acc: 0.9076\n",
      "Epoch 55/200\n",
      "432000/432000 [==============================] - 43s 99us/step - loss: 0.1609 - acc: 0.9171 - val_loss: 0.1822 - val_acc: 0.9083\n",
      "Epoch 56/200\n",
      "432000/432000 [==============================] - 43s 99us/step - loss: 0.1581 - acc: 0.9181 - val_loss: 0.1700 - val_acc: 0.9143\n",
      "Epoch 57/200\n",
      "432000/432000 [==============================] - 43s 99us/step - loss: 0.1567 - acc: 0.9190 - val_loss: 0.1787 - val_acc: 0.9112\n",
      "Epoch 58/200\n",
      "432000/432000 [==============================] - 43s 99us/step - loss: 0.1575 - acc: 0.9188 - val_loss: 0.1802 - val_acc: 0.9102\n",
      "Epoch 59/200\n",
      "432000/432000 [==============================] - 43s 99us/step - loss: 0.1559 - acc: 0.9192 - val_loss: 0.1692 - val_acc: 0.9153\n",
      "Epoch 60/200\n",
      "432000/432000 [==============================] - 43s 99us/step - loss: 0.1544 - acc: 0.9198 - val_loss: 0.1693 - val_acc: 0.9155\n",
      "Epoch 61/200\n",
      "432000/432000 [==============================] - 42s 98us/step - loss: 0.1531 - acc: 0.9205 - val_loss: 0.1759 - val_acc: 0.9133\n",
      "Epoch 62/200\n",
      "432000/432000 [==============================] - 43s 99us/step - loss: 0.1516 - acc: 0.9210 - val_loss: 0.1709 - val_acc: 0.9145\n",
      "Epoch 63/200\n",
      "432000/432000 [==============================] - 43s 99us/step - loss: 0.1525 - acc: 0.9209 - val_loss: 0.1681 - val_acc: 0.9156\n",
      "Epoch 64/200\n",
      "432000/432000 [==============================] - 43s 100us/step - loss: 0.1498 - acc: 0.9220 - val_loss: 0.1719 - val_acc: 0.9148\n",
      "Epoch 65/200\n",
      "432000/432000 [==============================] - 43s 99us/step - loss: 0.1490 - acc: 0.9221 - val_loss: 0.1714 - val_acc: 0.9150\n",
      "Epoch 66/200\n",
      "432000/432000 [==============================] - 43s 99us/step - loss: 0.1487 - acc: 0.9224 - val_loss: 0.1678 - val_acc: 0.9160\n",
      "Epoch 67/200\n",
      "432000/432000 [==============================] - 43s 99us/step - loss: 0.1479 - acc: 0.9225 - val_loss: 0.1655 - val_acc: 0.9165\n",
      "Epoch 68/200\n",
      "432000/432000 [==============================] - 43s 99us/step - loss: 0.1459 - acc: 0.9234 - val_loss: 0.1707 - val_acc: 0.9144\n",
      "Epoch 69/200\n",
      "432000/432000 [==============================] - 43s 100us/step - loss: 0.1480 - acc: 0.9228 - val_loss: 0.1773 - val_acc: 0.9127\n",
      "Epoch 70/200\n",
      "432000/432000 [==============================] - 43s 99us/step - loss: 0.1447 - acc: 0.9240 - val_loss: 0.1672 - val_acc: 0.9171\n",
      "Epoch 71/200\n",
      "432000/432000 [==============================] - 43s 99us/step - loss: 0.1439 - acc: 0.9243 - val_loss: 0.1661 - val_acc: 0.9173\n",
      "Epoch 72/200\n",
      "432000/432000 [==============================] - 43s 99us/step - loss: 0.1429 - acc: 0.9248 - val_loss: 0.1649 - val_acc: 0.9178\n",
      "Epoch 73/200\n",
      "432000/432000 [==============================] - 43s 99us/step - loss: 0.1431 - acc: 0.9246 - val_loss: 0.1707 - val_acc: 0.9159\n",
      "Epoch 74/200\n",
      "432000/432000 [==============================] - 42s 98us/step - loss: 0.1424 - acc: 0.9250 - val_loss: 0.1641 - val_acc: 0.9183\n",
      "Epoch 75/200\n",
      "432000/432000 [==============================] - 42s 98us/step - loss: 0.1410 - acc: 0.9254 - val_loss: 0.1614 - val_acc: 0.9184\n",
      "Epoch 76/200\n",
      "432000/432000 [==============================] - 43s 99us/step - loss: 0.1412 - acc: 0.9255 - val_loss: 0.1707 - val_acc: 0.9160\n",
      "Epoch 77/200\n",
      "432000/432000 [==============================] - 43s 99us/step - loss: 0.1385 - acc: 0.9268 - val_loss: 0.1601 - val_acc: 0.9194\n",
      "Epoch 78/200\n",
      "432000/432000 [==============================] - 43s 99us/step - loss: 0.1383 - acc: 0.9266 - val_loss: 0.1656 - val_acc: 0.9184\n",
      "Epoch 79/200\n",
      "432000/432000 [==============================] - 43s 99us/step - loss: 0.1369 - acc: 0.9271 - val_loss: 0.1601 - val_acc: 0.9197\n",
      "Epoch 80/200\n",
      "432000/432000 [==============================] - 43s 99us/step - loss: 0.1356 - acc: 0.9276 - val_loss: 0.1648 - val_acc: 0.9177\n",
      "Epoch 81/200\n",
      "432000/432000 [==============================] - 43s 99us/step - loss: 0.1359 - acc: 0.9274 - val_loss: 0.1714 - val_acc: 0.9167\n",
      "Epoch 82/200\n",
      "432000/432000 [==============================] - 43s 99us/step - loss: 0.1357 - acc: 0.9274 - val_loss: 0.1702 - val_acc: 0.9176\n",
      "Epoch 83/200\n",
      "432000/432000 [==============================] - 43s 99us/step - loss: 0.1351 - acc: 0.9280 - val_loss: 0.1684 - val_acc: 0.9166\n",
      "Epoch 84/200\n",
      "432000/432000 [==============================] - 43s 99us/step - loss: 0.1340 - acc: 0.9281 - val_loss: 0.1626 - val_acc: 0.9195\n",
      "Epoch 85/200\n",
      "432000/432000 [==============================] - 43s 99us/step - loss: 0.1340 - acc: 0.9283 - val_loss: 0.1645 - val_acc: 0.9191\n",
      "Epoch 86/200\n",
      "432000/432000 [==============================] - 43s 99us/step - loss: 0.1328 - acc: 0.9289 - val_loss: 0.1695 - val_acc: 0.9182\n",
      "Epoch 87/200\n",
      "432000/432000 [==============================] - 43s 99us/step - loss: 0.1325 - acc: 0.9286 - val_loss: 0.1643 - val_acc: 0.9191\n",
      "Epoch 88/200\n",
      "432000/432000 [==============================] - 43s 99us/step - loss: 0.1310 - acc: 0.9293 - val_loss: 0.1617 - val_acc: 0.9201\n",
      "Epoch 89/200\n",
      "432000/432000 [==============================] - 43s 99us/step - loss: 0.1299 - acc: 0.9296 - val_loss: 0.1593 - val_acc: 0.9207\n",
      "Epoch 90/200\n",
      "432000/432000 [==============================] - 43s 99us/step - loss: 0.1311 - acc: 0.9292 - val_loss: 0.1622 - val_acc: 0.9201\n",
      "Epoch 91/200\n",
      "432000/432000 [==============================] - 43s 99us/step - loss: 0.1288 - acc: 0.9302 - val_loss: 0.1726 - val_acc: 0.9174\n",
      "Epoch 92/200\n",
      "432000/432000 [==============================] - 43s 99us/step - loss: 0.1286 - acc: 0.9303 - val_loss: 0.1593 - val_acc: 0.9210\n",
      "Epoch 93/200\n",
      "432000/432000 [==============================] - 43s 99us/step - loss: 0.1275 - acc: 0.9304 - val_loss: 0.1608 - val_acc: 0.9206\n",
      "Epoch 94/200\n",
      "432000/432000 [==============================] - 43s 98us/step - loss: 0.1270 - acc: 0.9308 - val_loss: 0.1592 - val_acc: 0.9205\n",
      "Epoch 95/200\n",
      "432000/432000 [==============================] - 43s 98us/step - loss: 0.1269 - acc: 0.9307 - val_loss: 0.1645 - val_acc: 0.9186\n",
      "Epoch 96/200\n",
      "432000/432000 [==============================] - 43s 98us/step - loss: 0.1256 - acc: 0.9312 - val_loss: 0.1614 - val_acc: 0.9209\n",
      "Epoch 97/200\n",
      "432000/432000 [==============================] - 43s 99us/step - loss: 0.1244 - acc: 0.9317 - val_loss: 0.1633 - val_acc: 0.9206\n",
      "Epoch 98/200\n",
      "432000/432000 [==============================] - 43s 99us/step - loss: 0.1258 - acc: 0.9312 - val_loss: 0.1625 - val_acc: 0.9200\n",
      "Epoch 99/200\n",
      "432000/432000 [==============================] - 43s 99us/step - loss: 0.1245 - acc: 0.9317 - val_loss: 0.1625 - val_acc: 0.9205\n",
      "Epoch 100/200\n",
      "432000/432000 [==============================] - 43s 99us/step - loss: 0.1237 - acc: 0.9320 - val_loss: 0.1601 - val_acc: 0.9209\n",
      "Epoch 101/200\n",
      "432000/432000 [==============================] - 43s 99us/step - loss: 0.1235 - acc: 0.9318 - val_loss: 0.1635 - val_acc: 0.9202\n",
      "Epoch 102/200\n",
      "432000/432000 [==============================] - 43s 99us/step - loss: 0.1237 - acc: 0.9319 - val_loss: 0.1665 - val_acc: 0.9186\n",
      "Epoch 103/200\n",
      "432000/432000 [==============================] - 43s 99us/step - loss: 0.1227 - acc: 0.9326 - val_loss: 0.1689 - val_acc: 0.9196\n",
      "Epoch 104/200\n",
      "432000/432000 [==============================] - 43s 99us/step - loss: 0.1225 - acc: 0.9323 - val_loss: 0.1593 - val_acc: 0.9206\n",
      "Epoch 105/200\n",
      "432000/432000 [==============================] - 43s 99us/step - loss: 0.1216 - acc: 0.9327 - val_loss: 0.1844 - val_acc: 0.9151\n",
      "Epoch 106/200\n",
      "432000/432000 [==============================] - 43s 99us/step - loss: 0.1217 - acc: 0.9328 - val_loss: 0.1681 - val_acc: 0.9191\n",
      "Epoch 107/200\n",
      "432000/432000 [==============================] - 43s 99us/step - loss: 0.1205 - acc: 0.9331 - val_loss: 0.1676 - val_acc: 0.9205\n",
      "Epoch 108/200\n",
      "432000/432000 [==============================] - 43s 98us/step - loss: 0.1215 - acc: 0.9328 - val_loss: 0.1673 - val_acc: 0.9206\n",
      "Epoch 109/200\n",
      "432000/432000 [==============================] - 43s 99us/step - loss: 0.1208 - acc: 0.9327 - val_loss: 0.1656 - val_acc: 0.9213\n",
      "Epoch 110/200\n",
      "432000/432000 [==============================] - 43s 99us/step - loss: 0.1202 - acc: 0.9331 - val_loss: 0.1638 - val_acc: 0.9212\n",
      "Epoch 111/200\n",
      "432000/432000 [==============================] - 43s 99us/step - loss: 0.1198 - acc: 0.9335 - val_loss: 0.1678 - val_acc: 0.9186\n",
      "Epoch 112/200\n",
      "432000/432000 [==============================] - 43s 99us/step - loss: 0.1200 - acc: 0.9333 - val_loss: 0.1710 - val_acc: 0.9196\n",
      "Epoch 113/200\n",
      "432000/432000 [==============================] - 43s 99us/step - loss: 0.1186 - acc: 0.9338 - val_loss: 0.1646 - val_acc: 0.9210\n",
      "Epoch 114/200\n",
      "432000/432000 [==============================] - 43s 99us/step - loss: 0.1177 - acc: 0.9344 - val_loss: 0.1826 - val_acc: 0.9146\n",
      "Epoch 115/200\n"
     ]
    },
    {
     "name": "stdout",
     "output_type": "stream",
     "text": [
      "432000/432000 [==============================] - 43s 99us/step - loss: 0.1175 - acc: 0.9343 - val_loss: 0.1657 - val_acc: 0.9214\n",
      "Epoch 116/200\n",
      "432000/432000 [==============================] - 43s 99us/step - loss: 0.1174 - acc: 0.9344 - val_loss: 0.1647 - val_acc: 0.9220\n",
      "Epoch 117/200\n",
      "432000/432000 [==============================] - 43s 99us/step - loss: 0.1174 - acc: 0.9341 - val_loss: 0.1654 - val_acc: 0.9209\n",
      "Epoch 118/200\n",
      "432000/432000 [==============================] - 43s 99us/step - loss: 0.1184 - acc: 0.9340 - val_loss: 0.1653 - val_acc: 0.9211\n",
      "Epoch 119/200\n",
      "432000/432000 [==============================] - 43s 99us/step - loss: 0.1163 - acc: 0.9344 - val_loss: 0.1712 - val_acc: 0.9205\n",
      "Epoch 120/200\n",
      "432000/432000 [==============================] - 43s 99us/step - loss: 0.1159 - acc: 0.9352 - val_loss: 0.1702 - val_acc: 0.9211\n",
      "Epoch 121/200\n",
      "432000/432000 [==============================] - 43s 99us/step - loss: 0.1163 - acc: 0.9346 - val_loss: 0.1903 - val_acc: 0.9150\n",
      "Epoch 122/200\n",
      "432000/432000 [==============================] - 43s 99us/step - loss: 0.1170 - acc: 0.9344 - val_loss: 0.1664 - val_acc: 0.9218\n",
      "Epoch 123/200\n",
      "432000/432000 [==============================] - 43s 99us/step - loss: 0.1153 - acc: 0.9351 - val_loss: 0.1733 - val_acc: 0.9202\n",
      "Epoch 124/200\n",
      "432000/432000 [==============================] - 43s 99us/step - loss: 0.1144 - acc: 0.9357 - val_loss: 0.1701 - val_acc: 0.9210\n",
      "Epoch 125/200\n",
      "432000/432000 [==============================] - 43s 99us/step - loss: 0.1140 - acc: 0.9356 - val_loss: 0.1700 - val_acc: 0.9216\n",
      "Epoch 126/200\n",
      "432000/432000 [==============================] - 43s 99us/step - loss: 0.1144 - acc: 0.9353 - val_loss: 0.1663 - val_acc: 0.9224\n",
      "Epoch 127/200\n",
      "432000/432000 [==============================] - 43s 99us/step - loss: 0.1139 - acc: 0.9359 - val_loss: 0.1743 - val_acc: 0.9209\n",
      "Epoch 128/200\n",
      "432000/432000 [==============================] - 43s 99us/step - loss: 0.1136 - acc: 0.9358 - val_loss: 0.1659 - val_acc: 0.9225\n",
      "Epoch 129/200\n",
      "432000/432000 [==============================] - 43s 99us/step - loss: 0.1132 - acc: 0.9360 - val_loss: 0.1694 - val_acc: 0.9223\n",
      "Epoch 130/200\n",
      "432000/432000 [==============================] - 43s 99us/step - loss: 0.1128 - acc: 0.9364 - val_loss: 0.1789 - val_acc: 0.9201\n",
      "Epoch 131/200\n",
      "432000/432000 [==============================] - 43s 99us/step - loss: 0.1131 - acc: 0.9360 - val_loss: 0.1758 - val_acc: 0.9211\n",
      "Epoch 132/200\n",
      "432000/432000 [==============================] - 43s 99us/step - loss: 0.1118 - acc: 0.9367 - val_loss: 0.1681 - val_acc: 0.9219\n",
      "Epoch 133/200\n",
      "432000/432000 [==============================] - 43s 99us/step - loss: 0.1141 - acc: 0.9357 - val_loss: 0.1700 - val_acc: 0.9224\n",
      "Epoch 134/200\n",
      "432000/432000 [==============================] - 43s 99us/step - loss: 0.1129 - acc: 0.9358 - val_loss: 0.1739 - val_acc: 0.9210\n",
      "Epoch 135/200\n",
      "432000/432000 [==============================] - 42s 98us/step - loss: 0.1130 - acc: 0.9361 - val_loss: 0.1731 - val_acc: 0.9211\n",
      "Epoch 136/200\n",
      "432000/432000 [==============================] - 43s 98us/step - loss: 0.1123 - acc: 0.9361 - val_loss: 0.1698 - val_acc: 0.9222\n",
      "Epoch 137/200\n",
      "432000/432000 [==============================] - 43s 99us/step - loss: 0.1111 - acc: 0.9366 - val_loss: 0.1849 - val_acc: 0.9191\n",
      "Epoch 138/200\n",
      "432000/432000 [==============================] - 43s 99us/step - loss: 0.1127 - acc: 0.9362 - val_loss: 0.1759 - val_acc: 0.9192\n",
      "Epoch 139/200\n",
      "432000/432000 [==============================] - 43s 99us/step - loss: 0.1106 - acc: 0.9366 - val_loss: 0.1705 - val_acc: 0.9219\n",
      "Epoch 140/200\n",
      "432000/432000 [==============================] - 43s 99us/step - loss: 0.1112 - acc: 0.9366 - val_loss: 0.1716 - val_acc: 0.9196\n",
      "Epoch 141/200\n",
      "432000/432000 [==============================] - 43s 99us/step - loss: 0.1101 - acc: 0.9371 - val_loss: 0.1749 - val_acc: 0.9216\n",
      "Epoch 142/200\n",
      "432000/432000 [==============================] - 43s 99us/step - loss: 0.1117 - acc: 0.9365 - val_loss: 0.1734 - val_acc: 0.9216\n",
      "Epoch 143/200\n",
      "432000/432000 [==============================] - 43s 99us/step - loss: 0.1109 - acc: 0.9367 - val_loss: 0.1761 - val_acc: 0.9194\n",
      "Epoch 144/200\n",
      "432000/432000 [==============================] - 43s 99us/step - loss: 0.1092 - acc: 0.9373 - val_loss: 0.1728 - val_acc: 0.9216\n",
      "Epoch 145/200\n",
      "432000/432000 [==============================] - 43s 99us/step - loss: 0.1098 - acc: 0.9369 - val_loss: 0.1726 - val_acc: 0.9220\n",
      "Epoch 146/200\n",
      "432000/432000 [==============================] - 43s 99us/step - loss: 0.1106 - acc: 0.9371 - val_loss: 0.1801 - val_acc: 0.9210\n",
      "Epoch 147/200\n",
      "432000/432000 [==============================] - 43s 99us/step - loss: 0.1103 - acc: 0.9370 - val_loss: 0.1721 - val_acc: 0.9229\n",
      "Epoch 148/200\n",
      "432000/432000 [==============================] - 43s 99us/step - loss: 0.1114 - acc: 0.9364 - val_loss: 0.1719 - val_acc: 0.9216\n",
      "Epoch 149/200\n",
      "432000/432000 [==============================] - 43s 99us/step - loss: 0.1098 - acc: 0.9372 - val_loss: 0.1771 - val_acc: 0.9216\n",
      "Epoch 150/200\n",
      "432000/432000 [==============================] - 43s 99us/step - loss: 0.1083 - acc: 0.9376 - val_loss: 0.1831 - val_acc: 0.9192\n",
      "Epoch 151/200\n",
      "432000/432000 [==============================] - 43s 99us/step - loss: 0.1087 - acc: 0.9376 - val_loss: 0.1767 - val_acc: 0.9222\n",
      "Epoch 152/200\n",
      "432000/432000 [==============================] - 43s 99us/step - loss: 0.1082 - acc: 0.9379 - val_loss: 0.2106 - val_acc: 0.9146\n",
      "Epoch 153/200\n",
      "432000/432000 [==============================] - 43s 99us/step - loss: 0.1085 - acc: 0.9378 - val_loss: 0.1773 - val_acc: 0.9213\n",
      "Epoch 154/200\n",
      "432000/432000 [==============================] - 43s 99us/step - loss: 0.1102 - acc: 0.9373 - val_loss: 0.1748 - val_acc: 0.9219\n",
      "Epoch 155/200\n",
      "432000/432000 [==============================] - 43s 99us/step - loss: 0.1092 - acc: 0.9375 - val_loss: 0.1786 - val_acc: 0.9225\n",
      "Epoch 156/200\n",
      "432000/432000 [==============================] - 43s 99us/step - loss: 0.1102 - acc: 0.9371 - val_loss: 0.1787 - val_acc: 0.9202\n",
      "Epoch 157/200\n",
      "432000/432000 [==============================] - 43s 99us/step - loss: 0.1083 - acc: 0.9379 - val_loss: 0.1759 - val_acc: 0.9222\n",
      "Epoch 158/200\n",
      "432000/432000 [==============================] - 43s 99us/step - loss: 0.1076 - acc: 0.9382 - val_loss: 0.1725 - val_acc: 0.9226\n",
      "Epoch 159/200\n",
      "432000/432000 [==============================] - 43s 99us/step - loss: 0.1074 - acc: 0.9381 - val_loss: 0.1760 - val_acc: 0.9215\n",
      "Epoch 160/200\n",
      "432000/432000 [==============================] - 42s 98us/step - loss: 0.1085 - acc: 0.9377 - val_loss: 0.1726 - val_acc: 0.9223\n",
      "Epoch 161/200\n",
      "432000/432000 [==============================] - 43s 99us/step - loss: 0.1070 - acc: 0.9384 - val_loss: 0.1743 - val_acc: 0.9231\n",
      "Epoch 162/200\n",
      "432000/432000 [==============================] - 43s 99us/step - loss: 0.1071 - acc: 0.9381 - val_loss: 0.1814 - val_acc: 0.9218\n",
      "Epoch 163/200\n",
      "432000/432000 [==============================] - 43s 99us/step - loss: 0.1077 - acc: 0.9381 - val_loss: 0.1807 - val_acc: 0.9219\n",
      "Epoch 164/200\n",
      "432000/432000 [==============================] - 43s 99us/step - loss: 0.1075 - acc: 0.9382 - val_loss: 0.1793 - val_acc: 0.9216\n",
      "Epoch 165/200\n",
      "432000/432000 [==============================] - 43s 99us/step - loss: 0.1078 - acc: 0.9380 - val_loss: 0.1783 - val_acc: 0.9222\n",
      "Epoch 166/200\n",
      "432000/432000 [==============================] - 43s 99us/step - loss: 0.1062 - acc: 0.9386 - val_loss: 0.1738 - val_acc: 0.9229\n",
      "Epoch 167/200\n",
      "432000/432000 [==============================] - 43s 99us/step - loss: 0.1064 - acc: 0.9387 - val_loss: 0.1787 - val_acc: 0.9219\n",
      "Epoch 168/200\n",
      "432000/432000 [==============================] - 43s 99us/step - loss: 0.1067 - acc: 0.9387 - val_loss: 0.1719 - val_acc: 0.9235\n",
      "Epoch 169/200\n",
      "432000/432000 [==============================] - 43s 99us/step - loss: 0.1065 - acc: 0.9386 - val_loss: 0.1757 - val_acc: 0.9228\n",
      "Epoch 170/200\n",
      "432000/432000 [==============================] - 43s 99us/step - loss: 0.1066 - acc: 0.9384 - val_loss: 0.1819 - val_acc: 0.9213\n",
      "Epoch 171/200\n",
      "432000/432000 [==============================] - 43s 99us/step - loss: 0.1070 - acc: 0.9386 - val_loss: 0.1914 - val_acc: 0.9202\n",
      "Epoch 172/200\n",
      "432000/432000 [==============================] - 43s 99us/step - loss: 0.1065 - acc: 0.9383 - val_loss: 0.1764 - val_acc: 0.9225\n",
      "Epoch 173/200\n",
      "432000/432000 [==============================] - 43s 99us/step - loss: 0.1067 - acc: 0.9388 - val_loss: 0.1836 - val_acc: 0.9216\n",
      "Epoch 174/200\n",
      "432000/432000 [==============================] - 43s 98us/step - loss: 0.1068 - acc: 0.9387 - val_loss: 0.1819 - val_acc: 0.9220\n",
      "Epoch 175/200\n",
      "432000/432000 [==============================] - 43s 99us/step - loss: 0.1056 - acc: 0.9388 - val_loss: 0.1813 - val_acc: 0.9219\n",
      "Epoch 176/200\n",
      "432000/432000 [==============================] - 43s 99us/step - loss: 0.1062 - acc: 0.9387 - val_loss: 0.1851 - val_acc: 0.9213\n",
      "Epoch 177/200\n",
      "432000/432000 [==============================] - 43s 99us/step - loss: 0.1054 - acc: 0.9390 - val_loss: 0.1818 - val_acc: 0.9212\n",
      "Epoch 178/200\n",
      "432000/432000 [==============================] - 43s 99us/step - loss: 0.1062 - acc: 0.9386 - val_loss: 0.1734 - val_acc: 0.9233\n",
      "Epoch 179/200\n",
      "432000/432000 [==============================] - 43s 100us/step - loss: 0.1043 - acc: 0.9394 - val_loss: 0.1799 - val_acc: 0.9225\n",
      "Epoch 180/200\n",
      "432000/432000 [==============================] - 43s 99us/step - loss: 0.1059 - acc: 0.9388 - val_loss: 0.1826 - val_acc: 0.9220\n",
      "Epoch 181/200\n",
      "432000/432000 [==============================] - 43s 99us/step - loss: 0.1056 - acc: 0.9392 - val_loss: 0.1813 - val_acc: 0.9211\n",
      "Epoch 182/200\n",
      "432000/432000 [==============================] - 43s 99us/step - loss: 0.1047 - acc: 0.9394 - val_loss: 0.1852 - val_acc: 0.9217\n",
      "Epoch 183/200\n",
      "432000/432000 [==============================] - 43s 99us/step - loss: 0.1051 - acc: 0.9393 - val_loss: 0.1805 - val_acc: 0.9227\n",
      "Epoch 184/200\n",
      "432000/432000 [==============================] - 43s 98us/step - loss: 0.1048 - acc: 0.9392 - val_loss: 0.1903 - val_acc: 0.9210\n",
      "Epoch 185/200\n",
      "432000/432000 [==============================] - 43s 99us/step - loss: 0.1049 - acc: 0.9390 - val_loss: 0.1846 - val_acc: 0.9225\n",
      "Epoch 186/200\n",
      "432000/432000 [==============================] - 43s 98us/step - loss: 0.1068 - acc: 0.9386 - val_loss: 0.1814 - val_acc: 0.9211\n",
      "Epoch 187/200\n",
      "432000/432000 [==============================] - 43s 99us/step - loss: 0.1044 - acc: 0.9394 - val_loss: 0.1828 - val_acc: 0.9219\n",
      "Epoch 188/200\n",
      "432000/432000 [==============================] - 43s 99us/step - loss: 0.1036 - acc: 0.9399 - val_loss: 0.1787 - val_acc: 0.9221\n",
      "Epoch 189/200\n",
      "432000/432000 [==============================] - 43s 99us/step - loss: 0.1045 - acc: 0.9395 - val_loss: 0.1865 - val_acc: 0.9226\n",
      "Epoch 190/200\n",
      "432000/432000 [==============================] - 43s 99us/step - loss: 0.1045 - acc: 0.9394 - val_loss: 0.1784 - val_acc: 0.9227\n",
      "Epoch 191/200\n",
      "432000/432000 [==============================] - 43s 99us/step - loss: 0.1052 - acc: 0.9393 - val_loss: 0.1811 - val_acc: 0.9222\n",
      "Epoch 192/200\n",
      "432000/432000 [==============================] - 43s 99us/step - loss: 0.1045 - acc: 0.9396 - val_loss: 0.1787 - val_acc: 0.9230\n",
      "Epoch 193/200\n",
      "432000/432000 [==============================] - 43s 99us/step - loss: 0.1032 - acc: 0.9401 - val_loss: 0.1869 - val_acc: 0.9219\n",
      "Epoch 194/200\n",
      "432000/432000 [==============================] - 43s 99us/step - loss: 0.1034 - acc: 0.9399 - val_loss: 0.2076 - val_acc: 0.9188\n",
      "Epoch 195/200\n",
      "432000/432000 [==============================] - 43s 99us/step - loss: 0.1059 - acc: 0.9388 - val_loss: 0.1816 - val_acc: 0.9220\n",
      "Epoch 196/200\n",
      "432000/432000 [==============================] - 43s 99us/step - loss: 0.1052 - acc: 0.9393 - val_loss: 0.1810 - val_acc: 0.9232\n",
      "Epoch 197/200\n",
      "432000/432000 [==============================] - 43s 99us/step - loss: 0.1028 - acc: 0.9403 - val_loss: 0.1784 - val_acc: 0.9225\n",
      "Epoch 198/200\n",
      "432000/432000 [==============================] - 43s 99us/step - loss: 0.1032 - acc: 0.9399 - val_loss: 0.1821 - val_acc: 0.9229\n",
      "Epoch 199/200\n",
      "432000/432000 [==============================] - 43s 99us/step - loss: 0.1042 - acc: 0.9395 - val_loss: 0.1828 - val_acc: 0.9221\n",
      "Epoch 200/200\n",
      "432000/432000 [==============================] - 43s 101us/step - loss: 0.1033 - acc: 0.9401 - val_loss: 0.1774 - val_acc: 0.9232\n"
     ]
    }
   ],
   "source": [
    "#Create and train model architecture\n",
    "def cldnn():\n",
    "    model = Sequential()\n",
    "    #FILL THIS IN WITH MODEL ARCHITECTURE\n",
    "    \n",
    "    # Layer 1\n",
    "    model.add(Conv2D(256, (1, 3), \n",
    "              activation=\"relu\", \n",
    "              input_shape=(2, 128,1)))\n",
    "    model.add(Dropout(0.20))\n",
    "    \n",
    "    # Layer 2\n",
    "    model.add(Conv2D(256, (2, 3), \n",
    "              activation=\"relu\"))\n",
    "    \n",
    "    # Layer 3\n",
    "    model.add(Conv2D(80, (1, 3),\n",
    "              activation=\"relu\"))\n",
    "    model.add(Dropout(.20))\n",
    "    \n",
    "    # Layer 4\n",
    "    model.add(Conv2D(80, (1, 3), \n",
    "              activation=\"relu\"))\n",
    "    \n",
    "    # Reshape\n",
    "    model.add(Reshape((16, 600)))\n",
    "    \n",
    "    # LSTM\n",
    "    model.add(LSTM(50))\n",
    "    \n",
    "    # FC Layer 1\n",
    "    model.add(Dense(128, activation=\"relu\",\n",
    "                    kernel_initializer=\"normal\"))\n",
    "    # FC Layer 2\n",
    "    model.add(Dense(10, activation=\"softmax\",\n",
    "                    kernel_initializer=\"normal\"))\n",
    "    \n",
    "    return model\n",
    "\n",
    "#Create instance of CNN model graph\n",
    "obj = cldnn()\n",
    "\n",
    "#Compile model using an appropriate loss and optimizer algorithm\n",
    "#FILL THIS IN\n",
    "obj.compile(loss=\"categorical_crossentropy\",\n",
    "            metrics=['accuracy'],\n",
    "            optimizer=\"adam\")\n",
    "\n",
    "#Train the model and assign training meta-data to a variable\n",
    "#FILL THIS IN\n",
    "hist = obj.fit(X_train, Y_train, \n",
    "                        validation_data=(X_test, Y_test), \n",
    "                        shuffle=True,\n",
    "                        epochs=200, \n",
    "                        batch_size=1536) "
   ]
  },
  {
   "cell_type": "code",
   "execution_count": 31,
   "metadata": {
    "ExecuteTime": {
     "end_time": "2020-09-21T15:03:48.997865Z",
     "start_time": "2020-09-21T15:02:47.731568Z"
    },
    "colab": {},
    "colab_type": "code",
    "id": "FWjIxEpGgsrY"
   },
   "outputs": [
    {
     "name": "stdout",
     "output_type": "stream",
     "text": [
      "108000/108000 [==============================] - 5s 47us/step\n",
      "Test Accuracy: 92.32%\n"
     ]
    }
   ],
   "source": [
    "#Print accuracy of model on testing set after training \n",
    "#FILL THIS IN\n",
    "[test_loss,test_acc] = obj.evaluate(X_test, Y_test, \n",
    "                                    batch_size = 512)\n",
    "print(\"Test Accuracy: {:0.2f}%\".format(test_acc*100))"
   ]
  },
  {
   "cell_type": "code",
   "execution_count": 49,
   "metadata": {
    "colab": {},
    "colab_type": "code",
    "id": "HmeOrC3igzR1"
   },
   "outputs": [
    {
     "data": {
      "image/png": "[encoded data removed]",
      "text/plain": [
       "<matplotlib.figure.Figure at 0x2ac886de1690>"
      ]
     },
     "metadata": {},
     "output_type": "display_data"
    }
   ],
   "source": [
    "#Plot accuracy vs epoch\n",
    "#FILL THIS CODE BLOCK IN AND PRODUCE PLOT\n",
    "plt.plot(range(1,201),hist.history['acc'])\n",
    "plt.plot(range(1,201),hist.history['val_acc'])\n",
    "plt.title(\"Accuracy vs Epoch\")\n",
    "plt.xlabel(\"Epochs\")\n",
    "plt.ylim(0,1)\n",
    "plt.ylabel(\"Accuracies\")\n",
    "plt.legend(['Training Accuracy','Validation Accuracy'])\n",
    "plt.grid(True)"
   ]
  },
  {
   "cell_type": "code",
   "execution_count": 40,
   "metadata": {
    "colab": {},
    "colab_type": "code",
    "id": "8wdPg2GJg28R"
   },
   "outputs": [
    {
     "data": {
      "image/png": "[encoded data removed]",
      "text/plain": [
       "<matplotlib.figure.Figure at 0x2ac886745d90>"
      ]
     },
     "metadata": {},
     "output_type": "display_data"
    }
   ],
   "source": [
    "#Plot loss vs epoch\n",
    "#FILL THIS CODE BLOCK IN AND PRODUCE PLOT\n",
    "plt.plot(range(1,201),hist.history['loss'])\n",
    "plt.plot(range(1,201),hist.history['val_loss'])\n",
    "plt.title(\"Loss vs Epoch\")\n",
    "plt.xlabel(\"Epochs\")\n",
    "plt.ylabel(\"Loss\")\n",
    "plt.legend(['Training Loss','Validation Loss'])\n",
    "plt.grid(True)"
   ]
  },
  {
   "cell_type": "markdown",
   "metadata": {
    "colab_type": "text",
    "id": "cOeEmHptEwwU"
   },
   "source": [
    "Answer the following questions: \n",
    "\n",
    "\n",
    "\n",
    "1.   Is this model a good fit for the data?  \n",
    "\n",
    "  ANS: \n",
    "\n",
    "2.   Give two ways to improve the robustness of the model.\n",
    "\n",
    "  ANS: "
   ]
  }
 ],
 "metadata": {
  "accelerator": "GPU",
  "colab": {
   "collapsed_sections": [],
   "name": "Project_1_Student_code.ipynb",
   "provenance": [],
   "toc_visible": true
  },
  "kernelspec": {
   "display_name": "Python 2.7 - Learning [learning/conda-5.1.0-py27-gpu]",
   "language": "python",
   "name": "sys_learning27"
  },
  "language_info": {
   "codemirror_mode": {
    "name": "ipython",
    "version": 2
   },
   "file_extension": ".py",
   "mimetype": "text/x-python",
   "name": "python",
   "nbconvert_exporter": "python",
   "pygments_lexer": "ipython2",
   "version": "2.7.14"
  },
  "varInspector": {
   "cols": {
    "lenName": 16,
    "lenType": 16,
    "lenVar": 40
   },
   "kernels_config": {
    "python": {
     "delete_cmd_postfix": "",
     "delete_cmd_prefix": "del ",
     "library": "var_list.py",
     "varRefreshCmd": "print(var_dic_list())"
    },
    "r": {
     "delete_cmd_postfix": ") ",
     "delete_cmd_prefix": "rm(",
     "library": "var_list.r",
     "varRefreshCmd": "cat(var_dic_list()) "
    }
   },
   "position": {
    "height": "144px",
    "left": "1229px",
    "right": "20px",
    "top": "122px",
    "width": "350px"
   },
   "types_to_exclude": [
    "module",
    "function",
    "builtin_function_or_method",
    "instance",
    "_Feature"
   ],
   "window_display": false
  }
 },
 "nbformat": 4,
 "nbformat_minor": 1
}
